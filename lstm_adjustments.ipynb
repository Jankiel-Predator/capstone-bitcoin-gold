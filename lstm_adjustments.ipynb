{
  "nbformat": 4,
  "nbformat_minor": 0,
  "metadata": {
    "colab": {
      "provenance": []
    },
    "kernelspec": {
      "name": "python3",
      "display_name": "Python 3"
    },
    "language_info": {
      "name": "python"
    }
  },
  "cells": [
    {
      "cell_type": "code",
      "execution_count": 278,
      "metadata": {
        "id": "Tv1EPDMs03Gq"
      },
      "outputs": [],
      "source": [
        "import numpy as np\n",
        "import pandas as pd\n",
        "import matplotlib.pyplot as plt\n",
        "from xgboost import XGBRegressor\n",
        "\n",
        "from sklearn.preprocessing import MinMaxScaler, StandardScaler\n",
        "from sklearn.metrics import mean_squared_error, mean_squared_log_error, \\\n",
        "                            r2_score, mean_absolute_error\n",
        "\n",
        "from tensorflow.keras.models import Sequential, load_model\n",
        "from tensorflow.keras.layers import Dense, LSTM, Dropout, GRU, Bidirectional\n",
        "from tensorflow.keras.optimizers import SGD, Adam, RMSprop\n",
        "from tensorflow.random import set_seed\n",
        "from tensorflow.keras.callbacks import EarlyStopping, ModelCheckpoint\n",
        "\n",
        "set_seed(455)\n",
        "np.random.seed(455)"
      ]
    },
    {
      "cell_type": "code",
      "source": [
        "def evaluate_model(test, predicted):\n",
        "    rmse = np.sqrt(mean_squared_error(test, predicted))\n",
        "    mae = mean_absolute_error(test, predicted)\n",
        "    r2 = r2_score(test, predicted)\n",
        "    msle = mean_squared_log_error(test, predicted)\n",
        "    mape = np.mean(np.abs((test - predicted) / test)) * 100\n",
        "\n",
        "    print(f\"The root mean squared error (RMSE) is {rmse:.2f}\")\n",
        "    print(f\"The Mean Absolute Error (MAE) is {mae:.2f}\")\n",
        "    print(f\"The R-squared (R²) score is {r2:.4f}\\n\")\n",
        "    print(f\"The Mean Squared Logarithmic Error (MSLE) is {msle:.6f}\")\n",
        "    print(f\"The Mean Absolute Percentage Error (MAPE) is {mape:.2f}%.\")"
      ],
      "metadata": {
        "id": "n_1RVgfcG5Ew"
      },
      "execution_count": 279,
      "outputs": []
    },
    {
      "cell_type": "code",
      "source": [
        "def plot_predictions(test, predicted):\n",
        "    plt.figure(figsize=(16, 9))\n",
        "    plt.plot(test, color=\"gray\", label=\"Real\")\n",
        "    plt.plot(predicted, color=\"red\", label=\"Predicted\")\n",
        "    plt.title(\"Bitcoin Price Prediction\")\n",
        "    plt.xlabel(\"Time\")\n",
        "    plt.ylabel(\"Bitcoin Price ($)\")\n",
        "    plt.legend()\n",
        "    plt.show()"
      ],
      "metadata": {
        "id": "slFGfvsdG9t4"
      },
      "execution_count": 280,
      "outputs": []
    },
    {
      "cell_type": "code",
      "source": [
        "dataset = pd.read_csv('bitcoin_preprocessed.csv', parse_dates=['Date'], index_col = \"Date\")"
      ],
      "metadata": {
        "id": "Py0p6MQF06b3"
      },
      "execution_count": 281,
      "outputs": []
    },
    {
      "cell_type": "code",
      "source": [
        "dataset"
      ],
      "metadata": {
        "colab": {
          "base_uri": "https://localhost:8080/",
          "height": 455
        },
        "id": "KE-ibqZoLu03",
        "outputId": "d7c3936f-0164-443e-a2cd-cb3f1d0c5159"
      },
      "execution_count": 282,
      "outputs": [
        {
          "output_type": "execute_result",
          "data": {
            "text/plain": [
              "              Close     Open     High      Low    Volume Change %   Average\n",
              "Date                                                                       \n",
              "2010-07-18      0.1      0.0      0.1      0.1      80.0    0.00%      0.10\n",
              "2010-07-19      0.1      0.1      0.1      0.1     570.0    0.00%      0.10\n",
              "2010-07-20      0.1      0.1      0.1      0.1     260.0    0.00%      0.10\n",
              "2010-07-21      0.1      0.1      0.1      0.1     580.0    0.00%      0.10\n",
              "2010-07-22      0.1      0.1      0.1      0.1    2160.0    0.00%      0.10\n",
              "...             ...      ...      ...      ...       ...      ...       ...\n",
              "2024-12-28  95284.5  94274.9  95684.3  94124.7   32970.0    1.07%  94904.50\n",
              "2024-12-29  93716.3  95282.6  95315.4  93026.7   47710.0   -1.65%  94171.05\n",
              "2024-12-30  92779.8  93718.7  94936.4  91522.3  112430.0   -1.00%  93229.35\n",
              "2024-12-31  93557.2  92777.2  96163.4  92036.2   74850.0    0.84%  94099.80\n",
              "2025-01-01  94560.2  93557.3  95100.0  92939.3   43340.0    1.07%  94019.65\n",
              "\n",
              "[5282 rows x 7 columns]"
            ],
            "text/html": [
              "\n",
              "  <div id=\"df-0e68d6e5-4329-4a43-8509-8e8be09ec5fa\" class=\"colab-df-container\">\n",
              "    <div>\n",
              "<style scoped>\n",
              "    .dataframe tbody tr th:only-of-type {\n",
              "        vertical-align: middle;\n",
              "    }\n",
              "\n",
              "    .dataframe tbody tr th {\n",
              "        vertical-align: top;\n",
              "    }\n",
              "\n",
              "    .dataframe thead th {\n",
              "        text-align: right;\n",
              "    }\n",
              "</style>\n",
              "<table border=\"1\" class=\"dataframe\">\n",
              "  <thead>\n",
              "    <tr style=\"text-align: right;\">\n",
              "      <th></th>\n",
              "      <th>Close</th>\n",
              "      <th>Open</th>\n",
              "      <th>High</th>\n",
              "      <th>Low</th>\n",
              "      <th>Volume</th>\n",
              "      <th>Change %</th>\n",
              "      <th>Average</th>\n",
              "    </tr>\n",
              "    <tr>\n",
              "      <th>Date</th>\n",
              "      <th></th>\n",
              "      <th></th>\n",
              "      <th></th>\n",
              "      <th></th>\n",
              "      <th></th>\n",
              "      <th></th>\n",
              "      <th></th>\n",
              "    </tr>\n",
              "  </thead>\n",
              "  <tbody>\n",
              "    <tr>\n",
              "      <th>2010-07-18</th>\n",
              "      <td>0.1</td>\n",
              "      <td>0.0</td>\n",
              "      <td>0.1</td>\n",
              "      <td>0.1</td>\n",
              "      <td>80.0</td>\n",
              "      <td>0.00%</td>\n",
              "      <td>0.10</td>\n",
              "    </tr>\n",
              "    <tr>\n",
              "      <th>2010-07-19</th>\n",
              "      <td>0.1</td>\n",
              "      <td>0.1</td>\n",
              "      <td>0.1</td>\n",
              "      <td>0.1</td>\n",
              "      <td>570.0</td>\n",
              "      <td>0.00%</td>\n",
              "      <td>0.10</td>\n",
              "    </tr>\n",
              "    <tr>\n",
              "      <th>2010-07-20</th>\n",
              "      <td>0.1</td>\n",
              "      <td>0.1</td>\n",
              "      <td>0.1</td>\n",
              "      <td>0.1</td>\n",
              "      <td>260.0</td>\n",
              "      <td>0.00%</td>\n",
              "      <td>0.10</td>\n",
              "    </tr>\n",
              "    <tr>\n",
              "      <th>2010-07-21</th>\n",
              "      <td>0.1</td>\n",
              "      <td>0.1</td>\n",
              "      <td>0.1</td>\n",
              "      <td>0.1</td>\n",
              "      <td>580.0</td>\n",
              "      <td>0.00%</td>\n",
              "      <td>0.10</td>\n",
              "    </tr>\n",
              "    <tr>\n",
              "      <th>2010-07-22</th>\n",
              "      <td>0.1</td>\n",
              "      <td>0.1</td>\n",
              "      <td>0.1</td>\n",
              "      <td>0.1</td>\n",
              "      <td>2160.0</td>\n",
              "      <td>0.00%</td>\n",
              "      <td>0.10</td>\n",
              "    </tr>\n",
              "    <tr>\n",
              "      <th>...</th>\n",
              "      <td>...</td>\n",
              "      <td>...</td>\n",
              "      <td>...</td>\n",
              "      <td>...</td>\n",
              "      <td>...</td>\n",
              "      <td>...</td>\n",
              "      <td>...</td>\n",
              "    </tr>\n",
              "    <tr>\n",
              "      <th>2024-12-28</th>\n",
              "      <td>95284.5</td>\n",
              "      <td>94274.9</td>\n",
              "      <td>95684.3</td>\n",
              "      <td>94124.7</td>\n",
              "      <td>32970.0</td>\n",
              "      <td>1.07%</td>\n",
              "      <td>94904.50</td>\n",
              "    </tr>\n",
              "    <tr>\n",
              "      <th>2024-12-29</th>\n",
              "      <td>93716.3</td>\n",
              "      <td>95282.6</td>\n",
              "      <td>95315.4</td>\n",
              "      <td>93026.7</td>\n",
              "      <td>47710.0</td>\n",
              "      <td>-1.65%</td>\n",
              "      <td>94171.05</td>\n",
              "    </tr>\n",
              "    <tr>\n",
              "      <th>2024-12-30</th>\n",
              "      <td>92779.8</td>\n",
              "      <td>93718.7</td>\n",
              "      <td>94936.4</td>\n",
              "      <td>91522.3</td>\n",
              "      <td>112430.0</td>\n",
              "      <td>-1.00%</td>\n",
              "      <td>93229.35</td>\n",
              "    </tr>\n",
              "    <tr>\n",
              "      <th>2024-12-31</th>\n",
              "      <td>93557.2</td>\n",
              "      <td>92777.2</td>\n",
              "      <td>96163.4</td>\n",
              "      <td>92036.2</td>\n",
              "      <td>74850.0</td>\n",
              "      <td>0.84%</td>\n",
              "      <td>94099.80</td>\n",
              "    </tr>\n",
              "    <tr>\n",
              "      <th>2025-01-01</th>\n",
              "      <td>94560.2</td>\n",
              "      <td>93557.3</td>\n",
              "      <td>95100.0</td>\n",
              "      <td>92939.3</td>\n",
              "      <td>43340.0</td>\n",
              "      <td>1.07%</td>\n",
              "      <td>94019.65</td>\n",
              "    </tr>\n",
              "  </tbody>\n",
              "</table>\n",
              "<p>5282 rows × 7 columns</p>\n",
              "</div>\n",
              "    <div class=\"colab-df-buttons\">\n",
              "\n",
              "  <div class=\"colab-df-container\">\n",
              "    <button class=\"colab-df-convert\" onclick=\"convertToInteractive('df-0e68d6e5-4329-4a43-8509-8e8be09ec5fa')\"\n",
              "            title=\"Convert this dataframe to an interactive table.\"\n",
              "            style=\"display:none;\">\n",
              "\n",
              "  <svg xmlns=\"http://www.w3.org/2000/svg\" height=\"24px\" viewBox=\"0 -960 960 960\">\n",
              "    <path d=\"M120-120v-720h720v720H120Zm60-500h600v-160H180v160Zm220 220h160v-160H400v160Zm0 220h160v-160H400v160ZM180-400h160v-160H180v160Zm440 0h160v-160H620v160ZM180-180h160v-160H180v160Zm440 0h160v-160H620v160Z\"/>\n",
              "  </svg>\n",
              "    </button>\n",
              "\n",
              "  <style>\n",
              "    .colab-df-container {\n",
              "      display:flex;\n",
              "      gap: 12px;\n",
              "    }\n",
              "\n",
              "    .colab-df-convert {\n",
              "      background-color: #E8F0FE;\n",
              "      border: none;\n",
              "      border-radius: 50%;\n",
              "      cursor: pointer;\n",
              "      display: none;\n",
              "      fill: #1967D2;\n",
              "      height: 32px;\n",
              "      padding: 0 0 0 0;\n",
              "      width: 32px;\n",
              "    }\n",
              "\n",
              "    .colab-df-convert:hover {\n",
              "      background-color: #E2EBFA;\n",
              "      box-shadow: 0px 1px 2px rgba(60, 64, 67, 0.3), 0px 1px 3px 1px rgba(60, 64, 67, 0.15);\n",
              "      fill: #174EA6;\n",
              "    }\n",
              "\n",
              "    .colab-df-buttons div {\n",
              "      margin-bottom: 4px;\n",
              "    }\n",
              "\n",
              "    [theme=dark] .colab-df-convert {\n",
              "      background-color: #3B4455;\n",
              "      fill: #D2E3FC;\n",
              "    }\n",
              "\n",
              "    [theme=dark] .colab-df-convert:hover {\n",
              "      background-color: #434B5C;\n",
              "      box-shadow: 0px 1px 3px 1px rgba(0, 0, 0, 0.15);\n",
              "      filter: drop-shadow(0px 1px 2px rgba(0, 0, 0, 0.3));\n",
              "      fill: #FFFFFF;\n",
              "    }\n",
              "  </style>\n",
              "\n",
              "    <script>\n",
              "      const buttonEl =\n",
              "        document.querySelector('#df-0e68d6e5-4329-4a43-8509-8e8be09ec5fa button.colab-df-convert');\n",
              "      buttonEl.style.display =\n",
              "        google.colab.kernel.accessAllowed ? 'block' : 'none';\n",
              "\n",
              "      async function convertToInteractive(key) {\n",
              "        const element = document.querySelector('#df-0e68d6e5-4329-4a43-8509-8e8be09ec5fa');\n",
              "        const dataTable =\n",
              "          await google.colab.kernel.invokeFunction('convertToInteractive',\n",
              "                                                    [key], {});\n",
              "        if (!dataTable) return;\n",
              "\n",
              "        const docLinkHtml = 'Like what you see? Visit the ' +\n",
              "          '<a target=\"_blank\" href=https://colab.research.google.com/notebooks/data_table.ipynb>data table notebook</a>'\n",
              "          + ' to learn more about interactive tables.';\n",
              "        element.innerHTML = '';\n",
              "        dataTable['output_type'] = 'display_data';\n",
              "        await google.colab.output.renderOutput(dataTable, element);\n",
              "        const docLink = document.createElement('div');\n",
              "        docLink.innerHTML = docLinkHtml;\n",
              "        element.appendChild(docLink);\n",
              "      }\n",
              "    </script>\n",
              "  </div>\n",
              "\n",
              "\n",
              "<div id=\"df-7a9cf629-dbbe-4eb5-8af9-0a9e3970709d\">\n",
              "  <button class=\"colab-df-quickchart\" onclick=\"quickchart('df-7a9cf629-dbbe-4eb5-8af9-0a9e3970709d')\"\n",
              "            title=\"Suggest charts\"\n",
              "            style=\"display:none;\">\n",
              "\n",
              "<svg xmlns=\"http://www.w3.org/2000/svg\" height=\"24px\"viewBox=\"0 0 24 24\"\n",
              "     width=\"24px\">\n",
              "    <g>\n",
              "        <path d=\"M19 3H5c-1.1 0-2 .9-2 2v14c0 1.1.9 2 2 2h14c1.1 0 2-.9 2-2V5c0-1.1-.9-2-2-2zM9 17H7v-7h2v7zm4 0h-2V7h2v10zm4 0h-2v-4h2v4z\"/>\n",
              "    </g>\n",
              "</svg>\n",
              "  </button>\n",
              "\n",
              "<style>\n",
              "  .colab-df-quickchart {\n",
              "      --bg-color: #E8F0FE;\n",
              "      --fill-color: #1967D2;\n",
              "      --hover-bg-color: #E2EBFA;\n",
              "      --hover-fill-color: #174EA6;\n",
              "      --disabled-fill-color: #AAA;\n",
              "      --disabled-bg-color: #DDD;\n",
              "  }\n",
              "\n",
              "  [theme=dark] .colab-df-quickchart {\n",
              "      --bg-color: #3B4455;\n",
              "      --fill-color: #D2E3FC;\n",
              "      --hover-bg-color: #434B5C;\n",
              "      --hover-fill-color: #FFFFFF;\n",
              "      --disabled-bg-color: #3B4455;\n",
              "      --disabled-fill-color: #666;\n",
              "  }\n",
              "\n",
              "  .colab-df-quickchart {\n",
              "    background-color: var(--bg-color);\n",
              "    border: none;\n",
              "    border-radius: 50%;\n",
              "    cursor: pointer;\n",
              "    display: none;\n",
              "    fill: var(--fill-color);\n",
              "    height: 32px;\n",
              "    padding: 0;\n",
              "    width: 32px;\n",
              "  }\n",
              "\n",
              "  .colab-df-quickchart:hover {\n",
              "    background-color: var(--hover-bg-color);\n",
              "    box-shadow: 0 1px 2px rgba(60, 64, 67, 0.3), 0 1px 3px 1px rgba(60, 64, 67, 0.15);\n",
              "    fill: var(--button-hover-fill-color);\n",
              "  }\n",
              "\n",
              "  .colab-df-quickchart-complete:disabled,\n",
              "  .colab-df-quickchart-complete:disabled:hover {\n",
              "    background-color: var(--disabled-bg-color);\n",
              "    fill: var(--disabled-fill-color);\n",
              "    box-shadow: none;\n",
              "  }\n",
              "\n",
              "  .colab-df-spinner {\n",
              "    border: 2px solid var(--fill-color);\n",
              "    border-color: transparent;\n",
              "    border-bottom-color: var(--fill-color);\n",
              "    animation:\n",
              "      spin 1s steps(1) infinite;\n",
              "  }\n",
              "\n",
              "  @keyframes spin {\n",
              "    0% {\n",
              "      border-color: transparent;\n",
              "      border-bottom-color: var(--fill-color);\n",
              "      border-left-color: var(--fill-color);\n",
              "    }\n",
              "    20% {\n",
              "      border-color: transparent;\n",
              "      border-left-color: var(--fill-color);\n",
              "      border-top-color: var(--fill-color);\n",
              "    }\n",
              "    30% {\n",
              "      border-color: transparent;\n",
              "      border-left-color: var(--fill-color);\n",
              "      border-top-color: var(--fill-color);\n",
              "      border-right-color: var(--fill-color);\n",
              "    }\n",
              "    40% {\n",
              "      border-color: transparent;\n",
              "      border-right-color: var(--fill-color);\n",
              "      border-top-color: var(--fill-color);\n",
              "    }\n",
              "    60% {\n",
              "      border-color: transparent;\n",
              "      border-right-color: var(--fill-color);\n",
              "    }\n",
              "    80% {\n",
              "      border-color: transparent;\n",
              "      border-right-color: var(--fill-color);\n",
              "      border-bottom-color: var(--fill-color);\n",
              "    }\n",
              "    90% {\n",
              "      border-color: transparent;\n",
              "      border-bottom-color: var(--fill-color);\n",
              "    }\n",
              "  }\n",
              "</style>\n",
              "\n",
              "  <script>\n",
              "    async function quickchart(key) {\n",
              "      const quickchartButtonEl =\n",
              "        document.querySelector('#' + key + ' button');\n",
              "      quickchartButtonEl.disabled = true;  // To prevent multiple clicks.\n",
              "      quickchartButtonEl.classList.add('colab-df-spinner');\n",
              "      try {\n",
              "        const charts = await google.colab.kernel.invokeFunction(\n",
              "            'suggestCharts', [key], {});\n",
              "      } catch (error) {\n",
              "        console.error('Error during call to suggestCharts:', error);\n",
              "      }\n",
              "      quickchartButtonEl.classList.remove('colab-df-spinner');\n",
              "      quickchartButtonEl.classList.add('colab-df-quickchart-complete');\n",
              "    }\n",
              "    (() => {\n",
              "      let quickchartButtonEl =\n",
              "        document.querySelector('#df-7a9cf629-dbbe-4eb5-8af9-0a9e3970709d button');\n",
              "      quickchartButtonEl.style.display =\n",
              "        google.colab.kernel.accessAllowed ? 'block' : 'none';\n",
              "    })();\n",
              "  </script>\n",
              "</div>\n",
              "\n",
              "  <div id=\"id_51687e92-6770-45f4-a328-be9b5a054394\">\n",
              "    <style>\n",
              "      .colab-df-generate {\n",
              "        background-color: #E8F0FE;\n",
              "        border: none;\n",
              "        border-radius: 50%;\n",
              "        cursor: pointer;\n",
              "        display: none;\n",
              "        fill: #1967D2;\n",
              "        height: 32px;\n",
              "        padding: 0 0 0 0;\n",
              "        width: 32px;\n",
              "      }\n",
              "\n",
              "      .colab-df-generate:hover {\n",
              "        background-color: #E2EBFA;\n",
              "        box-shadow: 0px 1px 2px rgba(60, 64, 67, 0.3), 0px 1px 3px 1px rgba(60, 64, 67, 0.15);\n",
              "        fill: #174EA6;\n",
              "      }\n",
              "\n",
              "      [theme=dark] .colab-df-generate {\n",
              "        background-color: #3B4455;\n",
              "        fill: #D2E3FC;\n",
              "      }\n",
              "\n",
              "      [theme=dark] .colab-df-generate:hover {\n",
              "        background-color: #434B5C;\n",
              "        box-shadow: 0px 1px 3px 1px rgba(0, 0, 0, 0.15);\n",
              "        filter: drop-shadow(0px 1px 2px rgba(0, 0, 0, 0.3));\n",
              "        fill: #FFFFFF;\n",
              "      }\n",
              "    </style>\n",
              "    <button class=\"colab-df-generate\" onclick=\"generateWithVariable('dataset')\"\n",
              "            title=\"Generate code using this dataframe.\"\n",
              "            style=\"display:none;\">\n",
              "\n",
              "  <svg xmlns=\"http://www.w3.org/2000/svg\" height=\"24px\"viewBox=\"0 0 24 24\"\n",
              "       width=\"24px\">\n",
              "    <path d=\"M7,19H8.4L18.45,9,17,7.55,7,17.6ZM5,21V16.75L18.45,3.32a2,2,0,0,1,2.83,0l1.4,1.43a1.91,1.91,0,0,1,.58,1.4,1.91,1.91,0,0,1-.58,1.4L9.25,21ZM18.45,9,17,7.55Zm-12,3A5.31,5.31,0,0,0,4.9,8.1,5.31,5.31,0,0,0,1,6.5,5.31,5.31,0,0,0,4.9,4.9,5.31,5.31,0,0,0,6.5,1,5.31,5.31,0,0,0,8.1,4.9,5.31,5.31,0,0,0,12,6.5,5.46,5.46,0,0,0,6.5,12Z\"/>\n",
              "  </svg>\n",
              "    </button>\n",
              "    <script>\n",
              "      (() => {\n",
              "      const buttonEl =\n",
              "        document.querySelector('#id_51687e92-6770-45f4-a328-be9b5a054394 button.colab-df-generate');\n",
              "      buttonEl.style.display =\n",
              "        google.colab.kernel.accessAllowed ? 'block' : 'none';\n",
              "\n",
              "      buttonEl.onclick = () => {\n",
              "        google.colab.notebook.generateWithVariable('dataset');\n",
              "      }\n",
              "      })();\n",
              "    </script>\n",
              "  </div>\n",
              "\n",
              "    </div>\n",
              "  </div>\n"
            ],
            "application/vnd.google.colaboratory.intrinsic+json": {
              "type": "dataframe",
              "variable_name": "dataset",
              "summary": "{\n  \"name\": \"dataset\",\n  \"rows\": 5282,\n  \"fields\": [\n    {\n      \"column\": \"Date\",\n      \"properties\": {\n        \"dtype\": \"date\",\n        \"min\": \"2010-07-18 00:00:00\",\n        \"max\": \"2025-01-01 00:00:00\",\n        \"num_unique_values\": 5282,\n        \"samples\": [\n          \"2014-07-05 00:00:00\",\n          \"2023-08-31 00:00:00\",\n          \"2010-07-26 00:00:00\"\n        ],\n        \"semantic_type\": \"\",\n        \"description\": \"\"\n      }\n    },\n    {\n      \"column\": \"Close\",\n      \"properties\": {\n        \"dtype\": \"number\",\n        \"std\": 20663.596559535723,\n        \"min\": 0.1,\n        \"max\": 106138.9,\n        \"num_unique_values\": 4327,\n        \"samples\": [\n          8127.3,\n          1013.0,\n          6427.1\n        ],\n        \"semantic_type\": \"\",\n        \"description\": \"\"\n      }\n    },\n    {\n      \"column\": \"Open\",\n      \"properties\": {\n        \"dtype\": \"number\",\n        \"std\": 20634.79651317963,\n        \"min\": 0.0,\n        \"max\": 106140.7,\n        \"num_unique_values\": 4320,\n        \"samples\": [\n          884.3,\n          5.3,\n          8118.1\n        ],\n        \"semantic_type\": \"\",\n        \"description\": \"\"\n      }\n    },\n    {\n      \"column\": \"High\",\n      \"properties\": {\n        \"dtype\": \"number\",\n        \"std\": 21096.208461019043,\n        \"min\": 0.1,\n        \"max\": 108244.9,\n        \"num_unique_values\": 4315,\n        \"samples\": [\n          29409.8,\n          7264.3,\n          7694.5\n        ],\n        \"semantic_type\": \"\",\n        \"description\": \"\"\n      }\n    },\n    {\n      \"column\": \"Low\",\n      \"properties\": {\n        \"dtype\": \"number\",\n        \"std\": 20162.686269815764,\n        \"min\": 0.0,\n        \"max\": 105350.6,\n        \"num_unique_values\": 4324,\n        \"samples\": [\n          3243.1,\n          2.2,\n          28164.4\n        ],\n        \"semantic_type\": \"\",\n        \"description\": \"\"\n      }\n    },\n    {\n      \"column\": \"Volume\",\n      \"properties\": {\n        \"dtype\": \"number\",\n        \"std\": 150707720.70442337,\n        \"min\": 0.0,\n        \"max\": 4470000000.0,\n        \"num_unique_values\": 4653,\n        \"samples\": [\n          17680.0,\n          348990.0,\n          125170.0\n        ],\n        \"semantic_type\": \"\",\n        \"description\": \"\"\n      }\n    },\n    {\n      \"column\": \"Change %\",\n      \"properties\": {\n        \"dtype\": \"category\",\n        \"num_unique_values\": 1567,\n        \"samples\": [\n          \"-3.80%\",\n          \"-16.69%\",\n          \"-3.78%\"\n        ],\n        \"semantic_type\": \"\",\n        \"description\": \"\"\n      }\n    },\n    {\n      \"column\": \"Average\",\n      \"properties\": {\n        \"dtype\": \"number\",\n        \"std\": 20626.123003307228,\n        \"min\": 0.05,\n        \"max\": 106797.75,\n        \"num_unique_values\": 4546,\n        \"samples\": [\n          111.05,\n          15947.5,\n          1.85\n        ],\n        \"semantic_type\": \"\",\n        \"description\": \"\"\n      }\n    }\n  ]\n}"
            }
          },
          "metadata": {},
          "execution_count": 282
        }
      ]
    },
    {
      "cell_type": "code",
      "source": [
        "dataset.info()"
      ],
      "metadata": {
        "colab": {
          "base_uri": "https://localhost:8080/"
        },
        "id": "QgmAKXBp9N5x",
        "outputId": "6b53a193-f5fa-4d86-eb0b-0eba916b8848"
      },
      "execution_count": 283,
      "outputs": [
        {
          "output_type": "stream",
          "name": "stdout",
          "text": [
            "<class 'pandas.core.frame.DataFrame'>\n",
            "DatetimeIndex: 5282 entries, 2010-07-18 to 2025-01-01\n",
            "Data columns (total 7 columns):\n",
            " #   Column    Non-Null Count  Dtype  \n",
            "---  ------    --------------  -----  \n",
            " 0   Close     5282 non-null   float64\n",
            " 1   Open      5282 non-null   float64\n",
            " 2   High      5282 non-null   float64\n",
            " 3   Low       5282 non-null   float64\n",
            " 4   Volume    5282 non-null   float64\n",
            " 5   Change %  5282 non-null   object \n",
            " 6   Average   5282 non-null   float64\n",
            "dtypes: float64(6), object(1)\n",
            "memory usage: 330.1+ KB\n"
          ]
        }
      ]
    },
    {
      "cell_type": "code",
      "source": [
        "dataset.shape"
      ],
      "metadata": {
        "colab": {
          "base_uri": "https://localhost:8080/"
        },
        "id": "7nFaCuVMILY7",
        "outputId": "2db37d1d-aa55-45f1-db8f-a0b551dfe10a"
      },
      "execution_count": 284,
      "outputs": [
        {
          "output_type": "execute_result",
          "data": {
            "text/plain": [
              "(5282, 7)"
            ]
          },
          "metadata": {},
          "execution_count": 284
        }
      ]
    },
    {
      "cell_type": "code",
      "source": [
        "# Create Moving Averages (Feature Engineering)\n",
        "#dataset[\"SMA_10\"] = dataset[\"Close\"].rolling(window=10).mean()\n",
        "#dataset[\"EMA_10\"] = dataset[\"Close\"].ewm(span=10, adjust=False).mean()\n",
        "\n",
        "# Drop NaN values from moving averages\n",
        "#dataset.dropna(inplace=True)\n",
        "\n",
        "# Define training and testing periods\n",
        "tstart = \"2017-06-01\"\n",
        "tend = \"2024-10-01\""
      ],
      "metadata": {
        "id": "qr30ivVX1HGL"
      },
      "execution_count": 285,
      "outputs": []
    },
    {
      "cell_type": "code",
      "source": [
        "def train_test_split(dataset, tstart, tend):\n",
        "    tend_next = pd.to_datetime(tend) + pd.Timedelta(days=1)\n",
        "\n",
        "    train = dataset.loc[tstart:tend, \"Close\"].values\n",
        "    test = dataset.loc[tend_next:, \"Close\"].values\n",
        "    return train, test\n",
        "\n",
        "training_set, test_set = train_test_split(dataset, tstart, tend)"
      ],
      "metadata": {
        "id": "P8GF7az-1y0N"
      },
      "execution_count": 286,
      "outputs": []
    },
    {
      "cell_type": "code",
      "source": [
        "len(training_set)"
      ],
      "metadata": {
        "colab": {
          "base_uri": "https://localhost:8080/"
        },
        "id": "Ty4FufDRIGuT",
        "outputId": "a9b5b8f9-66f6-46f3-a717-bf45e65b73ca"
      },
      "execution_count": 287,
      "outputs": [
        {
          "output_type": "execute_result",
          "data": {
            "text/plain": [
              "2680"
            ]
          },
          "metadata": {},
          "execution_count": 287
        }
      ]
    },
    {
      "cell_type": "code",
      "source": [
        "len(test_set)"
      ],
      "metadata": {
        "colab": {
          "base_uri": "https://localhost:8080/"
        },
        "id": "PZeMlmS0Hxzl",
        "outputId": "64bb9fb0-7e12-4c46-8fa4-070e6531dfff"
      },
      "execution_count": 288,
      "outputs": [
        {
          "output_type": "execute_result",
          "data": {
            "text/plain": [
              "92"
            ]
          },
          "metadata": {},
          "execution_count": 288
        }
      ]
    },
    {
      "cell_type": "code",
      "source": [
        "sc = MinMaxScaler()\n",
        "training_set = training_set.reshape(-1, 1)\n",
        "training_set_scaled = sc.fit_transform(training_set)"
      ],
      "metadata": {
        "id": "GXi7FbP51zrI"
      },
      "execution_count": 289,
      "outputs": []
    },
    {
      "cell_type": "code",
      "source": [
        "training_set_scaled"
      ],
      "metadata": {
        "colab": {
          "base_uri": "https://localhost:8080/"
        },
        "id": "1WLCdtIiI80M",
        "outputId": "cc9bee34-d51a-4649-f004-ed8a69f003ac"
      },
      "execution_count": 290,
      "outputs": [
        {
          "output_type": "execute_result",
          "data": {
            "text/plain": [
              "array([[0.00700611],\n",
              "       [0.00813046],\n",
              "       [0.00887253],\n",
              "       ...,\n",
              "       [0.89516557],\n",
              "       [0.86329165],\n",
              "       [0.8281037 ]])"
            ]
          },
          "metadata": {},
          "execution_count": 290
        }
      ]
    },
    {
      "cell_type": "code",
      "source": [
        "def split_sequence(sequence, n_steps):\n",
        "    X, y = list(), list()\n",
        "    for i in range(len(sequence)):\n",
        "        end_ix = i + n_steps\n",
        "        if end_ix > len(sequence) - 1:\n",
        "            break\n",
        "        seq_x, seq_y = sequence[i:end_ix], sequence[end_ix]\n",
        "        X.append(seq_x)\n",
        "        y.append(seq_y)\n",
        "    return np.array(X), np.array(y)\n",
        "\n",
        "n_steps = 120  # Number of time steps to look back\n",
        "features = 1\n",
        "\n",
        "X_train, y_train = split_sequence(training_set_scaled, n_steps)\n",
        "\n",
        "# Reshape for GRU model\n",
        "X_train = X_train.reshape(X_train.shape[0], X_train.shape[1], features)"
      ],
      "metadata": {
        "id": "PaLctgHD14jt"
      },
      "execution_count": 291,
      "outputs": []
    },
    {
      "cell_type": "code",
      "source": [
        "X_train.shape[1]"
      ],
      "metadata": {
        "colab": {
          "base_uri": "https://localhost:8080/"
        },
        "id": "axIt4Yr6JH5z",
        "outputId": "bbddc194-23ef-4cf2-dc76-381d034d3a03"
      },
      "execution_count": 292,
      "outputs": [
        {
          "output_type": "execute_result",
          "data": {
            "text/plain": [
              "180"
            ]
          },
          "metadata": {},
          "execution_count": 292
        }
      ]
    },
    {
      "cell_type": "code",
      "source": [
        "# The LSTM architecture\n",
        "model_gru = Sequential()\n",
        "model_gru.add(GRU(units=256, activation=\"tanh\", input_shape=(n_steps, features)))\n",
        "model_gru.add(Dense(units=1))\n",
        "# Compiling the model\n",
        "model_gru.compile(optimizer=\"RMSprop\", loss=\"mean_squared_error\")\n",
        "\n",
        "model_gru.summary()"
      ],
      "metadata": {
        "colab": {
          "base_uri": "https://localhost:8080/",
          "height": 248
        },
        "id": "T5eZ-G0-1_mK",
        "outputId": "cf9a00d8-b7a2-4086-8374-6592c3aa0f24"
      },
      "execution_count": 293,
      "outputs": [
        {
          "output_type": "stream",
          "name": "stderr",
          "text": [
            "/usr/local/lib/python3.11/dist-packages/keras/src/layers/rnn/rnn.py:204: UserWarning: Do not pass an `input_shape`/`input_dim` argument to a layer. When using Sequential models, prefer using an `Input(shape)` object as the first layer in the model instead.\n",
            "  super().__init__(**kwargs)\n"
          ]
        },
        {
          "output_type": "display_data",
          "data": {
            "text/plain": [
              "\u001b[1mModel: \"sequential_12\"\u001b[0m\n"
            ],
            "text/html": [
              "<pre style=\"white-space:pre;overflow-x:auto;line-height:normal;font-family:Menlo,'DejaVu Sans Mono',consolas,'Courier New',monospace\"><span style=\"font-weight: bold\">Model: \"sequential_12\"</span>\n",
              "</pre>\n"
            ]
          },
          "metadata": {}
        },
        {
          "output_type": "display_data",
          "data": {
            "text/plain": [
              "┏━━━━━━━━━━━━━━━━━━━━━━━━━━━━━━━━━━━━━━┳━━━━━━━━━━━━━━━━━━━━━━━━━━━━━┳━━━━━━━━━━━━━━━━━┓\n",
              "┃\u001b[1m \u001b[0m\u001b[1mLayer (type)                        \u001b[0m\u001b[1m \u001b[0m┃\u001b[1m \u001b[0m\u001b[1mOutput Shape               \u001b[0m\u001b[1m \u001b[0m┃\u001b[1m \u001b[0m\u001b[1m        Param #\u001b[0m\u001b[1m \u001b[0m┃\n",
              "┡━━━━━━━━━━━━━━━━━━━━━━━━━━━━━━━━━━━━━━╇━━━━━━━━━━━━━━━━━━━━━━━━━━━━━╇━━━━━━━━━━━━━━━━━┩\n",
              "│ gru_5 (\u001b[38;5;33mGRU\u001b[0m)                          │ (\u001b[38;5;45mNone\u001b[0m, \u001b[38;5;34m256\u001b[0m)                 │         \u001b[38;5;34m198,912\u001b[0m │\n",
              "├──────────────────────────────────────┼─────────────────────────────┼─────────────────┤\n",
              "│ dense_15 (\u001b[38;5;33mDense\u001b[0m)                     │ (\u001b[38;5;45mNone\u001b[0m, \u001b[38;5;34m1\u001b[0m)                   │             \u001b[38;5;34m257\u001b[0m │\n",
              "└──────────────────────────────────────┴─────────────────────────────┴─────────────────┘\n"
            ],
            "text/html": [
              "<pre style=\"white-space:pre;overflow-x:auto;line-height:normal;font-family:Menlo,'DejaVu Sans Mono',consolas,'Courier New',monospace\">┏━━━━━━━━━━━━━━━━━━━━━━━━━━━━━━━━━━━━━━┳━━━━━━━━━━━━━━━━━━━━━━━━━━━━━┳━━━━━━━━━━━━━━━━━┓\n",
              "┃<span style=\"font-weight: bold\"> Layer (type)                         </span>┃<span style=\"font-weight: bold\"> Output Shape                </span>┃<span style=\"font-weight: bold\">         Param # </span>┃\n",
              "┡━━━━━━━━━━━━━━━━━━━━━━━━━━━━━━━━━━━━━━╇━━━━━━━━━━━━━━━━━━━━━━━━━━━━━╇━━━━━━━━━━━━━━━━━┩\n",
              "│ gru_5 (<span style=\"color: #0087ff; text-decoration-color: #0087ff\">GRU</span>)                          │ (<span style=\"color: #00d7ff; text-decoration-color: #00d7ff\">None</span>, <span style=\"color: #00af00; text-decoration-color: #00af00\">256</span>)                 │         <span style=\"color: #00af00; text-decoration-color: #00af00\">198,912</span> │\n",
              "├──────────────────────────────────────┼─────────────────────────────┼─────────────────┤\n",
              "│ dense_15 (<span style=\"color: #0087ff; text-decoration-color: #0087ff\">Dense</span>)                     │ (<span style=\"color: #00d7ff; text-decoration-color: #00d7ff\">None</span>, <span style=\"color: #00af00; text-decoration-color: #00af00\">1</span>)                   │             <span style=\"color: #00af00; text-decoration-color: #00af00\">257</span> │\n",
              "└──────────────────────────────────────┴─────────────────────────────┴─────────────────┘\n",
              "</pre>\n"
            ]
          },
          "metadata": {}
        },
        {
          "output_type": "display_data",
          "data": {
            "text/plain": [
              "\u001b[1m Total params: \u001b[0m\u001b[38;5;34m199,169\u001b[0m (778.00 KB)\n"
            ],
            "text/html": [
              "<pre style=\"white-space:pre;overflow-x:auto;line-height:normal;font-family:Menlo,'DejaVu Sans Mono',consolas,'Courier New',monospace\"><span style=\"font-weight: bold\"> Total params: </span><span style=\"color: #00af00; text-decoration-color: #00af00\">199,169</span> (778.00 KB)\n",
              "</pre>\n"
            ]
          },
          "metadata": {}
        },
        {
          "output_type": "display_data",
          "data": {
            "text/plain": [
              "\u001b[1m Trainable params: \u001b[0m\u001b[38;5;34m199,169\u001b[0m (778.00 KB)\n"
            ],
            "text/html": [
              "<pre style=\"white-space:pre;overflow-x:auto;line-height:normal;font-family:Menlo,'DejaVu Sans Mono',consolas,'Courier New',monospace\"><span style=\"font-weight: bold\"> Trainable params: </span><span style=\"color: #00af00; text-decoration-color: #00af00\">199,169</span> (778.00 KB)\n",
              "</pre>\n"
            ]
          },
          "metadata": {}
        },
        {
          "output_type": "display_data",
          "data": {
            "text/plain": [
              "\u001b[1m Non-trainable params: \u001b[0m\u001b[38;5;34m0\u001b[0m (0.00 B)\n"
            ],
            "text/html": [
              "<pre style=\"white-space:pre;overflow-x:auto;line-height:normal;font-family:Menlo,'DejaVu Sans Mono',consolas,'Courier New',monospace\"><span style=\"font-weight: bold\"> Non-trainable params: </span><span style=\"color: #00af00; text-decoration-color: #00af00\">0</span> (0.00 B)\n",
              "</pre>\n"
            ]
          },
          "metadata": {}
        }
      ]
    },
    {
      "cell_type": "code",
      "source": [
        "early_stop = EarlyStopping(monitor=\"loss\", patience=10, restore_best_weights=True)\n",
        "\n",
        "checkpoint = ModelCheckpoint(\n",
        "    \"default_gru.keras\",  # File to save the model\n",
        "    monitor=\"loss\",  # Metric to track (e.g., validation loss)\n",
        "    save_best_only=True,  # Save only if the model improves\n",
        "    mode=\"min\",  # Save when 'loss' decreases\n",
        "    verbose=1  # Print messages when saving\n",
        ")\n",
        "\n",
        "model_gru.fit(X_train, y_train, epochs=25, batch_size=32, callbacks=[early_stop, checkpoint], verbose=1)"
      ],
      "metadata": {
        "colab": {
          "base_uri": "https://localhost:8080/",
          "height": 1000
        },
        "id": "v6q0IY_q2B8t",
        "outputId": "e22947c0-83b1-4803-f666-16a709b2079c"
      },
      "execution_count": 294,
      "outputs": [
        {
          "output_type": "stream",
          "name": "stdout",
          "text": [
            "Epoch 1/50\n",
            "\u001b[1m79/79\u001b[0m \u001b[32m━━━━━━━━━━━━━━━━━━━━\u001b[0m\u001b[37m\u001b[0m \u001b[1m0s\u001b[0m 534ms/step - loss: 0.0124\n",
            "Epoch 1: loss improved from inf to 0.00423, saving model to default_gru.keras\n",
            "\u001b[1m79/79\u001b[0m \u001b[32m━━━━━━━━━━━━━━━━━━━━\u001b[0m\u001b[37m\u001b[0m \u001b[1m45s\u001b[0m 535ms/step - loss: 0.0123\n",
            "Epoch 2/50\n",
            "\u001b[1m79/79\u001b[0m \u001b[32m━━━━━━━━━━━━━━━━━━━━\u001b[0m\u001b[37m\u001b[0m \u001b[1m0s\u001b[0m 540ms/step - loss: 0.0011\n",
            "Epoch 2: loss improved from 0.00423 to 0.00114, saving model to default_gru.keras\n",
            "\u001b[1m79/79\u001b[0m \u001b[32m━━━━━━━━━━━━━━━━━━━━\u001b[0m\u001b[37m\u001b[0m \u001b[1m82s\u001b[0m 540ms/step - loss: 0.0011\n",
            "Epoch 3/50\n",
            "\u001b[1m79/79\u001b[0m \u001b[32m━━━━━━━━━━━━━━━━━━━━\u001b[0m\u001b[37m\u001b[0m \u001b[1m0s\u001b[0m 565ms/step - loss: 9.0302e-04\n",
            "Epoch 3: loss improved from 0.00114 to 0.00095, saving model to default_gru.keras\n",
            "\u001b[1m79/79\u001b[0m \u001b[32m━━━━━━━━━━━━━━━━━━━━\u001b[0m\u001b[37m\u001b[0m \u001b[1m84s\u001b[0m 566ms/step - loss: 9.0362e-04\n",
            "Epoch 4/50\n",
            "\u001b[1m79/79\u001b[0m \u001b[32m━━━━━━━━━━━━━━━━━━━━\u001b[0m\u001b[37m\u001b[0m \u001b[1m0s\u001b[0m 548ms/step - loss: 6.5233e-04\n",
            "Epoch 4: loss improved from 0.00095 to 0.00077, saving model to default_gru.keras\n",
            "\u001b[1m79/79\u001b[0m \u001b[32m━━━━━━━━━━━━━━━━━━━━\u001b[0m\u001b[37m\u001b[0m \u001b[1m80s\u001b[0m 548ms/step - loss: 6.5379e-04\n",
            "Epoch 5/50\n",
            "\u001b[1m79/79\u001b[0m \u001b[32m━━━━━━━━━━━━━━━━━━━━\u001b[0m\u001b[37m\u001b[0m \u001b[1m0s\u001b[0m 558ms/step - loss: 6.9078e-04\n",
            "Epoch 5: loss improved from 0.00077 to 0.00074, saving model to default_gru.keras\n",
            "\u001b[1m79/79\u001b[0m \u001b[32m━━━━━━━━━━━━━━━━━━━━\u001b[0m\u001b[37m\u001b[0m \u001b[1m83s\u001b[0m 558ms/step - loss: 6.9144e-04\n",
            "Epoch 6/50\n",
            "\u001b[1m79/79\u001b[0m \u001b[32m━━━━━━━━━━━━━━━━━━━━\u001b[0m\u001b[37m\u001b[0m \u001b[1m0s\u001b[0m 548ms/step - loss: 6.5491e-04\n",
            "Epoch 6: loss improved from 0.00074 to 0.00069, saving model to default_gru.keras\n",
            "\u001b[1m79/79\u001b[0m \u001b[32m━━━━━━━━━━━━━━━━━━━━\u001b[0m\u001b[37m\u001b[0m \u001b[1m81s\u001b[0m 549ms/step - loss: 6.5538e-04\n",
            "Epoch 7/50\n",
            "\u001b[1m79/79\u001b[0m \u001b[32m━━━━━━━━━━━━━━━━━━━━\u001b[0m\u001b[37m\u001b[0m \u001b[1m0s\u001b[0m 546ms/step - loss: 6.0950e-04\n",
            "Epoch 7: loss improved from 0.00069 to 0.00065, saving model to default_gru.keras\n",
            "\u001b[1m79/79\u001b[0m \u001b[32m━━━━━━━━━━━━━━━━━━━━\u001b[0m\u001b[37m\u001b[0m \u001b[1m82s\u001b[0m 547ms/step - loss: 6.0997e-04\n",
            "Epoch 8/50\n",
            "\u001b[1m79/79\u001b[0m \u001b[32m━━━━━━━━━━━━━━━━━━━━\u001b[0m\u001b[37m\u001b[0m \u001b[1m0s\u001b[0m 521ms/step - loss: 5.7104e-04\n",
            "Epoch 8: loss improved from 0.00065 to 0.00061, saving model to default_gru.keras\n",
            "\u001b[1m79/79\u001b[0m \u001b[32m━━━━━━━━━━━━━━━━━━━━\u001b[0m\u001b[37m\u001b[0m \u001b[1m80s\u001b[0m 521ms/step - loss: 5.7152e-04\n",
            "Epoch 9/50\n",
            "\u001b[1m79/79\u001b[0m \u001b[32m━━━━━━━━━━━━━━━━━━━━\u001b[0m\u001b[37m\u001b[0m \u001b[1m0s\u001b[0m 541ms/step - loss: 5.3590e-04\n",
            "Epoch 9: loss improved from 0.00061 to 0.00058, saving model to default_gru.keras\n",
            "\u001b[1m79/79\u001b[0m \u001b[32m━━━━━━━━━━━━━━━━━━━━\u001b[0m\u001b[37m\u001b[0m \u001b[1m83s\u001b[0m 542ms/step - loss: 5.3644e-04\n",
            "Epoch 10/50\n",
            "\u001b[1m79/79\u001b[0m \u001b[32m━━━━━━━━━━━━━━━━━━━━\u001b[0m\u001b[37m\u001b[0m \u001b[1m0s\u001b[0m 537ms/step - loss: 4.9984e-04\n",
            "Epoch 10: loss improved from 0.00058 to 0.00054, saving model to default_gru.keras\n",
            "\u001b[1m79/79\u001b[0m \u001b[32m━━━━━━━━━━━━━━━━━━━━\u001b[0m\u001b[37m\u001b[0m \u001b[1m82s\u001b[0m 537ms/step - loss: 5.0030e-04\n",
            "Epoch 11/50\n",
            "\u001b[1m79/79\u001b[0m \u001b[32m━━━━━━━━━━━━━━━━━━━━\u001b[0m\u001b[37m\u001b[0m \u001b[1m0s\u001b[0m 549ms/step - loss: 4.9128e-04\n",
            "Epoch 11: loss improved from 0.00054 to 0.00052, saving model to default_gru.keras\n",
            "\u001b[1m79/79\u001b[0m \u001b[32m━━━━━━━━━━━━━━━━━━━━\u001b[0m\u001b[37m\u001b[0m \u001b[1m43s\u001b[0m 549ms/step - loss: 4.9165e-04\n",
            "Epoch 12/50\n",
            "\u001b[1m79/79\u001b[0m \u001b[32m━━━━━━━━━━━━━━━━━━━━\u001b[0m\u001b[37m\u001b[0m \u001b[1m0s\u001b[0m 558ms/step - loss: 4.8352e-04\n",
            "Epoch 12: loss improved from 0.00052 to 0.00050, saving model to default_gru.keras\n",
            "\u001b[1m79/79\u001b[0m \u001b[32m━━━━━━━━━━━━━━━━━━━━\u001b[0m\u001b[37m\u001b[0m \u001b[1m83s\u001b[0m 558ms/step - loss: 4.8379e-04\n",
            "Epoch 13/50\n",
            "\u001b[1m79/79\u001b[0m \u001b[32m━━━━━━━━━━━━━━━━━━━━\u001b[0m\u001b[37m\u001b[0m \u001b[1m0s\u001b[0m 597ms/step - loss: 4.7229e-04\n",
            "Epoch 13: loss improved from 0.00050 to 0.00049, saving model to default_gru.keras\n",
            "\u001b[1m79/79\u001b[0m \u001b[32m━━━━━━━━━━━━━━━━━━━━\u001b[0m\u001b[37m\u001b[0m \u001b[1m47s\u001b[0m 598ms/step - loss: 4.7252e-04\n",
            "Epoch 14/50\n",
            "\u001b[1m79/79\u001b[0m \u001b[32m━━━━━━━━━━━━━━━━━━━━\u001b[0m\u001b[37m\u001b[0m \u001b[1m0s\u001b[0m 547ms/step - loss: 4.6058e-04\n",
            "Epoch 14: loss improved from 0.00049 to 0.00048, saving model to default_gru.keras\n",
            "\u001b[1m79/79\u001b[0m \u001b[32m━━━━━━━━━━━━━━━━━━━━\u001b[0m\u001b[37m\u001b[0m \u001b[1m78s\u001b[0m 548ms/step - loss: 4.6079e-04\n",
            "Epoch 15/50\n",
            "\u001b[1m79/79\u001b[0m \u001b[32m━━━━━━━━━━━━━━━━━━━━\u001b[0m\u001b[37m\u001b[0m \u001b[1m0s\u001b[0m 540ms/step - loss: 4.4987e-04\n",
            "Epoch 15: loss improved from 0.00048 to 0.00046, saving model to default_gru.keras\n",
            "\u001b[1m79/79\u001b[0m \u001b[32m━━━━━━━━━━━━━━━━━━━━\u001b[0m\u001b[37m\u001b[0m \u001b[1m81s\u001b[0m 540ms/step - loss: 4.5004e-04\n",
            "Epoch 16/50\n",
            "\u001b[1m79/79\u001b[0m \u001b[32m━━━━━━━━━━━━━━━━━━━━\u001b[0m\u001b[37m\u001b[0m \u001b[1m0s\u001b[0m 550ms/step - loss: 4.4118e-04\n",
            "Epoch 16: loss improved from 0.00046 to 0.00045, saving model to default_gru.keras\n",
            "\u001b[1m79/79\u001b[0m \u001b[32m━━━━━━━━━━━━━━━━━━━━\u001b[0m\u001b[37m\u001b[0m \u001b[1m83s\u001b[0m 551ms/step - loss: 4.4126e-04\n",
            "Epoch 17/50\n"
          ]
        },
        {
          "output_type": "error",
          "ename": "KeyboardInterrupt",
          "evalue": "",
          "traceback": [
            "\u001b[0;31m---------------------------------------------------------------------------\u001b[0m",
            "\u001b[0;31mKeyboardInterrupt\u001b[0m                         Traceback (most recent call last)",
            "\u001b[0;32m<ipython-input-294-15ab6fc42ae5>\u001b[0m in \u001b[0;36m<cell line: 0>\u001b[0;34m()\u001b[0m\n\u001b[1;32m      9\u001b[0m )\n\u001b[1;32m     10\u001b[0m \u001b[0;34m\u001b[0m\u001b[0m\n\u001b[0;32m---> 11\u001b[0;31m \u001b[0mmodel_gru\u001b[0m\u001b[0;34m.\u001b[0m\u001b[0mfit\u001b[0m\u001b[0;34m(\u001b[0m\u001b[0mX_train\u001b[0m\u001b[0;34m,\u001b[0m \u001b[0my_train\u001b[0m\u001b[0;34m,\u001b[0m \u001b[0mepochs\u001b[0m\u001b[0;34m=\u001b[0m\u001b[0;36m50\u001b[0m\u001b[0;34m,\u001b[0m \u001b[0mbatch_size\u001b[0m\u001b[0;34m=\u001b[0m\u001b[0;36m32\u001b[0m\u001b[0;34m,\u001b[0m \u001b[0mcallbacks\u001b[0m\u001b[0;34m=\u001b[0m\u001b[0;34m[\u001b[0m\u001b[0mearly_stop\u001b[0m\u001b[0;34m,\u001b[0m \u001b[0mcheckpoint\u001b[0m\u001b[0;34m]\u001b[0m\u001b[0;34m,\u001b[0m \u001b[0mverbose\u001b[0m\u001b[0;34m=\u001b[0m\u001b[0;36m1\u001b[0m\u001b[0;34m)\u001b[0m\u001b[0;34m\u001b[0m\u001b[0;34m\u001b[0m\u001b[0m\n\u001b[0m",
            "\u001b[0;32m/usr/local/lib/python3.11/dist-packages/keras/src/utils/traceback_utils.py\u001b[0m in \u001b[0;36merror_handler\u001b[0;34m(*args, **kwargs)\u001b[0m\n\u001b[1;32m    115\u001b[0m         \u001b[0mfiltered_tb\u001b[0m \u001b[0;34m=\u001b[0m \u001b[0;32mNone\u001b[0m\u001b[0;34m\u001b[0m\u001b[0;34m\u001b[0m\u001b[0m\n\u001b[1;32m    116\u001b[0m         \u001b[0;32mtry\u001b[0m\u001b[0;34m:\u001b[0m\u001b[0;34m\u001b[0m\u001b[0;34m\u001b[0m\u001b[0m\n\u001b[0;32m--> 117\u001b[0;31m             \u001b[0;32mreturn\u001b[0m \u001b[0mfn\u001b[0m\u001b[0;34m(\u001b[0m\u001b[0;34m*\u001b[0m\u001b[0margs\u001b[0m\u001b[0;34m,\u001b[0m \u001b[0;34m**\u001b[0m\u001b[0mkwargs\u001b[0m\u001b[0;34m)\u001b[0m\u001b[0;34m\u001b[0m\u001b[0;34m\u001b[0m\u001b[0m\n\u001b[0m\u001b[1;32m    118\u001b[0m         \u001b[0;32mexcept\u001b[0m \u001b[0mException\u001b[0m \u001b[0;32mas\u001b[0m \u001b[0me\u001b[0m\u001b[0;34m:\u001b[0m\u001b[0;34m\u001b[0m\u001b[0;34m\u001b[0m\u001b[0m\n\u001b[1;32m    119\u001b[0m             \u001b[0mfiltered_tb\u001b[0m \u001b[0;34m=\u001b[0m \u001b[0m_process_traceback_frames\u001b[0m\u001b[0;34m(\u001b[0m\u001b[0me\u001b[0m\u001b[0;34m.\u001b[0m\u001b[0m__traceback__\u001b[0m\u001b[0;34m)\u001b[0m\u001b[0;34m\u001b[0m\u001b[0;34m\u001b[0m\u001b[0m\n",
            "\u001b[0;32m/usr/local/lib/python3.11/dist-packages/keras/src/backend/tensorflow/trainer.py\u001b[0m in \u001b[0;36mfit\u001b[0;34m(self, x, y, batch_size, epochs, verbose, callbacks, validation_split, validation_data, shuffle, class_weight, sample_weight, initial_epoch, steps_per_epoch, validation_steps, validation_batch_size, validation_freq)\u001b[0m\n\u001b[1;32m    317\u001b[0m             \u001b[0;32mwith\u001b[0m \u001b[0mepoch_iterator\u001b[0m\u001b[0;34m.\u001b[0m\u001b[0mcatch_stop_iteration\u001b[0m\u001b[0;34m(\u001b[0m\u001b[0;34m)\u001b[0m\u001b[0;34m:\u001b[0m\u001b[0;34m\u001b[0m\u001b[0;34m\u001b[0m\u001b[0m\n\u001b[1;32m    318\u001b[0m                 \u001b[0;32mfor\u001b[0m \u001b[0mstep\u001b[0m\u001b[0;34m,\u001b[0m \u001b[0miterator\u001b[0m \u001b[0;32min\u001b[0m \u001b[0mepoch_iterator\u001b[0m\u001b[0;34m.\u001b[0m\u001b[0menumerate_epoch\u001b[0m\u001b[0;34m(\u001b[0m\u001b[0;34m)\u001b[0m\u001b[0;34m:\u001b[0m\u001b[0;34m\u001b[0m\u001b[0;34m\u001b[0m\u001b[0m\n\u001b[0;32m--> 319\u001b[0;31m                     \u001b[0mcallbacks\u001b[0m\u001b[0;34m.\u001b[0m\u001b[0mon_train_batch_begin\u001b[0m\u001b[0;34m(\u001b[0m\u001b[0mstep\u001b[0m\u001b[0;34m)\u001b[0m\u001b[0;34m\u001b[0m\u001b[0;34m\u001b[0m\u001b[0m\n\u001b[0m\u001b[1;32m    320\u001b[0m                     \u001b[0mlogs\u001b[0m \u001b[0;34m=\u001b[0m \u001b[0mself\u001b[0m\u001b[0;34m.\u001b[0m\u001b[0mtrain_function\u001b[0m\u001b[0;34m(\u001b[0m\u001b[0miterator\u001b[0m\u001b[0;34m)\u001b[0m\u001b[0;34m\u001b[0m\u001b[0;34m\u001b[0m\u001b[0m\n\u001b[1;32m    321\u001b[0m                     \u001b[0mlogs\u001b[0m \u001b[0;34m=\u001b[0m \u001b[0mself\u001b[0m\u001b[0;34m.\u001b[0m\u001b[0m_pythonify_logs\u001b[0m\u001b[0;34m(\u001b[0m\u001b[0mlogs\u001b[0m\u001b[0;34m)\u001b[0m\u001b[0;34m\u001b[0m\u001b[0;34m\u001b[0m\u001b[0m\n",
            "\u001b[0;32m/usr/local/lib/python3.11/dist-packages/keras/src/callbacks/callback_list.py\u001b[0m in \u001b[0;36mon_train_batch_begin\u001b[0;34m(self, batch, logs)\u001b[0m\n\u001b[1;32m     96\u001b[0m             \u001b[0mcallback\u001b[0m\u001b[0;34m.\u001b[0m\u001b[0mon_epoch_end\u001b[0m\u001b[0;34m(\u001b[0m\u001b[0mepoch\u001b[0m\u001b[0;34m,\u001b[0m \u001b[0mlogs\u001b[0m\u001b[0;34m)\u001b[0m\u001b[0;34m\u001b[0m\u001b[0;34m\u001b[0m\u001b[0m\n\u001b[1;32m     97\u001b[0m \u001b[0;34m\u001b[0m\u001b[0m\n\u001b[0;32m---> 98\u001b[0;31m     \u001b[0;32mdef\u001b[0m \u001b[0mon_train_batch_begin\u001b[0m\u001b[0;34m(\u001b[0m\u001b[0mself\u001b[0m\u001b[0;34m,\u001b[0m \u001b[0mbatch\u001b[0m\u001b[0;34m,\u001b[0m \u001b[0mlogs\u001b[0m\u001b[0;34m=\u001b[0m\u001b[0;32mNone\u001b[0m\u001b[0;34m)\u001b[0m\u001b[0;34m:\u001b[0m\u001b[0;34m\u001b[0m\u001b[0;34m\u001b[0m\u001b[0m\n\u001b[0m\u001b[1;32m     99\u001b[0m         \u001b[0mlogs\u001b[0m \u001b[0;34m=\u001b[0m \u001b[0mlogs\u001b[0m \u001b[0;32mor\u001b[0m \u001b[0;34m{\u001b[0m\u001b[0;34m}\u001b[0m\u001b[0;34m\u001b[0m\u001b[0;34m\u001b[0m\u001b[0m\n\u001b[1;32m    100\u001b[0m         \u001b[0;32mfor\u001b[0m \u001b[0mcallback\u001b[0m \u001b[0;32min\u001b[0m \u001b[0mself\u001b[0m\u001b[0;34m.\u001b[0m\u001b[0mcallbacks\u001b[0m\u001b[0;34m:\u001b[0m\u001b[0;34m\u001b[0m\u001b[0;34m\u001b[0m\u001b[0m\n",
            "\u001b[0;31mKeyboardInterrupt\u001b[0m: "
          ]
        }
      ]
    },
    {
      "cell_type": "code",
      "source": [
        "model_gru = load_model(\"default_gru.keras\")"
      ],
      "metadata": {
        "id": "FaXZDw0L6Y3f"
      },
      "execution_count": 295,
      "outputs": []
    },
    {
      "cell_type": "code",
      "source": [
        "#model_lstm.fit(X_train, y_train, epochs=100, batch_size=32, callbacks=[early_stop, checkpoint], verbose=1)"
      ],
      "metadata": {
        "id": "EfV4IwZQ6cQ6"
      },
      "execution_count": null,
      "outputs": []
    },
    {
      "cell_type": "code",
      "source": [
        "# Model 1: GRU (50 Epochs, StandardScaler, early stopping, dropouts, Close, batchsize=32, n_steps=120, optimizer=Adam)\n",
        "\"\"\"Epoch 10/50\n",
        "128/128 ━━━━━━━━━━━━━━━━━━━━ 41s 227ms/step - loss: 0.0078\"\"\"\n",
        "\n",
        "# ---\n",
        "\n",
        "# Model 2: GRU (50 Epochs, MinMaxScaler, early stopping, dropouts, Close, batchsize=32, n_steps=120, optimizer=Adam)\n",
        "\"\"\"Epoch 19/50\n",
        "128/128 ━━━━━━━━━━━━━━━━━━━━ 42s 225ms/step - loss: 3.2570e-04\"\"\"\n",
        "# RMSE: 2712.30\n",
        "\n",
        "# ---\n",
        "\n",
        "# Model 3 GRU (50 Epochs, StandardScaler, early stopping, dropouts, Close, batchsize=32, n_steps=120, optimizer=Adam)\n",
        "# Bez sensu\n",
        "\n",
        "# ---\n",
        "\n",
        "# Model 4 GRU (50 Epochs, StandardScaler, early stopping, dropouts, Close, batchsize=32, n_steps=120, optimizer=RMSprop)\n",
        "\"\"\"Epoch 23/50\n",
        "128/128 ━━━━━━━━━━━━━━━━━━━━ 43s 227ms/step - loss: 0.0081\n",
        "The root mean squared error is 2611.39\n",
        "The Mean Absolute Error (MAE) is 1865.43\n",
        "The R-squared (R²) score is 0.9842\n",
        "\n",
        "The Mean Squared Logarithmic Error (MSLE) is 0.003290\n",
        "The Mean Absolute Percentage Error (MAPE) is 63.39%.\"\"\"\n",
        "\n",
        "# ---\n",
        "\n",
        "# Model 5 GRU (50 Epochs, StandardScaler, early stopping, NO dropouts, Close, batchsize=32, n_steps=120, optimizer=RMSprop)\n",
        "\"\"\"Epoch 50/50\n",
        "128/128 ━━━━━━━━━━━━━━━━━━━━ 42s 215ms/step - loss: 0.0032\n",
        "The root mean squared error is 2823.36\n",
        "The Mean Absolute Error (MAE) is 1452.78\n",
        "The R-squared (R²) score is 0.9815\n",
        "\n",
        "The Mean Squared Logarithmic Error (MSLE) is 0.001752\n",
        "The Mean Absolute Percentage Error (MAPE) is 61.78%.\"\"\"\n",
        "\n",
        "# ---> NONSENSE\n",
        "\n",
        "# Model 6 GRU + LSTM (50 Epochs, MinMaxScaler, early stopping, NO dropouts, Close, batchsize=32, n_steps=60, optimizer=RMSprop)\n",
        "\"\"\"Epoch 50/50\n",
        "129/129 ━━━━━━━━━━━━━━━━━━━━ 21s 162ms/step - loss: 1.4298e-04\n",
        "The root mean squared error is 2689.83\n",
        "The Mean Absolute Error (MAE) is 1915.69\n",
        "The R-squared (R²) score is 0.9833\n",
        "\n",
        "The Mean Squared Logarithmic Error (MSLE) is 0.002702\n",
        "The Mean Absolute Percentage Error (MAPE) is 60.97%.\"\"\"\n",
        "\n",
        "# ---\n",
        "\n",
        "# Model 7 LSTM + GRU (50 Epochs, MinMaxScaler, early stopping, NO dropouts, Close, batchsize=32, n_steps=30, optimizer=RMSprop)\n",
        "\"\"\"Epoch 50/50\n",
        "130/130 ━━━━━━━━━━━━━━━━━━━━ 21s 82ms/step - loss: 1.8203e-04\n",
        "The root mean squared error is 1777.97\n",
        "The Mean Absolute Error (MAE) is 1125.94\n",
        "The R-squared (R²) score is 0.9927\n",
        "\n",
        "The Mean Squared Logarithmic Error (MSLE) is 0.001274\n",
        "The Mean Absolute Percentage Error (MAPE) is 62.72%.\"\"\"\n",
        "\n",
        "# --- Explore more epochs in simple LSTM and GRU + extend training set to the end of 2022 (all same -> 100 epochs, n_steps=60)\n",
        "# LSTM:\n",
        "\"\"\"\n",
        "Epoch 100/100\n",
        "141/141 ━━━━━━━━━━━━━━━━━━━━ 11s 74ms/step - loss: 1.1724e-04\n",
        "The root mean squared error is 1654.12\n",
        "The Mean Absolute Error (MAE) is 1092.90\n",
        "The R-squared (R²) score is 0.9942\n",
        "\n",
        "The Mean Squared Logarithmic Error (MSLE) is 0.000872\n",
        "The Mean Absolute Percentage Error (MAPE) is 58.63%.\n",
        "\"\"\"\n",
        "\n",
        "# ---\n",
        "# LSTM: (all same -> StandardScaler, 100 epochs, n_steps=60)\n",
        "\"\"\"\n",
        "tstart = \"2010-07-18\"\n",
        "tend = \"2024-11-01\n",
        "\"\"\"\n",
        "\"\"\"The root mean squared error is 3056.52\n",
        "The Mean Absolute Error (MAE) is 2364.14\n",
        "The R-squared (R²) score is 0.9581\n",
        "\n",
        "The Mean Squared Logarithmic Error (MSLE) is 0.001222\n",
        "The Mean Absolute Percentage Error (MAPE) is 20.34%.\"\"\"\n",
        "\n",
        "# ---\n",
        "# LSTM: (all same -> MinMaxScaler, 150 epochs, n_steps=60)\n",
        "\"\"\"\n",
        "tstart = \"2017-06-01\"\n",
        "tend = \"2024-10-01\n",
        "\"\"\"\n",
        "\"\"\"The root mean squared error is 2502.41\n",
        "The Mean Absolute Error (MAE) is 1861.88\n",
        "The R-squared (R²) score is 0.9719\n",
        "\n",
        "The Mean Squared Logarithmic Error (MSLE) is 0.000869\n",
        "The Mean Absolute Percentage Error (MAPE) is 20.82%.\"\"\"\n",
        "\n",
        "\n",
        "# ---\n",
        "# New LSTM architecture (lstm_cryptocurrency.keras)\n",
        "# ponad 3500 RMSE\n",
        "\"\"\"\n",
        "The root mean squared error is 4279.11\n",
        "The Mean Absolute Error (MAE) is 3399.72\n",
        "The R-squared (R²) score is 0.9178\n",
        "\n",
        "The Mean Squared Logarithmic Error (MSLE) is 0.002309\n",
        "The Mean Absolute Percentage Error (MAPE) is 19.90%.\n",
        "\"\"\"\n",
        "\n",
        "# Rozszerzenie danych uczących o rok\n",
        "\"\"\"\n",
        "The root mean squared error is 3060.83\n",
        "The Mean Absolute Error (MAE) is 2381.87\n",
        "The R-squared (R²) score is 0.9580\n",
        "\n",
        "The Mean Squared Logarithmic Error (MSLE) is 0.001235\n",
        "The Mean Absolute Percentage Error (MAPE) is 20.45%.\"\"\"\n",
        "\n",
        "# Default, simplest model\n",
        "\"\"\"The root mean squared error is 4009.40\n",
        "The Mean Absolute Error (MAE) is 3428.78\n",
        "The R-squared (R²) score is 0.9279\n",
        "\n",
        "The Mean Squared Logarithmic Error (MSLE) is 0.002376\n",
        "The Mean Absolute Percentage Error (MAPE) is 20.74%.\"\"\"\n",
        "# zwiększenie units 125 -> 256\n",
        "\"\"\"The root mean squared error is 4071.47\"\"\"\n",
        "# n_steps=120\n",
        "\n",
        "\"\"\"\n",
        "The root mean squared error (RMSE) is 3127.70\n",
        "The Mean Absolute Error (MAE) is 2517.05\n",
        "The R-squared (R²) score is 0.9561\n",
        "\n",
        "The Mean Squared Logarithmic Error (MSLE) is 0.001420\n",
        "The Mean Absolute Percentage Error (MAPE) is 20.78%.\"\"\"\n",
        "\n",
        "# od 2017-06-01 i n_steps=180"
      ],
      "metadata": {
        "id": "pmBqi2CqHXpm"
      },
      "execution_count": null,
      "outputs": []
    },
    {
      "cell_type": "code",
      "source": [
        "dataset_total = dataset.loc[:, \"Close\"]\n",
        "inputs = dataset_total[len(dataset_total) - len(test_set) - n_steps :].values\n",
        "inputs = inputs.reshape(-1, 1)\n",
        "#scaling\n",
        "inputs = sc.transform(inputs)\n",
        "\n",
        "# Split into samples\n",
        "X_test, y_test = split_sequence(inputs, n_steps)\n",
        "# reshape\n",
        "X_test = X_test.reshape(X_test.shape[0], X_test.shape[1], features)\n",
        "#prediction\n",
        "predicted_stock_price = model_gru.predict(X_test)\n",
        "#inverse transform the values\n",
        "predicted_stock_price = sc.inverse_transform(predicted_stock_price)"
      ],
      "metadata": {
        "colab": {
          "base_uri": "https://localhost:8080/"
        },
        "id": "mx19tEROQ59n",
        "outputId": "e5ea64fd-c087-4288-9f34-bcb22fb97d08"
      },
      "execution_count": 296,
      "outputs": [
        {
          "output_type": "stream",
          "name": "stdout",
          "text": [
            "\u001b[1m3/3\u001b[0m \u001b[32m━━━━━━━━━━━━━━━━━━━━\u001b[0m\u001b[37m\u001b[0m \u001b[1m1s\u001b[0m 390ms/step\n"
          ]
        }
      ]
    },
    {
      "cell_type": "code",
      "source": [
        "evaluate_model(test_set, predicted_stock_price)"
      ],
      "metadata": {
        "colab": {
          "base_uri": "https://localhost:8080/"
        },
        "id": "May2RHEY2SCB",
        "outputId": "afff219a-7a7b-43be-a63b-ea8421513791"
      },
      "execution_count": 297,
      "outputs": [
        {
          "output_type": "stream",
          "name": "stdout",
          "text": [
            "The root mean squared error (RMSE) is 4077.44\n",
            "The Mean Absolute Error (MAE) is 3431.61\n",
            "The R-squared (R²) score is 0.9254\n",
            "\n",
            "The Mean Squared Logarithmic Error (MSLE) is 0.002444\n",
            "The Mean Absolute Percentage Error (MAPE) is 20.69%.\n"
          ]
        }
      ]
    },
    {
      "cell_type": "code",
      "source": [
        "plot_predictions(test_set, predicted_stock_price)"
      ],
      "metadata": {
        "colab": {
          "base_uri": "https://localhost:8080/",
          "height": 721
        },
        "id": "58fZF2Lm2h0d",
        "outputId": "991fb350-fb14-46c8-afa4-240740b6b498"
      },
      "execution_count": 298,
      "outputs": [
        {
          "output_type": "display_data",
          "data": {
            "text/plain": [
              "<Figure size 1600x900 with 1 Axes>"
            ],
            "image/png": "[encoded data removed]"
          },
          "metadata": {}
        }
      ]
    },
    {
      "cell_type": "code",
      "source": [],
      "metadata": {
        "id": "kmsly-_p25_t"
      },
      "execution_count": null,
      "outputs": []
    }
  ]
}