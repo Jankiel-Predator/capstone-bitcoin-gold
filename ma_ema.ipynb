{
  "cells": [
    {
      "cell_type": "code",
      "execution_count": 121,
      "metadata": {
        "id": "D0vdgc9w-ZNN"
      },
      "outputs": [],
      "source": [
        "import matplotlib.pyplot as plt\n",
        "import pandas as pd\n",
        "import datetime as dt\n",
        "import numpy as np\n",
        "\n",
        "from sklearn.preprocessing import MinMaxScaler\n",
        "from sklearn.metrics import mean_squared_error\n",
        "\n",
        "from tensorflow.keras.models import Sequential\n",
        "from tensorflow.keras.layers import Dense, LSTM, Dropout, GRU, Bidirectional\n",
        "from tensorflow.keras.optimizers import SGD\n",
        "from tensorflow.random import set_seed\n",
        "\n",
        "set_seed(455)\n",
        "np.random.seed(455)"
      ]
    },
    {
      "cell_type": "code",
      "execution_count": 122,
      "metadata": {
        "colab": {
          "base_uri": "https://localhost:8080/",
          "height": 455
        },
        "id": "606xCTBm_wWs",
        "outputId": "6e9504da-8f43-4f1b-ff7f-bed84b6e4d1b"
      },
      "outputs": [
        {
          "data": {
            "application/vnd.google.colaboratory.intrinsic+json": {
              "summary": "{\n  \"name\": \"df\",\n  \"rows\": 5282,\n  \"fields\": [\n    {\n      \"column\": \"Date\",\n      \"properties\": {\n        \"dtype\": \"date\",\n        \"min\": \"2010-07-18 00:00:00\",\n        \"max\": \"2025-01-01 00:00:00\",\n        \"num_unique_values\": 5282,\n        \"samples\": [\n          \"2014-07-05 00:00:00\",\n          \"2023-08-31 00:00:00\",\n          \"2010-07-26 00:00:00\"\n        ],\n        \"semantic_type\": \"\",\n        \"description\": \"\"\n      }\n    },\n    {\n      \"column\": \"Price\",\n      \"properties\": {\n        \"dtype\": \"number\",\n        \"std\": 20663.596559535723,\n        \"min\": 0.1,\n        \"max\": 106138.9,\n        \"num_unique_values\": 4327,\n        \"samples\": [\n          8127.3,\n          1013.0,\n          6427.1\n        ],\n        \"semantic_type\": \"\",\n        \"description\": \"\"\n      }\n    },\n    {\n      \"column\": \"Open\",\n      \"properties\": {\n        \"dtype\": \"number\",\n        \"std\": 20634.79651317963,\n        \"min\": 0.0,\n        \"max\": 106140.7,\n        \"num_unique_values\": 4320,\n        \"samples\": [\n          884.3,\n          5.3,\n          8118.1\n        ],\n        \"semantic_type\": \"\",\n        \"description\": \"\"\n      }\n    },\n    {\n      \"column\": \"High\",\n      \"properties\": {\n        \"dtype\": \"number\",\n        \"std\": 21096.208461019043,\n        \"min\": 0.1,\n        \"max\": 108244.9,\n        \"num_unique_values\": 4315,\n        \"samples\": [\n          29409.8,\n          7264.3,\n          7694.5\n        ],\n        \"semantic_type\": \"\",\n        \"description\": \"\"\n      }\n    },\n    {\n      \"column\": \"Low\",\n      \"properties\": {\n        \"dtype\": \"number\",\n        \"std\": 20162.686269815764,\n        \"min\": 0.0,\n        \"max\": 105350.6,\n        \"num_unique_values\": 4324,\n        \"samples\": [\n          3243.1,\n          2.2,\n          28164.4\n        ],\n        \"semantic_type\": \"\",\n        \"description\": \"\"\n      }\n    },\n    {\n      \"column\": \"Vol.\",\n      \"properties\": {\n        \"dtype\": \"string\",\n        \"num_unique_values\": 4652,\n        \"samples\": [\n          \"181.47K\",\n          \"2.99M\",\n          \"4.20K\"\n        ],\n        \"semantic_type\": \"\",\n        \"description\": \"\"\n      }\n    },\n    {\n      \"column\": \"Change %\",\n      \"properties\": {\n        \"dtype\": \"category\",\n        \"num_unique_values\": 1567,\n        \"samples\": [\n          \"-3.80%\",\n          \"-16.69%\",\n          \"-3.78%\"\n        ],\n        \"semantic_type\": \"\",\n        \"description\": \"\"\n      }\n    },\n    {\n      \"column\": \"Average\",\n      \"properties\": {\n        \"dtype\": \"number\",\n        \"std\": 20626.123003307228,\n        \"min\": 0.05,\n        \"max\": 106797.75,\n        \"num_unique_values\": 4546,\n        \"samples\": [\n          111.05,\n          15947.5,\n          1.85\n        ],\n        \"semantic_type\": \"\",\n        \"description\": \"\"\n      }\n    }\n  ]\n}",
              "type": "dataframe",
              "variable_name": "df"
            },
            "text/html": [
              "\n",
              "  <div id=\"df-82acf89c-31d2-46eb-9325-271e09019674\" class=\"colab-df-container\">\n",
              "    <div>\n",
              "<style scoped>\n",
              "    .dataframe tbody tr th:only-of-type {\n",
              "        vertical-align: middle;\n",
              "    }\n",
              "\n",
              "    .dataframe tbody tr th {\n",
              "        vertical-align: top;\n",
              "    }\n",
              "\n",
              "    .dataframe thead th {\n",
              "        text-align: right;\n",
              "    }\n",
              "</style>\n",
              "<table border=\"1\" class=\"dataframe\">\n",
              "  <thead>\n",
              "    <tr style=\"text-align: right;\">\n",
              "      <th></th>\n",
              "      <th>Price</th>\n",
              "      <th>Open</th>\n",
              "      <th>High</th>\n",
              "      <th>Low</th>\n",
              "      <th>Vol.</th>\n",
              "      <th>Change %</th>\n",
              "      <th>Average</th>\n",
              "    </tr>\n",
              "    <tr>\n",
              "      <th>Date</th>\n",
              "      <th></th>\n",
              "      <th></th>\n",
              "      <th></th>\n",
              "      <th></th>\n",
              "      <th></th>\n",
              "      <th></th>\n",
              "      <th></th>\n",
              "    </tr>\n",
              "  </thead>\n",
              "  <tbody>\n",
              "    <tr>\n",
              "      <th>2010-07-18</th>\n",
              "      <td>0.1</td>\n",
              "      <td>0.0</td>\n",
              "      <td>0.1</td>\n",
              "      <td>0.1</td>\n",
              "      <td>0.08K</td>\n",
              "      <td>0.00%</td>\n",
              "      <td>0.10</td>\n",
              "    </tr>\n",
              "    <tr>\n",
              "      <th>2010-07-19</th>\n",
              "      <td>0.1</td>\n",
              "      <td>0.1</td>\n",
              "      <td>0.1</td>\n",
              "      <td>0.1</td>\n",
              "      <td>0.57K</td>\n",
              "      <td>0.00%</td>\n",
              "      <td>0.10</td>\n",
              "    </tr>\n",
              "    <tr>\n",
              "      <th>2010-07-20</th>\n",
              "      <td>0.1</td>\n",
              "      <td>0.1</td>\n",
              "      <td>0.1</td>\n",
              "      <td>0.1</td>\n",
              "      <td>0.26K</td>\n",
              "      <td>0.00%</td>\n",
              "      <td>0.10</td>\n",
              "    </tr>\n",
              "    <tr>\n",
              "      <th>2010-07-21</th>\n",
              "      <td>0.1</td>\n",
              "      <td>0.1</td>\n",
              "      <td>0.1</td>\n",
              "      <td>0.1</td>\n",
              "      <td>0.58K</td>\n",
              "      <td>0.00%</td>\n",
              "      <td>0.10</td>\n",
              "    </tr>\n",
              "    <tr>\n",
              "      <th>2010-07-22</th>\n",
              "      <td>0.1</td>\n",
              "      <td>0.1</td>\n",
              "      <td>0.1</td>\n",
              "      <td>0.1</td>\n",
              "      <td>2.16K</td>\n",
              "      <td>0.00%</td>\n",
              "      <td>0.10</td>\n",
              "    </tr>\n",
              "    <tr>\n",
              "      <th>...</th>\n",
              "      <td>...</td>\n",
              "      <td>...</td>\n",
              "      <td>...</td>\n",
              "      <td>...</td>\n",
              "      <td>...</td>\n",
              "      <td>...</td>\n",
              "      <td>...</td>\n",
              "    </tr>\n",
              "    <tr>\n",
              "      <th>2024-12-28</th>\n",
              "      <td>95284.5</td>\n",
              "      <td>94274.9</td>\n",
              "      <td>95684.3</td>\n",
              "      <td>94124.7</td>\n",
              "      <td>32.97K</td>\n",
              "      <td>1.07%</td>\n",
              "      <td>94904.50</td>\n",
              "    </tr>\n",
              "    <tr>\n",
              "      <th>2024-12-29</th>\n",
              "      <td>93716.3</td>\n",
              "      <td>95282.6</td>\n",
              "      <td>95315.4</td>\n",
              "      <td>93026.7</td>\n",
              "      <td>47.71K</td>\n",
              "      <td>-1.65%</td>\n",
              "      <td>94171.05</td>\n",
              "    </tr>\n",
              "    <tr>\n",
              "      <th>2024-12-30</th>\n",
              "      <td>92779.8</td>\n",
              "      <td>93718.7</td>\n",
              "      <td>94936.4</td>\n",
              "      <td>91522.3</td>\n",
              "      <td>112.43K</td>\n",
              "      <td>-1.00%</td>\n",
              "      <td>93229.35</td>\n",
              "    </tr>\n",
              "    <tr>\n",
              "      <th>2024-12-31</th>\n",
              "      <td>93557.2</td>\n",
              "      <td>92777.2</td>\n",
              "      <td>96163.4</td>\n",
              "      <td>92036.2</td>\n",
              "      <td>74.85K</td>\n",
              "      <td>0.84%</td>\n",
              "      <td>94099.80</td>\n",
              "    </tr>\n",
              "    <tr>\n",
              "      <th>2025-01-01</th>\n",
              "      <td>94560.2</td>\n",
              "      <td>93557.3</td>\n",
              "      <td>95100.0</td>\n",
              "      <td>92939.3</td>\n",
              "      <td>43.34K</td>\n",
              "      <td>1.07%</td>\n",
              "      <td>94019.65</td>\n",
              "    </tr>\n",
              "  </tbody>\n",
              "</table>\n",
              "<p>5282 rows × 7 columns</p>\n",
              "</div>\n",
              "    <div class=\"colab-df-buttons\">\n",
              "\n",
              "  <div class=\"colab-df-container\">\n",
              "    <button class=\"colab-df-convert\" onclick=\"convertToInteractive('df-82acf89c-31d2-46eb-9325-271e09019674')\"\n",
              "            title=\"Convert this dataframe to an interactive table.\"\n",
              "            style=\"display:none;\">\n",
              "\n",
              "  <svg xmlns=\"http://www.w3.org/2000/svg\" height=\"24px\" viewBox=\"0 -960 960 960\">\n",
              "    <path d=\"M120-120v-720h720v720H120Zm60-500h600v-160H180v160Zm220 220h160v-160H400v160Zm0 220h160v-160H400v160ZM180-400h160v-160H180v160Zm440 0h160v-160H620v160ZM180-180h160v-160H180v160Zm440 0h160v-160H620v160Z\"/>\n",
              "  </svg>\n",
              "    </button>\n",
              "\n",
              "  <style>\n",
              "    .colab-df-container {\n",
              "      display:flex;\n",
              "      gap: 12px;\n",
              "    }\n",
              "\n",
              "    .colab-df-convert {\n",
              "      background-color: #E8F0FE;\n",
              "      border: none;\n",
              "      border-radius: 50%;\n",
              "      cursor: pointer;\n",
              "      display: none;\n",
              "      fill: #1967D2;\n",
              "      height: 32px;\n",
              "      padding: 0 0 0 0;\n",
              "      width: 32px;\n",
              "    }\n",
              "\n",
              "    .colab-df-convert:hover {\n",
              "      background-color: #E2EBFA;\n",
              "      box-shadow: 0px 1px 2px rgba(60, 64, 67, 0.3), 0px 1px 3px 1px rgba(60, 64, 67, 0.15);\n",
              "      fill: #174EA6;\n",
              "    }\n",
              "\n",
              "    .colab-df-buttons div {\n",
              "      margin-bottom: 4px;\n",
              "    }\n",
              "\n",
              "    [theme=dark] .colab-df-convert {\n",
              "      background-color: #3B4455;\n",
              "      fill: #D2E3FC;\n",
              "    }\n",
              "\n",
              "    [theme=dark] .colab-df-convert:hover {\n",
              "      background-color: #434B5C;\n",
              "      box-shadow: 0px 1px 3px 1px rgba(0, 0, 0, 0.15);\n",
              "      filter: drop-shadow(0px 1px 2px rgba(0, 0, 0, 0.3));\n",
              "      fill: #FFFFFF;\n",
              "    }\n",
              "  </style>\n",
              "\n",
              "    <script>\n",
              "      const buttonEl =\n",
              "        document.querySelector('#df-82acf89c-31d2-46eb-9325-271e09019674 button.colab-df-convert');\n",
              "      buttonEl.style.display =\n",
              "        google.colab.kernel.accessAllowed ? 'block' : 'none';\n",
              "\n",
              "      async function convertToInteractive(key) {\n",
              "        const element = document.querySelector('#df-82acf89c-31d2-46eb-9325-271e09019674');\n",
              "        const dataTable =\n",
              "          await google.colab.kernel.invokeFunction('convertToInteractive',\n",
              "                                                    [key], {});\n",
              "        if (!dataTable) return;\n",
              "\n",
              "        const docLinkHtml = 'Like what you see? Visit the ' +\n",
              "          '<a target=\"_blank\" href=https://colab.research.google.com/notebooks/data_table.ipynb>data table notebook</a>'\n",
              "          + ' to learn more about interactive tables.';\n",
              "        element.innerHTML = '';\n",
              "        dataTable['output_type'] = 'display_data';\n",
              "        await google.colab.output.renderOutput(dataTable, element);\n",
              "        const docLink = document.createElement('div');\n",
              "        docLink.innerHTML = docLinkHtml;\n",
              "        element.appendChild(docLink);\n",
              "      }\n",
              "    </script>\n",
              "  </div>\n",
              "\n",
              "\n",
              "<div id=\"df-130d8110-6fba-47d1-8ebd-4e05e6088606\">\n",
              "  <button class=\"colab-df-quickchart\" onclick=\"quickchart('df-130d8110-6fba-47d1-8ebd-4e05e6088606')\"\n",
              "            title=\"Suggest charts\"\n",
              "            style=\"display:none;\">\n",
              "\n",
              "<svg xmlns=\"http://www.w3.org/2000/svg\" height=\"24px\"viewBox=\"0 0 24 24\"\n",
              "     width=\"24px\">\n",
              "    <g>\n",
              "        <path d=\"M19 3H5c-1.1 0-2 .9-2 2v14c0 1.1.9 2 2 2h14c1.1 0 2-.9 2-2V5c0-1.1-.9-2-2-2zM9 17H7v-7h2v7zm4 0h-2V7h2v10zm4 0h-2v-4h2v4z\"/>\n",
              "    </g>\n",
              "</svg>\n",
              "  </button>\n",
              "\n",
              "<style>\n",
              "  .colab-df-quickchart {\n",
              "      --bg-color: #E8F0FE;\n",
              "      --fill-color: #1967D2;\n",
              "      --hover-bg-color: #E2EBFA;\n",
              "      --hover-fill-color: #174EA6;\n",
              "      --disabled-fill-color: #AAA;\n",
              "      --disabled-bg-color: #DDD;\n",
              "  }\n",
              "\n",
              "  [theme=dark] .colab-df-quickchart {\n",
              "      --bg-color: #3B4455;\n",
              "      --fill-color: #D2E3FC;\n",
              "      --hover-bg-color: #434B5C;\n",
              "      --hover-fill-color: #FFFFFF;\n",
              "      --disabled-bg-color: #3B4455;\n",
              "      --disabled-fill-color: #666;\n",
              "  }\n",
              "\n",
              "  .colab-df-quickchart {\n",
              "    background-color: var(--bg-color);\n",
              "    border: none;\n",
              "    border-radius: 50%;\n",
              "    cursor: pointer;\n",
              "    display: none;\n",
              "    fill: var(--fill-color);\n",
              "    height: 32px;\n",
              "    padding: 0;\n",
              "    width: 32px;\n",
              "  }\n",
              "\n",
              "  .colab-df-quickchart:hover {\n",
              "    background-color: var(--hover-bg-color);\n",
              "    box-shadow: 0 1px 2px rgba(60, 64, 67, 0.3), 0 1px 3px 1px rgba(60, 64, 67, 0.15);\n",
              "    fill: var(--button-hover-fill-color);\n",
              "  }\n",
              "\n",
              "  .colab-df-quickchart-complete:disabled,\n",
              "  .colab-df-quickchart-complete:disabled:hover {\n",
              "    background-color: var(--disabled-bg-color);\n",
              "    fill: var(--disabled-fill-color);\n",
              "    box-shadow: none;\n",
              "  }\n",
              "\n",
              "  .colab-df-spinner {\n",
              "    border: 2px solid var(--fill-color);\n",
              "    border-color: transparent;\n",
              "    border-bottom-color: var(--fill-color);\n",
              "    animation:\n",
              "      spin 1s steps(1) infinite;\n",
              "  }\n",
              "\n",
              "  @keyframes spin {\n",
              "    0% {\n",
              "      border-color: transparent;\n",
              "      border-bottom-color: var(--fill-color);\n",
              "      border-left-color: var(--fill-color);\n",
              "    }\n",
              "    20% {\n",
              "      border-color: transparent;\n",
              "      border-left-color: var(--fill-color);\n",
              "      border-top-color: var(--fill-color);\n",
              "    }\n",
              "    30% {\n",
              "      border-color: transparent;\n",
              "      border-left-color: var(--fill-color);\n",
              "      border-top-color: var(--fill-color);\n",
              "      border-right-color: var(--fill-color);\n",
              "    }\n",
              "    40% {\n",
              "      border-color: transparent;\n",
              "      border-right-color: var(--fill-color);\n",
              "      border-top-color: var(--fill-color);\n",
              "    }\n",
              "    60% {\n",
              "      border-color: transparent;\n",
              "      border-right-color: var(--fill-color);\n",
              "    }\n",
              "    80% {\n",
              "      border-color: transparent;\n",
              "      border-right-color: var(--fill-color);\n",
              "      border-bottom-color: var(--fill-color);\n",
              "    }\n",
              "    90% {\n",
              "      border-color: transparent;\n",
              "      border-bottom-color: var(--fill-color);\n",
              "    }\n",
              "  }\n",
              "</style>\n",
              "\n",
              "  <script>\n",
              "    async function quickchart(key) {\n",
              "      const quickchartButtonEl =\n",
              "        document.querySelector('#' + key + ' button');\n",
              "      quickchartButtonEl.disabled = true;  // To prevent multiple clicks.\n",
              "      quickchartButtonEl.classList.add('colab-df-spinner');\n",
              "      try {\n",
              "        const charts = await google.colab.kernel.invokeFunction(\n",
              "            'suggestCharts', [key], {});\n",
              "      } catch (error) {\n",
              "        console.error('Error during call to suggestCharts:', error);\n",
              "      }\n",
              "      quickchartButtonEl.classList.remove('colab-df-spinner');\n",
              "      quickchartButtonEl.classList.add('colab-df-quickchart-complete');\n",
              "    }\n",
              "    (() => {\n",
              "      let quickchartButtonEl =\n",
              "        document.querySelector('#df-130d8110-6fba-47d1-8ebd-4e05e6088606 button');\n",
              "      quickchartButtonEl.style.display =\n",
              "        google.colab.kernel.accessAllowed ? 'block' : 'none';\n",
              "    })();\n",
              "  </script>\n",
              "</div>\n",
              "\n",
              "  <div id=\"id_410e8a2c-6172-4730-9e01-a2699efd7294\">\n",
              "    <style>\n",
              "      .colab-df-generate {\n",
              "        background-color: #E8F0FE;\n",
              "        border: none;\n",
              "        border-radius: 50%;\n",
              "        cursor: pointer;\n",
              "        display: none;\n",
              "        fill: #1967D2;\n",
              "        height: 32px;\n",
              "        padding: 0 0 0 0;\n",
              "        width: 32px;\n",
              "      }\n",
              "\n",
              "      .colab-df-generate:hover {\n",
              "        background-color: #E2EBFA;\n",
              "        box-shadow: 0px 1px 2px rgba(60, 64, 67, 0.3), 0px 1px 3px 1px rgba(60, 64, 67, 0.15);\n",
              "        fill: #174EA6;\n",
              "      }\n",
              "\n",
              "      [theme=dark] .colab-df-generate {\n",
              "        background-color: #3B4455;\n",
              "        fill: #D2E3FC;\n",
              "      }\n",
              "\n",
              "      [theme=dark] .colab-df-generate:hover {\n",
              "        background-color: #434B5C;\n",
              "        box-shadow: 0px 1px 3px 1px rgba(0, 0, 0, 0.15);\n",
              "        filter: drop-shadow(0px 1px 2px rgba(0, 0, 0, 0.3));\n",
              "        fill: #FFFFFF;\n",
              "      }\n",
              "    </style>\n",
              "    <button class=\"colab-df-generate\" onclick=\"generateWithVariable('df')\"\n",
              "            title=\"Generate code using this dataframe.\"\n",
              "            style=\"display:none;\">\n",
              "\n",
              "  <svg xmlns=\"http://www.w3.org/2000/svg\" height=\"24px\"viewBox=\"0 0 24 24\"\n",
              "       width=\"24px\">\n",
              "    <path d=\"M7,19H8.4L18.45,9,17,7.55,7,17.6ZM5,21V16.75L18.45,3.32a2,2,0,0,1,2.83,0l1.4,1.43a1.91,1.91,0,0,1,.58,1.4,1.91,1.91,0,0,1-.58,1.4L9.25,21ZM18.45,9,17,7.55Zm-12,3A5.31,5.31,0,0,0,4.9,8.1,5.31,5.31,0,0,0,1,6.5,5.31,5.31,0,0,0,4.9,4.9,5.31,5.31,0,0,0,6.5,1,5.31,5.31,0,0,0,8.1,4.9,5.31,5.31,0,0,0,12,6.5,5.46,5.46,0,0,0,6.5,12Z\"/>\n",
              "  </svg>\n",
              "    </button>\n",
              "    <script>\n",
              "      (() => {\n",
              "      const buttonEl =\n",
              "        document.querySelector('#id_410e8a2c-6172-4730-9e01-a2699efd7294 button.colab-df-generate');\n",
              "      buttonEl.style.display =\n",
              "        google.colab.kernel.accessAllowed ? 'block' : 'none';\n",
              "\n",
              "      buttonEl.onclick = () => {\n",
              "        google.colab.notebook.generateWithVariable('df');\n",
              "      }\n",
              "      })();\n",
              "    </script>\n",
              "  </div>\n",
              "\n",
              "    </div>\n",
              "  </div>\n"
            ],
            "text/plain": [
              "              Price     Open     High      Low     Vol. Change %   Average\n",
              "Date                                                                      \n",
              "2010-07-18      0.1      0.0      0.1      0.1    0.08K    0.00%      0.10\n",
              "2010-07-19      0.1      0.1      0.1      0.1    0.57K    0.00%      0.10\n",
              "2010-07-20      0.1      0.1      0.1      0.1    0.26K    0.00%      0.10\n",
              "2010-07-21      0.1      0.1      0.1      0.1    0.58K    0.00%      0.10\n",
              "2010-07-22      0.1      0.1      0.1      0.1    2.16K    0.00%      0.10\n",
              "...             ...      ...      ...      ...      ...      ...       ...\n",
              "2024-12-28  95284.5  94274.9  95684.3  94124.7   32.97K    1.07%  94904.50\n",
              "2024-12-29  93716.3  95282.6  95315.4  93026.7   47.71K   -1.65%  94171.05\n",
              "2024-12-30  92779.8  93718.7  94936.4  91522.3  112.43K   -1.00%  93229.35\n",
              "2024-12-31  93557.2  92777.2  96163.4  92036.2   74.85K    0.84%  94099.80\n",
              "2025-01-01  94560.2  93557.3  95100.0  92939.3   43.34K    1.07%  94019.65\n",
              "\n",
              "[5282 rows x 7 columns]"
            ]
          },
          "execution_count": 122,
          "metadata": {},
          "output_type": "execute_result"
        }
      ],
      "source": [
        "df = pd.read_csv('data/bitcoin/bitcoin_preprocessed.csv', index_col=\"Date\", parse_dates=[\"Date\"])\n",
        "df"
      ]
    },
    {
      "cell_type": "code",
      "execution_count": 123,
      "metadata": {
        "id": "O-Pjph-PLCWC"
      },
      "outputs": [],
      "source": [
        "# df = pd.read_csv('bitcoin_preprocessed.csv')\n",
        "# df = df.drop(columns=['Unnamed: 0'])\n",
        "# for name in df.columns[1:-2]:\n",
        "#     df[name] = df[name].str.replace(',', '').astype(float)\n",
        "# df['Date'] = pd.to_datetime(df['Date'], format='%m/%d/%Y').dt.strftime('%Y-%m-%d')\n",
        "# df = df.sort_values('Date')\n",
        "# #df['Average'] = (df['High'] + df['Low']) / 2.0\n",
        "# df['Date'] = pd.to_datetime(df['Date'])\n",
        "# df = df.set_index('Date')\n",
        "# df"
      ]
    },
    {
      "cell_type": "code",
      "execution_count": 124,
      "metadata": {
        "colab": {
          "base_uri": "https://localhost:8080/"
        },
        "id": "7keRSCg0OZ3z",
        "outputId": "8f0f03b5-242f-44ae-8c8a-75a42adf5b10"
      },
      "outputs": [
        {
          "name": "stdout",
          "output_type": "stream",
          "text": [
            "<class 'pandas.core.frame.DataFrame'>\n",
            "DatetimeIndex: 5282 entries, 2010-07-18 to 2025-01-01\n",
            "Data columns (total 7 columns):\n",
            " #   Column    Non-Null Count  Dtype  \n",
            "---  ------    --------------  -----  \n",
            " 0   Price     5282 non-null   float64\n",
            " 1   Open      5282 non-null   float64\n",
            " 2   High      5282 non-null   float64\n",
            " 3   Low       5282 non-null   float64\n",
            " 4   Vol.      5276 non-null   object \n",
            " 5   Change %  5282 non-null   object \n",
            " 6   Average   5282 non-null   float64\n",
            "dtypes: float64(5), object(2)\n",
            "memory usage: 330.1+ KB\n"
          ]
        }
      ],
      "source": [
        "df.info()"
      ]
    },
    {
      "cell_type": "markdown",
      "metadata": {
        "id": "mRPLbDuAbevI"
      },
      "source": [
        "### Data visualization"
      ]
    },
    {
      "cell_type": "code",
      "execution_count": 125,
      "metadata": {
        "colab": {
          "base_uri": "https://localhost:8080/",
          "height": 653
        },
        "id": "SzgeueQGM3eY",
        "outputId": "a4968fb6-2443-4bf6-fd76-5fe3ab4ccce6"
      },
      "outputs": [
        {
          "data": {
            "image/png": "[encoded data removed]",
            "text/plain": [
              "<Figure size 1600x900 with 1 Axes>"
            ]
          },
          "metadata": {},
          "output_type": "display_data"
        }
      ],
      "source": [
        "plt.figure(figsize=(16, 9))\n",
        "plt.plot(df.index, df['Average'], linestyle='-', color='b')\n",
        "plt.title('Distribution of Bitcoin Prices Over Time')\n",
        "plt.ylabel('Mid Price ($)')\n",
        "plt.grid(True)\n",
        "plt.show()"
      ]
    },
    {
      "cell_type": "markdown",
      "metadata": {
        "id": "khCFQmCRlIjM"
      },
      "source": [
        "Trzy okna w normalizacji:\n",
        "- od początku do 2017-01-01\n",
        "- od 2017-01-02 do 2020-12-15\n",
        "- od 2020-12-16 do 2022-02-10\n"
      ]
    },
    {
      "cell_type": "markdown",
      "metadata": {
        "id": "G3LkEHeLbTSu"
      },
      "source": [
        "### Splitting Data Into a Training Set and a Test Set"
      ]
    },
    {
      "cell_type": "code",
      "execution_count": 126,
      "metadata": {
        "colab": {
          "base_uri": "https://localhost:8080/"
        },
        "id": "fF1g_37TWXcT",
        "outputId": "a8ea62f0-52aa-4328-9b3c-b1e2d3fe9278"
      },
      "outputs": [
        {
          "name": "stdout",
          "output_type": "stream",
          "text": [
            "Training set size: 4226 records\n",
            "Test set size: 1056 records\n",
            "\n",
            "The dataset has 5282 rows\n"
          ]
        }
      ],
      "source": [
        "# Set your test size as a percentage (e.g., 20% for testing)\n",
        "test_size_percentage = 20\n",
        "\n",
        "test_size = int(np.floor(len(df) * (test_size_percentage / 100)))\n",
        "train_df = df[:-test_size]\n",
        "test_df = df[-test_size:]\n",
        "\n",
        "print(f\"Training set size: {len(train_df)} records\")\n",
        "print(f\"Test set size: {len(test_df)} records\\n\")\n",
        "print(f\"The dataset has {df.shape[0]} rows\")"
      ]
    },
    {
      "cell_type": "code",
      "execution_count": 127,
      "metadata": {
        "colab": {
          "base_uri": "https://localhost:8080/",
          "height": 237
        },
        "id": "5gVKZ388aRAA",
        "outputId": "01053184-2c16-4889-eebb-e5a8d12afe5f"
      },
      "outputs": [
        {
          "data": {
            "application/vnd.google.colaboratory.intrinsic+json": {
              "summary": "{\n  \"name\": \"train_df\",\n  \"rows\": 5,\n  \"fields\": [\n    {\n      \"column\": \"Date\",\n      \"properties\": {\n        \"dtype\": \"date\",\n        \"min\": \"2022-02-06 00:00:00\",\n        \"max\": \"2022-02-10 00:00:00\",\n        \"num_unique_values\": 5,\n        \"samples\": [\n          \"2022-02-07 00:00:00\",\n          \"2022-02-10 00:00:00\",\n          \"2022-02-08 00:00:00\"\n        ],\n        \"semantic_type\": \"\",\n        \"description\": \"\"\n      }\n    },\n    {\n      \"column\": \"Price\",\n      \"properties\": {\n        \"dtype\": \"number\",\n        \"std\": 762.8965152627203,\n        \"min\": 42392.2,\n        \"max\": 44388.9,\n        \"num_unique_values\": 5,\n        \"samples\": [\n          43833.9,\n          43521.0,\n          44038.2\n        ],\n        \"semantic_type\": \"\",\n        \"description\": \"\"\n      }\n    },\n    {\n      \"column\": \"Open\",\n      \"properties\": {\n        \"dtype\": \"number\",\n        \"std\": 1262.7764239959504,\n        \"min\": 41411.9,\n        \"max\": 44388.9,\n        \"num_unique_values\": 5,\n        \"samples\": [\n          42385.2,\n          44388.9,\n          43833.9\n        ],\n        \"semantic_type\": \"\",\n        \"description\": \"\"\n      }\n    },\n    {\n      \"column\": \"High\",\n      \"properties\": {\n        \"dtype\": \"number\",\n        \"std\": 1221.9241711333796,\n        \"min\": 42614.8,\n        \"max\": 45755.2,\n        \"num_unique_values\": 5,\n        \"samples\": [\n          44468.3,\n          45755.2,\n          45399.8\n        ],\n        \"semantic_type\": \"\",\n        \"description\": \"\"\n      }\n    },\n    {\n      \"column\": \"Low\",\n      \"properties\": {\n        \"dtype\": \"number\",\n        \"std\": 919.0810263518651,\n        \"min\": 41176.3,\n        \"max\": 43242.5,\n        \"num_unique_values\": 5,\n        \"samples\": [\n          41695.4,\n          43242.5,\n          42705.0\n        ],\n        \"semantic_type\": \"\",\n        \"description\": \"\"\n      }\n    },\n    {\n      \"column\": \"Vol.\",\n      \"properties\": {\n        \"dtype\": \"string\",\n        \"num_unique_values\": 5,\n        \"samples\": [\n          \"76.60K\",\n          \"89.69K\",\n          \"92.88K\"\n        ],\n        \"semantic_type\": \"\",\n        \"description\": \"\"\n      }\n    },\n    {\n      \"column\": \"Change %\",\n      \"properties\": {\n        \"dtype\": \"string\",\n        \"num_unique_values\": 5,\n        \"samples\": [\n          \"3.40%\",\n          \"-1.96%\",\n          \"0.47%\"\n        ],\n        \"semantic_type\": \"\",\n        \"description\": \"\"\n      }\n    },\n    {\n      \"column\": \"Average\",\n      \"properties\": {\n        \"dtype\": \"number\",\n        \"std\": 1034.8876476458665,\n        \"min\": 41895.55,\n        \"max\": 44498.85,\n        \"num_unique_values\": 5,\n        \"samples\": [\n          43081.850000000006,\n          44498.85,\n          44052.4\n        ],\n        \"semantic_type\": \"\",\n        \"description\": \"\"\n      }\n    }\n  ]\n}",
              "type": "dataframe"
            },
            "text/html": [
              "\n",
              "  <div id=\"df-8a5605f5-a293-4c29-b6c0-df6bccd35d38\" class=\"colab-df-container\">\n",
              "    <div>\n",
              "<style scoped>\n",
              "    .dataframe tbody tr th:only-of-type {\n",
              "        vertical-align: middle;\n",
              "    }\n",
              "\n",
              "    .dataframe tbody tr th {\n",
              "        vertical-align: top;\n",
              "    }\n",
              "\n",
              "    .dataframe thead th {\n",
              "        text-align: right;\n",
              "    }\n",
              "</style>\n",
              "<table border=\"1\" class=\"dataframe\">\n",
              "  <thead>\n",
              "    <tr style=\"text-align: right;\">\n",
              "      <th></th>\n",
              "      <th>Price</th>\n",
              "      <th>Open</th>\n",
              "      <th>High</th>\n",
              "      <th>Low</th>\n",
              "      <th>Vol.</th>\n",
              "      <th>Change %</th>\n",
              "      <th>Average</th>\n",
              "    </tr>\n",
              "    <tr>\n",
              "      <th>Date</th>\n",
              "      <th></th>\n",
              "      <th></th>\n",
              "      <th></th>\n",
              "      <th></th>\n",
              "      <th></th>\n",
              "      <th></th>\n",
              "      <th></th>\n",
              "    </tr>\n",
              "  </thead>\n",
              "  <tbody>\n",
              "    <tr>\n",
              "      <th>2022-02-06</th>\n",
              "      <td>42392.2</td>\n",
              "      <td>41411.9</td>\n",
              "      <td>42614.8</td>\n",
              "      <td>41176.3</td>\n",
              "      <td>31.20K</td>\n",
              "      <td>2.37%</td>\n",
              "      <td>41895.55</td>\n",
              "    </tr>\n",
              "    <tr>\n",
              "      <th>2022-02-07</th>\n",
              "      <td>43833.9</td>\n",
              "      <td>42385.2</td>\n",
              "      <td>44468.3</td>\n",
              "      <td>41695.4</td>\n",
              "      <td>76.60K</td>\n",
              "      <td>3.40%</td>\n",
              "      <td>43081.85</td>\n",
              "    </tr>\n",
              "    <tr>\n",
              "      <th>2022-02-08</th>\n",
              "      <td>44038.2</td>\n",
              "      <td>43833.9</td>\n",
              "      <td>45399.8</td>\n",
              "      <td>42705.0</td>\n",
              "      <td>92.88K</td>\n",
              "      <td>0.47%</td>\n",
              "      <td>44052.40</td>\n",
              "    </tr>\n",
              "    <tr>\n",
              "      <th>2022-02-09</th>\n",
              "      <td>44388.9</td>\n",
              "      <td>44038.2</td>\n",
              "      <td>44800.4</td>\n",
              "      <td>43163.0</td>\n",
              "      <td>50.92K</td>\n",
              "      <td>0.80%</td>\n",
              "      <td>43981.70</td>\n",
              "    </tr>\n",
              "    <tr>\n",
              "      <th>2022-02-10</th>\n",
              "      <td>43521.0</td>\n",
              "      <td>44388.9</td>\n",
              "      <td>45755.2</td>\n",
              "      <td>43242.5</td>\n",
              "      <td>89.69K</td>\n",
              "      <td>-1.96%</td>\n",
              "      <td>44498.85</td>\n",
              "    </tr>\n",
              "  </tbody>\n",
              "</table>\n",
              "</div>\n",
              "    <div class=\"colab-df-buttons\">\n",
              "\n",
              "  <div class=\"colab-df-container\">\n",
              "    <button class=\"colab-df-convert\" onclick=\"convertToInteractive('df-8a5605f5-a293-4c29-b6c0-df6bccd35d38')\"\n",
              "            title=\"Convert this dataframe to an interactive table.\"\n",
              "            style=\"display:none;\">\n",
              "\n",
              "  <svg xmlns=\"http://www.w3.org/2000/svg\" height=\"24px\" viewBox=\"0 -960 960 960\">\n",
              "    <path d=\"M120-120v-720h720v720H120Zm60-500h600v-160H180v160Zm220 220h160v-160H400v160Zm0 220h160v-160H400v160ZM180-400h160v-160H180v160Zm440 0h160v-160H620v160ZM180-180h160v-160H180v160Zm440 0h160v-160H620v160Z\"/>\n",
              "  </svg>\n",
              "    </button>\n",
              "\n",
              "  <style>\n",
              "    .colab-df-container {\n",
              "      display:flex;\n",
              "      gap: 12px;\n",
              "    }\n",
              "\n",
              "    .colab-df-convert {\n",
              "      background-color: #E8F0FE;\n",
              "      border: none;\n",
              "      border-radius: 50%;\n",
              "      cursor: pointer;\n",
              "      display: none;\n",
              "      fill: #1967D2;\n",
              "      height: 32px;\n",
              "      padding: 0 0 0 0;\n",
              "      width: 32px;\n",
              "    }\n",
              "\n",
              "    .colab-df-convert:hover {\n",
              "      background-color: #E2EBFA;\n",
              "      box-shadow: 0px 1px 2px rgba(60, 64, 67, 0.3), 0px 1px 3px 1px rgba(60, 64, 67, 0.15);\n",
              "      fill: #174EA6;\n",
              "    }\n",
              "\n",
              "    .colab-df-buttons div {\n",
              "      margin-bottom: 4px;\n",
              "    }\n",
              "\n",
              "    [theme=dark] .colab-df-convert {\n",
              "      background-color: #3B4455;\n",
              "      fill: #D2E3FC;\n",
              "    }\n",
              "\n",
              "    [theme=dark] .colab-df-convert:hover {\n",
              "      background-color: #434B5C;\n",
              "      box-shadow: 0px 1px 3px 1px rgba(0, 0, 0, 0.15);\n",
              "      filter: drop-shadow(0px 1px 2px rgba(0, 0, 0, 0.3));\n",
              "      fill: #FFFFFF;\n",
              "    }\n",
              "  </style>\n",
              "\n",
              "    <script>\n",
              "      const buttonEl =\n",
              "        document.querySelector('#df-8a5605f5-a293-4c29-b6c0-df6bccd35d38 button.colab-df-convert');\n",
              "      buttonEl.style.display =\n",
              "        google.colab.kernel.accessAllowed ? 'block' : 'none';\n",
              "\n",
              "      async function convertToInteractive(key) {\n",
              "        const element = document.querySelector('#df-8a5605f5-a293-4c29-b6c0-df6bccd35d38');\n",
              "        const dataTable =\n",
              "          await google.colab.kernel.invokeFunction('convertToInteractive',\n",
              "                                                    [key], {});\n",
              "        if (!dataTable) return;\n",
              "\n",
              "        const docLinkHtml = 'Like what you see? Visit the ' +\n",
              "          '<a target=\"_blank\" href=https://colab.research.google.com/notebooks/data_table.ipynb>data table notebook</a>'\n",
              "          + ' to learn more about interactive tables.';\n",
              "        element.innerHTML = '';\n",
              "        dataTable['output_type'] = 'display_data';\n",
              "        await google.colab.output.renderOutput(dataTable, element);\n",
              "        const docLink = document.createElement('div');\n",
              "        docLink.innerHTML = docLinkHtml;\n",
              "        element.appendChild(docLink);\n",
              "      }\n",
              "    </script>\n",
              "  </div>\n",
              "\n",
              "\n",
              "<div id=\"df-c73ac7b8-79a8-404b-80aa-aaf60ee9be8b\">\n",
              "  <button class=\"colab-df-quickchart\" onclick=\"quickchart('df-c73ac7b8-79a8-404b-80aa-aaf60ee9be8b')\"\n",
              "            title=\"Suggest charts\"\n",
              "            style=\"display:none;\">\n",
              "\n",
              "<svg xmlns=\"http://www.w3.org/2000/svg\" height=\"24px\"viewBox=\"0 0 24 24\"\n",
              "     width=\"24px\">\n",
              "    <g>\n",
              "        <path d=\"M19 3H5c-1.1 0-2 .9-2 2v14c0 1.1.9 2 2 2h14c1.1 0 2-.9 2-2V5c0-1.1-.9-2-2-2zM9 17H7v-7h2v7zm4 0h-2V7h2v10zm4 0h-2v-4h2v4z\"/>\n",
              "    </g>\n",
              "</svg>\n",
              "  </button>\n",
              "\n",
              "<style>\n",
              "  .colab-df-quickchart {\n",
              "      --bg-color: #E8F0FE;\n",
              "      --fill-color: #1967D2;\n",
              "      --hover-bg-color: #E2EBFA;\n",
              "      --hover-fill-color: #174EA6;\n",
              "      --disabled-fill-color: #AAA;\n",
              "      --disabled-bg-color: #DDD;\n",
              "  }\n",
              "\n",
              "  [theme=dark] .colab-df-quickchart {\n",
              "      --bg-color: #3B4455;\n",
              "      --fill-color: #D2E3FC;\n",
              "      --hover-bg-color: #434B5C;\n",
              "      --hover-fill-color: #FFFFFF;\n",
              "      --disabled-bg-color: #3B4455;\n",
              "      --disabled-fill-color: #666;\n",
              "  }\n",
              "\n",
              "  .colab-df-quickchart {\n",
              "    background-color: var(--bg-color);\n",
              "    border: none;\n",
              "    border-radius: 50%;\n",
              "    cursor: pointer;\n",
              "    display: none;\n",
              "    fill: var(--fill-color);\n",
              "    height: 32px;\n",
              "    padding: 0;\n",
              "    width: 32px;\n",
              "  }\n",
              "\n",
              "  .colab-df-quickchart:hover {\n",
              "    background-color: var(--hover-bg-color);\n",
              "    box-shadow: 0 1px 2px rgba(60, 64, 67, 0.3), 0 1px 3px 1px rgba(60, 64, 67, 0.15);\n",
              "    fill: var(--button-hover-fill-color);\n",
              "  }\n",
              "\n",
              "  .colab-df-quickchart-complete:disabled,\n",
              "  .colab-df-quickchart-complete:disabled:hover {\n",
              "    background-color: var(--disabled-bg-color);\n",
              "    fill: var(--disabled-fill-color);\n",
              "    box-shadow: none;\n",
              "  }\n",
              "\n",
              "  .colab-df-spinner {\n",
              "    border: 2px solid var(--fill-color);\n",
              "    border-color: transparent;\n",
              "    border-bottom-color: var(--fill-color);\n",
              "    animation:\n",
              "      spin 1s steps(1) infinite;\n",
              "  }\n",
              "\n",
              "  @keyframes spin {\n",
              "    0% {\n",
              "      border-color: transparent;\n",
              "      border-bottom-color: var(--fill-color);\n",
              "      border-left-color: var(--fill-color);\n",
              "    }\n",
              "    20% {\n",
              "      border-color: transparent;\n",
              "      border-left-color: var(--fill-color);\n",
              "      border-top-color: var(--fill-color);\n",
              "    }\n",
              "    30% {\n",
              "      border-color: transparent;\n",
              "      border-left-color: var(--fill-color);\n",
              "      border-top-color: var(--fill-color);\n",
              "      border-right-color: var(--fill-color);\n",
              "    }\n",
              "    40% {\n",
              "      border-color: transparent;\n",
              "      border-right-color: var(--fill-color);\n",
              "      border-top-color: var(--fill-color);\n",
              "    }\n",
              "    60% {\n",
              "      border-color: transparent;\n",
              "      border-right-color: var(--fill-color);\n",
              "    }\n",
              "    80% {\n",
              "      border-color: transparent;\n",
              "      border-right-color: var(--fill-color);\n",
              "      border-bottom-color: var(--fill-color);\n",
              "    }\n",
              "    90% {\n",
              "      border-color: transparent;\n",
              "      border-bottom-color: var(--fill-color);\n",
              "    }\n",
              "  }\n",
              "</style>\n",
              "\n",
              "  <script>\n",
              "    async function quickchart(key) {\n",
              "      const quickchartButtonEl =\n",
              "        document.querySelector('#' + key + ' button');\n",
              "      quickchartButtonEl.disabled = true;  // To prevent multiple clicks.\n",
              "      quickchartButtonEl.classList.add('colab-df-spinner');\n",
              "      try {\n",
              "        const charts = await google.colab.kernel.invokeFunction(\n",
              "            'suggestCharts', [key], {});\n",
              "      } catch (error) {\n",
              "        console.error('Error during call to suggestCharts:', error);\n",
              "      }\n",
              "      quickchartButtonEl.classList.remove('colab-df-spinner');\n",
              "      quickchartButtonEl.classList.add('colab-df-quickchart-complete');\n",
              "    }\n",
              "    (() => {\n",
              "      let quickchartButtonEl =\n",
              "        document.querySelector('#df-c73ac7b8-79a8-404b-80aa-aaf60ee9be8b button');\n",
              "      quickchartButtonEl.style.display =\n",
              "        google.colab.kernel.accessAllowed ? 'block' : 'none';\n",
              "    })();\n",
              "  </script>\n",
              "</div>\n",
              "\n",
              "    </div>\n",
              "  </div>\n"
            ],
            "text/plain": [
              "              Price     Open     High      Low    Vol. Change %   Average\n",
              "Date                                                                     \n",
              "2022-02-06  42392.2  41411.9  42614.8  41176.3  31.20K    2.37%  41895.55\n",
              "2022-02-07  43833.9  42385.2  44468.3  41695.4  76.60K    3.40%  43081.85\n",
              "2022-02-08  44038.2  43833.9  45399.8  42705.0  92.88K    0.47%  44052.40\n",
              "2022-02-09  44388.9  44038.2  44800.4  43163.0  50.92K    0.80%  43981.70\n",
              "2022-02-10  43521.0  44388.9  45755.2  43242.5  89.69K   -1.96%  44498.85"
            ]
          },
          "execution_count": 127,
          "metadata": {},
          "output_type": "execute_result"
        }
      ],
      "source": [
        "train_df.tail()"
      ]
    },
    {
      "cell_type": "code",
      "execution_count": 128,
      "metadata": {
        "colab": {
          "base_uri": "https://localhost:8080/",
          "height": 237
        },
        "id": "JXMY80zraS4E",
        "outputId": "343bcc56-374b-4414-f239-845899103934"
      },
      "outputs": [
        {
          "data": {
            "application/vnd.google.colaboratory.intrinsic+json": {
              "summary": "{\n  \"name\": \"test_df\",\n  \"rows\": 1056,\n  \"fields\": [\n    {\n      \"column\": \"Date\",\n      \"properties\": {\n        \"dtype\": \"date\",\n        \"min\": \"2022-02-11 00:00:00\",\n        \"max\": \"2025-01-01 00:00:00\",\n        \"num_unique_values\": 1056,\n        \"samples\": [\n          \"2022-10-29 00:00:00\",\n          \"2024-05-23 00:00:00\",\n          \"2024-06-06 00:00:00\"\n        ],\n        \"semantic_type\": \"\",\n        \"description\": \"\"\n      }\n    },\n    {\n      \"column\": \"Price\",\n      \"properties\": {\n        \"dtype\": \"number\",\n        \"std\": 21185.552458381593,\n        \"min\": 15776.2,\n        \"max\": 106138.9,\n        \"num_unique_values\": 1052,\n        \"samples\": [\n          28683.7,\n          42072.4,\n          16607.2\n        ],\n        \"semantic_type\": \"\",\n        \"description\": \"\"\n      }\n    },\n    {\n      \"column\": \"Open\",\n      \"properties\": {\n        \"dtype\": \"number\",\n        \"std\": 21121.52409326962,\n        \"min\": 15776.6,\n        \"max\": 106140.7,\n        \"num_unique_values\": 1052,\n        \"samples\": [\n          30437.5,\n          42581.1,\n          16546.2\n        ],\n        \"semantic_type\": \"\",\n        \"description\": \"\"\n      }\n    },\n    {\n      \"column\": \"High\",\n      \"properties\": {\n        \"dtype\": \"number\",\n        \"std\": 21577.51287734093,\n        \"min\": 16274.6,\n        \"max\": 108244.9,\n        \"num_unique_values\": 1055,\n        \"samples\": [\n          20922.3,\n          69212.0,\n          71956.5\n        ],\n        \"semantic_type\": \"\",\n        \"description\": \"\"\n      }\n    },\n    {\n      \"column\": \"Low\",\n      \"properties\": {\n        \"dtype\": \"number\",\n        \"std\": 20698.358824443018,\n        \"min\": 15504.2,\n        \"max\": 105350.6,\n        \"num_unique_values\": 1055,\n        \"samples\": [\n          20561.9,\n          66685.8,\n          68620.7\n        ],\n        \"semantic_type\": \"\",\n        \"description\": \"\"\n      }\n    },\n    {\n      \"column\": \"Vol.\",\n      \"properties\": {\n        \"dtype\": \"string\",\n        \"num_unique_values\": 1042,\n        \"samples\": [\n          \"31.42K\",\n          \"20.74K\",\n          \"85.42K\"\n        ],\n        \"semantic_type\": \"\",\n        \"description\": \"\"\n      }\n    },\n    {\n      \"column\": \"Change %\",\n      \"properties\": {\n        \"dtype\": \"string\",\n        \"num_unique_values\": 614,\n        \"samples\": [\n          \"-1.99%\",\n          \"-1.18%\",\n          \"3.08%\"\n        ],\n        \"semantic_type\": \"\",\n        \"description\": \"\"\n      }\n    },\n    {\n      \"column\": \"Average\",\n      \"properties\": {\n        \"dtype\": \"number\",\n        \"std\": 21131.147764681984,\n        \"min\": 15896.05,\n        \"max\": 106797.75,\n        \"num_unique_values\": 1056,\n        \"samples\": [\n          20800.0,\n          68309.55,\n          70897.4\n        ],\n        \"semantic_type\": \"\",\n        \"description\": \"\"\n      }\n    }\n  ]\n}",
              "type": "dataframe",
              "variable_name": "test_df"
            },
            "text/html": [
              "\n",
              "  <div id=\"df-16eb01c6-69ba-4531-a493-614f4790ac07\" class=\"colab-df-container\">\n",
              "    <div>\n",
              "<style scoped>\n",
              "    .dataframe tbody tr th:only-of-type {\n",
              "        vertical-align: middle;\n",
              "    }\n",
              "\n",
              "    .dataframe tbody tr th {\n",
              "        vertical-align: top;\n",
              "    }\n",
              "\n",
              "    .dataframe thead th {\n",
              "        text-align: right;\n",
              "    }\n",
              "</style>\n",
              "<table border=\"1\" class=\"dataframe\">\n",
              "  <thead>\n",
              "    <tr style=\"text-align: right;\">\n",
              "      <th></th>\n",
              "      <th>Price</th>\n",
              "      <th>Open</th>\n",
              "      <th>High</th>\n",
              "      <th>Low</th>\n",
              "      <th>Vol.</th>\n",
              "      <th>Change %</th>\n",
              "      <th>Average</th>\n",
              "    </tr>\n",
              "    <tr>\n",
              "      <th>Date</th>\n",
              "      <th></th>\n",
              "      <th></th>\n",
              "      <th></th>\n",
              "      <th></th>\n",
              "      <th></th>\n",
              "      <th></th>\n",
              "      <th></th>\n",
              "    </tr>\n",
              "  </thead>\n",
              "  <tbody>\n",
              "    <tr>\n",
              "      <th>2022-02-11</th>\n",
              "      <td>42388.4</td>\n",
              "      <td>43519.3</td>\n",
              "      <td>43915.1</td>\n",
              "      <td>42023.4</td>\n",
              "      <td>69.95K</td>\n",
              "      <td>-2.60%</td>\n",
              "      <td>42969.25</td>\n",
              "    </tr>\n",
              "    <tr>\n",
              "      <th>2022-02-12</th>\n",
              "      <td>42205.2</td>\n",
              "      <td>42388.4</td>\n",
              "      <td>43006.4</td>\n",
              "      <td>41776.8</td>\n",
              "      <td>37.88K</td>\n",
              "      <td>-0.43%</td>\n",
              "      <td>42391.60</td>\n",
              "    </tr>\n",
              "    <tr>\n",
              "      <th>2022-02-13</th>\n",
              "      <td>42061.1</td>\n",
              "      <td>42205.5</td>\n",
              "      <td>42725.1</td>\n",
              "      <td>41880.1</td>\n",
              "      <td>25.88K</td>\n",
              "      <td>-0.34%</td>\n",
              "      <td>42302.60</td>\n",
              "    </tr>\n",
              "    <tr>\n",
              "      <th>2022-02-14</th>\n",
              "      <td>42550.3</td>\n",
              "      <td>42061.1</td>\n",
              "      <td>42799.7</td>\n",
              "      <td>41591.3</td>\n",
              "      <td>53.60K</td>\n",
              "      <td>1.16%</td>\n",
              "      <td>42195.50</td>\n",
              "    </tr>\n",
              "    <tr>\n",
              "      <th>2022-02-15</th>\n",
              "      <td>44544.4</td>\n",
              "      <td>42550.3</td>\n",
              "      <td>44722.6</td>\n",
              "      <td>42460.1</td>\n",
              "      <td>56.34K</td>\n",
              "      <td>4.69%</td>\n",
              "      <td>43591.35</td>\n",
              "    </tr>\n",
              "  </tbody>\n",
              "</table>\n",
              "</div>\n",
              "    <div class=\"colab-df-buttons\">\n",
              "\n",
              "  <div class=\"colab-df-container\">\n",
              "    <button class=\"colab-df-convert\" onclick=\"convertToInteractive('df-16eb01c6-69ba-4531-a493-614f4790ac07')\"\n",
              "            title=\"Convert this dataframe to an interactive table.\"\n",
              "            style=\"display:none;\">\n",
              "\n",
              "  <svg xmlns=\"http://www.w3.org/2000/svg\" height=\"24px\" viewBox=\"0 -960 960 960\">\n",
              "    <path d=\"M120-120v-720h720v720H120Zm60-500h600v-160H180v160Zm220 220h160v-160H400v160Zm0 220h160v-160H400v160ZM180-400h160v-160H180v160Zm440 0h160v-160H620v160ZM180-180h160v-160H180v160Zm440 0h160v-160H620v160Z\"/>\n",
              "  </svg>\n",
              "    </button>\n",
              "\n",
              "  <style>\n",
              "    .colab-df-container {\n",
              "      display:flex;\n",
              "      gap: 12px;\n",
              "    }\n",
              "\n",
              "    .colab-df-convert {\n",
              "      background-color: #E8F0FE;\n",
              "      border: none;\n",
              "      border-radius: 50%;\n",
              "      cursor: pointer;\n",
              "      display: none;\n",
              "      fill: #1967D2;\n",
              "      height: 32px;\n",
              "      padding: 0 0 0 0;\n",
              "      width: 32px;\n",
              "    }\n",
              "\n",
              "    .colab-df-convert:hover {\n",
              "      background-color: #E2EBFA;\n",
              "      box-shadow: 0px 1px 2px rgba(60, 64, 67, 0.3), 0px 1px 3px 1px rgba(60, 64, 67, 0.15);\n",
              "      fill: #174EA6;\n",
              "    }\n",
              "\n",
              "    .colab-df-buttons div {\n",
              "      margin-bottom: 4px;\n",
              "    }\n",
              "\n",
              "    [theme=dark] .colab-df-convert {\n",
              "      background-color: #3B4455;\n",
              "      fill: #D2E3FC;\n",
              "    }\n",
              "\n",
              "    [theme=dark] .colab-df-convert:hover {\n",
              "      background-color: #434B5C;\n",
              "      box-shadow: 0px 1px 3px 1px rgba(0, 0, 0, 0.15);\n",
              "      filter: drop-shadow(0px 1px 2px rgba(0, 0, 0, 0.3));\n",
              "      fill: #FFFFFF;\n",
              "    }\n",
              "  </style>\n",
              "\n",
              "    <script>\n",
              "      const buttonEl =\n",
              "        document.querySelector('#df-16eb01c6-69ba-4531-a493-614f4790ac07 button.colab-df-convert');\n",
              "      buttonEl.style.display =\n",
              "        google.colab.kernel.accessAllowed ? 'block' : 'none';\n",
              "\n",
              "      async function convertToInteractive(key) {\n",
              "        const element = document.querySelector('#df-16eb01c6-69ba-4531-a493-614f4790ac07');\n",
              "        const dataTable =\n",
              "          await google.colab.kernel.invokeFunction('convertToInteractive',\n",
              "                                                    [key], {});\n",
              "        if (!dataTable) return;\n",
              "\n",
              "        const docLinkHtml = 'Like what you see? Visit the ' +\n",
              "          '<a target=\"_blank\" href=https://colab.research.google.com/notebooks/data_table.ipynb>data table notebook</a>'\n",
              "          + ' to learn more about interactive tables.';\n",
              "        element.innerHTML = '';\n",
              "        dataTable['output_type'] = 'display_data';\n",
              "        await google.colab.output.renderOutput(dataTable, element);\n",
              "        const docLink = document.createElement('div');\n",
              "        docLink.innerHTML = docLinkHtml;\n",
              "        element.appendChild(docLink);\n",
              "      }\n",
              "    </script>\n",
              "  </div>\n",
              "\n",
              "\n",
              "<div id=\"df-328836d1-ec71-4707-a576-b8e0c622c3f7\">\n",
              "  <button class=\"colab-df-quickchart\" onclick=\"quickchart('df-328836d1-ec71-4707-a576-b8e0c622c3f7')\"\n",
              "            title=\"Suggest charts\"\n",
              "            style=\"display:none;\">\n",
              "\n",
              "<svg xmlns=\"http://www.w3.org/2000/svg\" height=\"24px\"viewBox=\"0 0 24 24\"\n",
              "     width=\"24px\">\n",
              "    <g>\n",
              "        <path d=\"M19 3H5c-1.1 0-2 .9-2 2v14c0 1.1.9 2 2 2h14c1.1 0 2-.9 2-2V5c0-1.1-.9-2-2-2zM9 17H7v-7h2v7zm4 0h-2V7h2v10zm4 0h-2v-4h2v4z\"/>\n",
              "    </g>\n",
              "</svg>\n",
              "  </button>\n",
              "\n",
              "<style>\n",
              "  .colab-df-quickchart {\n",
              "      --bg-color: #E8F0FE;\n",
              "      --fill-color: #1967D2;\n",
              "      --hover-bg-color: #E2EBFA;\n",
              "      --hover-fill-color: #174EA6;\n",
              "      --disabled-fill-color: #AAA;\n",
              "      --disabled-bg-color: #DDD;\n",
              "  }\n",
              "\n",
              "  [theme=dark] .colab-df-quickchart {\n",
              "      --bg-color: #3B4455;\n",
              "      --fill-color: #D2E3FC;\n",
              "      --hover-bg-color: #434B5C;\n",
              "      --hover-fill-color: #FFFFFF;\n",
              "      --disabled-bg-color: #3B4455;\n",
              "      --disabled-fill-color: #666;\n",
              "  }\n",
              "\n",
              "  .colab-df-quickchart {\n",
              "    background-color: var(--bg-color);\n",
              "    border: none;\n",
              "    border-radius: 50%;\n",
              "    cursor: pointer;\n",
              "    display: none;\n",
              "    fill: var(--fill-color);\n",
              "    height: 32px;\n",
              "    padding: 0;\n",
              "    width: 32px;\n",
              "  }\n",
              "\n",
              "  .colab-df-quickchart:hover {\n",
              "    background-color: var(--hover-bg-color);\n",
              "    box-shadow: 0 1px 2px rgba(60, 64, 67, 0.3), 0 1px 3px 1px rgba(60, 64, 67, 0.15);\n",
              "    fill: var(--button-hover-fill-color);\n",
              "  }\n",
              "\n",
              "  .colab-df-quickchart-complete:disabled,\n",
              "  .colab-df-quickchart-complete:disabled:hover {\n",
              "    background-color: var(--disabled-bg-color);\n",
              "    fill: var(--disabled-fill-color);\n",
              "    box-shadow: none;\n",
              "  }\n",
              "\n",
              "  .colab-df-spinner {\n",
              "    border: 2px solid var(--fill-color);\n",
              "    border-color: transparent;\n",
              "    border-bottom-color: var(--fill-color);\n",
              "    animation:\n",
              "      spin 1s steps(1) infinite;\n",
              "  }\n",
              "\n",
              "  @keyframes spin {\n",
              "    0% {\n",
              "      border-color: transparent;\n",
              "      border-bottom-color: var(--fill-color);\n",
              "      border-left-color: var(--fill-color);\n",
              "    }\n",
              "    20% {\n",
              "      border-color: transparent;\n",
              "      border-left-color: var(--fill-color);\n",
              "      border-top-color: var(--fill-color);\n",
              "    }\n",
              "    30% {\n",
              "      border-color: transparent;\n",
              "      border-left-color: var(--fill-color);\n",
              "      border-top-color: var(--fill-color);\n",
              "      border-right-color: var(--fill-color);\n",
              "    }\n",
              "    40% {\n",
              "      border-color: transparent;\n",
              "      border-right-color: var(--fill-color);\n",
              "      border-top-color: var(--fill-color);\n",
              "    }\n",
              "    60% {\n",
              "      border-color: transparent;\n",
              "      border-right-color: var(--fill-color);\n",
              "    }\n",
              "    80% {\n",
              "      border-color: transparent;\n",
              "      border-right-color: var(--fill-color);\n",
              "      border-bottom-color: var(--fill-color);\n",
              "    }\n",
              "    90% {\n",
              "      border-color: transparent;\n",
              "      border-bottom-color: var(--fill-color);\n",
              "    }\n",
              "  }\n",
              "</style>\n",
              "\n",
              "  <script>\n",
              "    async function quickchart(key) {\n",
              "      const quickchartButtonEl =\n",
              "        document.querySelector('#' + key + ' button');\n",
              "      quickchartButtonEl.disabled = true;  // To prevent multiple clicks.\n",
              "      quickchartButtonEl.classList.add('colab-df-spinner');\n",
              "      try {\n",
              "        const charts = await google.colab.kernel.invokeFunction(\n",
              "            'suggestCharts', [key], {});\n",
              "      } catch (error) {\n",
              "        console.error('Error during call to suggestCharts:', error);\n",
              "      }\n",
              "      quickchartButtonEl.classList.remove('colab-df-spinner');\n",
              "      quickchartButtonEl.classList.add('colab-df-quickchart-complete');\n",
              "    }\n",
              "    (() => {\n",
              "      let quickchartButtonEl =\n",
              "        document.querySelector('#df-328836d1-ec71-4707-a576-b8e0c622c3f7 button');\n",
              "      quickchartButtonEl.style.display =\n",
              "        google.colab.kernel.accessAllowed ? 'block' : 'none';\n",
              "    })();\n",
              "  </script>\n",
              "</div>\n",
              "\n",
              "    </div>\n",
              "  </div>\n"
            ],
            "text/plain": [
              "              Price     Open     High      Low    Vol. Change %   Average\n",
              "Date                                                                     \n",
              "2022-02-11  42388.4  43519.3  43915.1  42023.4  69.95K   -2.60%  42969.25\n",
              "2022-02-12  42205.2  42388.4  43006.4  41776.8  37.88K   -0.43%  42391.60\n",
              "2022-02-13  42061.1  42205.5  42725.1  41880.1  25.88K   -0.34%  42302.60\n",
              "2022-02-14  42550.3  42061.1  42799.7  41591.3  53.60K    1.16%  42195.50\n",
              "2022-02-15  44544.4  42550.3  44722.6  42460.1  56.34K    4.69%  43591.35"
            ]
          },
          "execution_count": 128,
          "metadata": {},
          "output_type": "execute_result"
        }
      ],
      "source": [
        "test_df.head()"
      ]
    },
    {
      "cell_type": "code",
      "execution_count": 129,
      "metadata": {
        "id": "c3rx9u-5ac-u"
      },
      "outputs": [],
      "source": [
        "# Take the Average column and transform to arrays\n",
        "train_data = train_df['Average'].values.reshape(-1, 1)\n",
        "test_data = test_df['Average'].values.reshape(-1, 1)"
      ]
    },
    {
      "cell_type": "code",
      "execution_count": 130,
      "metadata": {
        "id": "-eM_46S8pCQp"
      },
      "outputs": [],
      "source": [
        "# df[(df.index.year == 2020) & (df.index.month == 12)]"
      ]
    },
    {
      "cell_type": "markdown",
      "metadata": {
        "id": "5os_dppRbirb"
      },
      "source": [
        "### Normalizing the Data"
      ]
    },
    {
      "cell_type": "code",
      "execution_count": 131,
      "metadata": {
        "id": "R4-K1bcpbif7"
      },
      "outputs": [],
      "source": [
        "# Scale the data to be between 0 and 1\n",
        "# When scaling remember! You normalize both test and train data with respect to training data\n",
        "# Because you are not supposed to have access to test data\n",
        "scaler = MinMaxScaler()\n",
        "train_data = train_data.reshape(-1, 1)\n",
        "test_data = test_data.reshape(-1, 1)"
      ]
    },
    {
      "cell_type": "markdown",
      "metadata": {
        "id": "2eFN2V_3b9ZF"
      },
      "source": [
        "Due to your earlier observation that different time periods of data have different value ranges, you normalize the data by splitting the full series into windows. If you don't do this, the earlier data will be close to 0 and will not add much value to the learning process. Here, you choose a window size of 2500.\n",
        "\n",
        "**Tip**: When choosing the window size, make sure it's not too small. When you perform windowed normalization, it can introduce a break at the very end of each window, as each window is normalized independently.\n",
        "\n",
        "In this example, 4 data points will be affected by this. But given you have 11,000 data points, 4 points will not cause any issue."
      ]
    },
    {
      "cell_type": "code",
      "execution_count": 132,
      "metadata": {
        "id": "omUbWqoIrS0J"
      },
      "outputs": [],
      "source": [
        "# df.loc[:\"2017-01-02\", :]"
      ]
    },
    {
      "cell_type": "code",
      "execution_count": 133,
      "metadata": {
        "id": "jxJ0j63GwP_k"
      },
      "outputs": [],
      "source": [
        "# train_data[:2359,:]"
      ]
    },
    {
      "cell_type": "code",
      "execution_count": 134,
      "metadata": {
        "id": "7dzrm4fyu79p"
      },
      "outputs": [],
      "source": [
        "# until 2017-01-01\n",
        "scaler.fit(train_data[:2359, :])\n",
        "train_data[:2359, :] = scaler.transform(train_data[:2359, :])\n",
        "\n",
        "# 2017-01-01 to 2020-12-15\n",
        "scaler.fit(train_data[2359:3802, :])\n",
        "train_data[2359:3802, :] = scaler.transform(train_data[2359:3802, :])\n",
        "\n",
        "# 2020-12-16 to 2022-02-10\n",
        "scaler.fit(train_data[3802:, :])\n",
        "train_data[3802:, :] = scaler.transform(train_data[3802:, :])"
      ]
    },
    {
      "cell_type": "code",
      "execution_count": 135,
      "metadata": {
        "id": "i9n14zkzwNDT"
      },
      "outputs": [],
      "source": [
        "# Reshape both train and test data\n",
        "train_data = train_data.reshape(-1)\n",
        "train_data_reshaped = train_data.reshape(-1, 1)\n",
        "\n",
        "# Normalize test data or no...\n",
        "test_data = scaler.transform(test_data).reshape(-1)\n",
        "test_data_original = scaler.inverse_transform(test_data.reshape(-1, 1))"
      ]
    },
    {
      "cell_type": "markdown",
      "metadata": {
        "id": "t5luzSxUxsD4"
      },
      "source": [
        "You can now smooth the data using the exponential moving average. This helps eliminate the inherent raggedness of bitcoin prices and produce a smoother curve."
      ]
    },
    {
      "cell_type": "code",
      "execution_count": 136,
      "metadata": {
        "id": "TX_OTqdhxgPE"
      },
      "outputs": [],
      "source": [
        "# Now perform exponential moving average smoothing\n",
        "# So the data will have a smoother curve than the original ragged data\n",
        "EMA = 0.0\n",
        "gamma = 0.1\n",
        "for ti in range(len(train_data)):\n",
        "  EMA = gamma * train_data[ti] + (1 - gamma) * EMA\n",
        "  train_data[ti] = EMA\n",
        "\n",
        "# Used for visualization and test purposes\n",
        "all_mid_data = np.concatenate([train_data, test_data], axis=0)"
      ]
    },
    {
      "cell_type": "markdown",
      "metadata": {
        "id": "YryGa-tv4V9H"
      },
      "source": [
        "### Simple Moving Average"
      ]
    },
    {
      "cell_type": "code",
      "execution_count": 137,
      "metadata": {
        "colab": {
          "base_uri": "https://localhost:8080/"
        },
        "id": "AUBllfaHzluV",
        "outputId": "a4fe13b5-1ee5-436d-9568-609ff7b2b5c9"
      },
      "outputs": [
        {
          "name": "stdout",
          "output_type": "stream",
          "text": [
            "MSE error for standard averaging: 0.00409\n"
          ]
        }
      ],
      "source": [
        "# Standard average method\n",
        "window_size = 50  # days\n",
        "N = train_data.size\n",
        "std_avg_predictions = []\n",
        "std_avg_x = []\n",
        "mse_errors = []\n",
        "\n",
        "for pred_idx in range(window_size, N):\n",
        "    date = df.index[pred_idx]\n",
        "\n",
        "    # mean of previous window_size days\n",
        "    std_avg_predictions.append(np.mean(train_data[pred_idx - window_size: pred_idx]))\n",
        "\n",
        "    # Calculate MSE for the prediction\n",
        "    mse_errors.append((std_avg_predictions[-1] - train_data[pred_idx])**2)\n",
        "    std_avg_x.append(date)\n",
        "\n",
        "mse_error = 0.5 * np.mean(mse_errors)\n",
        "print(f'MSE error for standard averaging: {mse_error:.5f}')\n"
      ]
    },
    {
      "cell_type": "code",
      "execution_count": 138,
      "metadata": {
        "colab": {
          "base_uri": "https://localhost:8080/"
        },
        "id": "IGLwfagV2EyG",
        "outputId": "87cea3ee-66b9-4200-8e97-0b52f1e2c90f"
      },
      "outputs": [
        {
          "data": {
            "text/plain": [
              "range(50, 4226)"
            ]
          },
          "execution_count": 138,
          "metadata": {},
          "output_type": "execute_result"
        }
      ],
      "source": [
        "range(window_size, N)"
      ]
    },
    {
      "cell_type": "code",
      "execution_count": 139,
      "metadata": {
        "colab": {
          "base_uri": "https://localhost:8080/",
          "height": 679
        },
        "id": "LCQA6LhT0ahI",
        "outputId": "0f56b68b-64f7-401f-db04-6e004464e413"
      },
      "outputs": [
        {
          "data": {
            "image/png": "[encoded data removed]",
            "text/plain": [
              "<Figure size 1600x900 with 1 Axes>"
            ]
          },
          "metadata": {},
          "output_type": "display_data"
        }
      ],
      "source": [
        "xticks_position = range(0, df.shape[0], 365*2)\n",
        "xticks_labels = df.index[xticks_position].strftime('%Y')\n",
        "\n",
        "plt.figure(figsize = (16, 9))\n",
        "plt.plot(range(df.shape[0]), all_mid_data, color='b', label='Actual')\n",
        "plt.plot(range(window_size, N), std_avg_predictions, color='orange', label='Predicted')\n",
        "plt.xticks(xticks_position, xticks_labels)\n",
        "plt.title('Simple Moving Average')\n",
        "plt.xlabel('Date')\n",
        "plt.ylabel('Mid Price')\n",
        "plt.legend(fontsize=16)\n",
        "plt.grid(True)\n",
        "plt.show()"
      ]
    },
    {
      "cell_type": "markdown",
      "metadata": {
        "id": "HGTFPIlI4QYN"
      },
      "source": [
        "### Exponential Moving Average"
      ]
    },
    {
      "cell_type": "markdown",
      "metadata": {
        "id": "OpySnIVx5C2k"
      },
      "source": [
        "The formula for the **Exponential Moving Average (EMA)** is as follows:\n",
        "\n",
        "$$\n",
        "\\text{EMA}_t = \\alpha \\times X_t + (1 - \\alpha) \\times \\text{EMA}_{t-1}\n",
        "$$\n",
        "\n",
        "Where:\n",
        "- $ \\text{EMA}_t $ is the EMA value at time $ t $.\n",
        "- $ X_t $ is the actual data value at time $ t $ (e.g., the price or value at time $ t $).\n",
        "- $ \\text{EMA}_{t-1} $ is the EMA value at time $ t-1 $, the previous time step.\n",
        "- $ \\alpha $ is the smoothing factor, calculated as:\n",
        "  $$\n",
        "  \\alpha = \\frac{2}{m + 1}\n",
        "  $$\n",
        "  Where $ m $ is the number of periods over which the EMA is calculated. For example, if you are calculating a 10-day EMA, $ m $ would be 10.\n",
        "\n",
        "### Intuition:\n",
        "- The **smoothing factor** $ \\alpha $ determines the weight given to the most recent data point compared to the previous EMA value. The larger the value of $ \\alpha $, the more weight is given to recent values. For example, a $\\alpha=0.1$ gets only 10% of the current value into the EMA. Because you take only a very small fraction of the most recent, it allows to preserve much older values you saw very early in the average.\n",
        "- The EMA is more responsive to recent changes in the data compared to a simple moving average (SMA), which gives equal weight to all data points in the window.\n",
        "\n",
        "### Calculation Steps:\n",
        "1. Start by calculating the simple moving average (SMA) for the initial period (usually the first $ N $ data points).\n",
        "2. Then, use the EMA formula to update the value for subsequent periods, incorporating both the previous EMA and the new data point.\n",
        "\n"
      ]
    },
    {
      "cell_type": "code",
      "execution_count": 140,
      "metadata": {
        "colab": {
          "base_uri": "https://localhost:8080/"
        },
        "id": "2p5y8k_S3kCb",
        "outputId": "d4056ddb-3d41-4fa6-d684-89b368d4357c"
      },
      "outputs": [
        {
          "name": "stdout",
          "output_type": "stream",
          "text": [
            "MSE error for EMA Moving Average: 0.00007\n"
          ]
        }
      ],
      "source": [
        "window_size = 50\n",
        "N = train_data.size\n",
        "\n",
        "run_avg_predictions = []\n",
        "run_avg_x = []\n",
        "mse_errors = []\n",
        "\n",
        "running_mean = 0.0\n",
        "run_avg_predictions.append(running_mean)\n",
        "\n",
        "alpha = 0.5\n",
        "\n",
        "for pred_idx in range(1, N):\n",
        "    running_mean = running_mean * alpha + (1.0 - alpha) * train_data[pred_idx - 1]\n",
        "    run_avg_predictions.append(running_mean)\n",
        "    mse_errors.append((run_avg_predictions[-1] - train_data[pred_idx]) ** 2)\n",
        "    run_avg_x.append(date)\n",
        "\n",
        "ema_mse_error = 0.5 * np.mean(mse_errors)\n",
        "print(f\"MSE error for EMA Moving Average: {ema_mse_error:.5f}\")"
      ]
    },
    {
      "cell_type": "code",
      "execution_count": 141,
      "metadata": {
        "colab": {
          "base_uri": "https://localhost:8080/",
          "height": 679
        },
        "id": "dDbd3j327ReS",
        "outputId": "5601dd84-c87b-4f86-8149-7424a60ee0bc"
      },
      "outputs": [
        {
          "data": {
            "image/png": "[encoded data removed]",
            "text/plain": [
              "<Figure size 1600x900 with 1 Axes>"
            ]
          },
          "metadata": {},
          "output_type": "display_data"
        }
      ],
      "source": [
        "xticks_position = range(0, df.shape[0], 365*2)\n",
        "xticks_labels = df.index[xticks_position].strftime('%Y')\n",
        "\n",
        "plt.figure(figsize = (16, 9))\n",
        "plt.plot(range(df.shape[0]), all_mid_data, color='b', label='Actual')\n",
        "plt.plot(range(0, N), run_avg_predictions, color='orange', label='Predicted')\n",
        "plt.xticks(xticks_position, xticks_labels)\n",
        "plt.title('Exponential Moving Average')\n",
        "plt.xlabel('Date')\n",
        "plt.ylabel('Mid Price')\n",
        "plt.grid(True)\n",
        "plt.legend(fontsize=16)\n",
        "plt.show()"
      ]
    },
    {
      "cell_type": "markdown",
      "metadata": {
        "id": "ILZhMymZ-dAP"
      },
      "source": [
        "#### If the exponential moving average is this good, why do you need better models?\n",
        "\n",
        "You see that it fits a perfect line that follows the True distribution (and justified by the very low MSE). Practically speaking, you can't do much with just the stock market value of the next day. Personally, what I'd like is not the exact stock market price for the next day, but would the stock market prices go up or down in the next 30 days? Try to do this, and you will expose the incapability of the EMA method."
      ]
    },
    {
      "cell_type": "markdown",
      "metadata": {
        "id": "KF7Dpeud-ooe"
      },
      "source": [
        "Predict more than one step into the future\n",
        "\n",
        "To make things concrete, let's assume values, say $x_t=0.4$, $EMA=0.5$ and $\\alpha = 0.5$\n",
        "\n",
        "Say you get the output with the following equation\n",
        "  - Xt+1 = EMAt = γEMAt-1 + (1 - γ)Xt\n",
        "  - So you have xt+1 = 0.5 * 0.5 + (1-0.5) * 0.4 = 0.45\n",
        "  - So Xt+1 = EMAt = 0.45\n",
        "\n",
        "So the next prediction Xt+2 becomes:\n",
        "  - Xt+2 = γ * EMAt + (1-γ)Xt+1\n",
        "  - Which is Xt+2 = γ * EMA_t + (1-γ) EMAt = EMAt\n",
        "  - Or in this example, Xt+2 = Xt+1 = 0.45\n",
        "\n",
        "So, no matter how many steps you predict in the future, you'll keep getting the same answer for all the future prediction steps."
      ]
    },
    {
      "cell_type": "markdown",
      "metadata": {
        "id": "20Z3o8pVNnvH"
      },
      "source": [
        "---"
      ]
    },
    {
      "cell_type": "markdown",
      "metadata": {
        "id": "XmWwPM3qBNI2"
      },
      "source": [
        "### LSTM"
      ]
    },
    {
      "cell_type": "code",
      "execution_count": 142,
      "metadata": {
        "id": "l65kJ42-8SsL"
      },
      "outputs": [],
      "source": [
        "def split_sequence(sequence, n_steps):\n",
        "    X, y = list(), list()\n",
        "    for i in range(len(sequence)):\n",
        "        end_ix = i + n_steps\n",
        "        if end_ix > len(sequence) - 1:\n",
        "            break\n",
        "        seq_x, seq_y = sequence[i:end_ix], sequence[end_ix]\n",
        "        X.append(seq_x)\n",
        "        y.append(seq_y)\n",
        "    return np.array(X), np.array(y)\n",
        "\n",
        "\n",
        "n_steps = 60 # ADJUST\n",
        "features = 1\n",
        "\n",
        "# split into samples - supervised learning like\n",
        "X_train, y_train = split_sequence(train_data, n_steps)"
      ]
    },
    {
      "cell_type": "code",
      "execution_count": 143,
      "metadata": {
        "colab": {
          "base_uri": "https://localhost:8080/"
        },
        "id": "NwCBxvlD_T9V",
        "outputId": "70b316bc-c57e-45d7-9e56-c47ac43a05ea"
      },
      "outputs": [
        {
          "data": {
            "text/plain": [
              "4166"
            ]
          },
          "execution_count": 143,
          "metadata": {},
          "output_type": "execute_result"
        }
      ],
      "source": [
        "X_train.shape[0]"
      ]
    },
    {
      "cell_type": "code",
      "execution_count": 144,
      "metadata": {
        "id": "MnItbmRf_OqW"
      },
      "outputs": [],
      "source": [
        "# Reshaping X_train for model\n",
        "X_train = X_train.reshape(X_train.shape[0], X_train.shape[1], features)"
      ]
    },
    {
      "cell_type": "code",
      "execution_count": 147,
      "metadata": {
        "colab": {
          "base_uri": "https://localhost:8080/",
          "height": 248
        },
        "id": "HKcA8sMmCjRj",
        "outputId": "15a84bc7-1197-47d5-cba6-917151b8cfff"
      },
      "outputs": [
        {
          "name": "stderr",
          "output_type": "stream",
          "text": [
            "/usr/local/lib/python3.11/dist-packages/keras/src/layers/rnn/rnn.py:204: UserWarning: Do not pass an `input_shape`/`input_dim` argument to a layer. When using Sequential models, prefer using an `Input(shape)` object as the first layer in the model instead.\n",
            "  super().__init__(**kwargs)\n"
          ]
        },
        {
          "data": {
            "text/html": [
              "<pre style=\"white-space:pre;overflow-x:auto;line-height:normal;font-family:Menlo,'DejaVu Sans Mono',consolas,'Courier New',monospace\"><span style=\"font-weight: bold\">Model: \"sequential\"</span>\n",
              "</pre>\n"
            ],
            "text/plain": [
              "\u001b[1mModel: \"sequential\"\u001b[0m\n"
            ]
          },
          "metadata": {},
          "output_type": "display_data"
        },
        {
          "data": {
            "text/html": [
              "<pre style=\"white-space:pre;overflow-x:auto;line-height:normal;font-family:Menlo,'DejaVu Sans Mono',consolas,'Courier New',monospace\">┏━━━━━━━━━━━━━━━━━━━━━━━━━━━━━━━━━━━━━━┳━━━━━━━━━━━━━━━━━━━━━━━━━━━━━┳━━━━━━━━━━━━━━━━━┓\n",
              "┃<span style=\"font-weight: bold\"> Layer (type)                         </span>┃<span style=\"font-weight: bold\"> Output Shape                </span>┃<span style=\"font-weight: bold\">         Param # </span>┃\n",
              "┡━━━━━━━━━━━━━━━━━━━━━━━━━━━━━━━━━━━━━━╇━━━━━━━━━━━━━━━━━━━━━━━━━━━━━╇━━━━━━━━━━━━━━━━━┩\n",
              "│ lstm (<span style=\"color: #0087ff; text-decoration-color: #0087ff\">LSTM</span>)                          │ (<span style=\"color: #00d7ff; text-decoration-color: #00d7ff\">None</span>, <span style=\"color: #00af00; text-decoration-color: #00af00\">125</span>)                 │          <span style=\"color: #00af00; text-decoration-color: #00af00\">63,500</span> │\n",
              "├──────────────────────────────────────┼─────────────────────────────┼─────────────────┤\n",
              "│ dense (<span style=\"color: #0087ff; text-decoration-color: #0087ff\">Dense</span>)                        │ (<span style=\"color: #00d7ff; text-decoration-color: #00d7ff\">None</span>, <span style=\"color: #00af00; text-decoration-color: #00af00\">1</span>)                   │             <span style=\"color: #00af00; text-decoration-color: #00af00\">126</span> │\n",
              "└──────────────────────────────────────┴─────────────────────────────┴─────────────────┘\n",
              "</pre>\n"
            ],
            "text/plain": [
              "┏━━━━━━━━━━━━━━━━━━━━━━━━━━━━━━━━━━━━━━┳━━━━━━━━━━━━━━━━━━━━━━━━━━━━━┳━━━━━━━━━━━━━━━━━┓\n",
              "┃\u001b[1m \u001b[0m\u001b[1mLayer (type)                        \u001b[0m\u001b[1m \u001b[0m┃\u001b[1m \u001b[0m\u001b[1mOutput Shape               \u001b[0m\u001b[1m \u001b[0m┃\u001b[1m \u001b[0m\u001b[1m        Param #\u001b[0m\u001b[1m \u001b[0m┃\n",
              "┡━━━━━━━━━━━━━━━━━━━━━━━━━━━━━━━━━━━━━━╇━━━━━━━━━━━━━━━━━━━━━━━━━━━━━╇━━━━━━━━━━━━━━━━━┩\n",
              "│ lstm (\u001b[38;5;33mLSTM\u001b[0m)                          │ (\u001b[38;5;45mNone\u001b[0m, \u001b[38;5;34m125\u001b[0m)                 │          \u001b[38;5;34m63,500\u001b[0m │\n",
              "├──────────────────────────────────────┼─────────────────────────────┼─────────────────┤\n",
              "│ dense (\u001b[38;5;33mDense\u001b[0m)                        │ (\u001b[38;5;45mNone\u001b[0m, \u001b[38;5;34m1\u001b[0m)                   │             \u001b[38;5;34m126\u001b[0m │\n",
              "└──────────────────────────────────────┴─────────────────────────────┴─────────────────┘\n"
            ]
          },
          "metadata": {},
          "output_type": "display_data"
        },
        {
          "data": {
            "text/html": [
              "<pre style=\"white-space:pre;overflow-x:auto;line-height:normal;font-family:Menlo,'DejaVu Sans Mono',consolas,'Courier New',monospace\"><span style=\"font-weight: bold\"> Total params: </span><span style=\"color: #00af00; text-decoration-color: #00af00\">63,626</span> (248.54 KB)\n",
              "</pre>\n"
            ],
            "text/plain": [
              "\u001b[1m Total params: \u001b[0m\u001b[38;5;34m63,626\u001b[0m (248.54 KB)\n"
            ]
          },
          "metadata": {},
          "output_type": "display_data"
        },
        {
          "data": {
            "text/html": [
              "<pre style=\"white-space:pre;overflow-x:auto;line-height:normal;font-family:Menlo,'DejaVu Sans Mono',consolas,'Courier New',monospace\"><span style=\"font-weight: bold\"> Trainable params: </span><span style=\"color: #00af00; text-decoration-color: #00af00\">63,626</span> (248.54 KB)\n",
              "</pre>\n"
            ],
            "text/plain": [
              "\u001b[1m Trainable params: \u001b[0m\u001b[38;5;34m63,626\u001b[0m (248.54 KB)\n"
            ]
          },
          "metadata": {},
          "output_type": "display_data"
        },
        {
          "data": {
            "text/html": [
              "<pre style=\"white-space:pre;overflow-x:auto;line-height:normal;font-family:Menlo,'DejaVu Sans Mono',consolas,'Courier New',monospace\"><span style=\"font-weight: bold\"> Non-trainable params: </span><span style=\"color: #00af00; text-decoration-color: #00af00\">0</span> (0.00 B)\n",
              "</pre>\n"
            ],
            "text/plain": [
              "\u001b[1m Non-trainable params: \u001b[0m\u001b[38;5;34m0\u001b[0m (0.00 B)\n"
            ]
          },
          "metadata": {},
          "output_type": "display_data"
        }
      ],
      "source": [
        "# The LSTM architecture\n",
        "model_lstm = Sequential()\n",
        "model_lstm.add(LSTM(units=125, activation=\"tanh\", input_shape=(n_steps, features)))\n",
        "model_lstm.add(Dense(units=1))\n",
        "# Compiling the model\n",
        "model_lstm.compile(optimizer=\"RMSprop\", loss=\"mse\")\n",
        "\n",
        "model_lstm.summary()"
      ]
    },
    {
      "cell_type": "code",
      "execution_count": 151,
      "metadata": {
        "colab": {
          "base_uri": "https://localhost:8080/"
        },
        "id": "bVoKfek5CwEW",
        "outputId": "74c6e3e8-86e7-4830-cd96-3d28433ded64"
      },
      "outputs": [
        {
          "name": "stdout",
          "output_type": "stream",
          "text": [
            "Epoch 1/50\n",
            "\u001b[1m131/131\u001b[0m \u001b[32m━━━━━━━━━━━━━━━━━━━━\u001b[0m\u001b[37m\u001b[0m \u001b[1m12s\u001b[0m 74ms/step - loss: 0.0093\n",
            "Epoch 2/50\n",
            "\u001b[1m131/131\u001b[0m \u001b[32m━━━━━━━━━━━━━━━━━━━━\u001b[0m\u001b[37m\u001b[0m \u001b[1m10s\u001b[0m 73ms/step - loss: 8.3329e-04\n",
            "Epoch 3/50\n",
            "\u001b[1m131/131\u001b[0m \u001b[32m━━━━━━━━━━━━━━━━━━━━\u001b[0m\u001b[37m\u001b[0m \u001b[1m8s\u001b[0m 62ms/step - loss: 6.9041e-04\n",
            "Epoch 4/50\n",
            "\u001b[1m131/131\u001b[0m \u001b[32m━━━━━━━━━━━━━━━━━━━━\u001b[0m\u001b[37m\u001b[0m \u001b[1m11s\u001b[0m 64ms/step - loss: 3.5386e-04\n",
            "Epoch 5/50\n",
            "\u001b[1m131/131\u001b[0m \u001b[32m━━━━━━━━━━━━━━━━━━━━\u001b[0m\u001b[37m\u001b[0m \u001b[1m11s\u001b[0m 73ms/step - loss: 3.5213e-04\n",
            "Epoch 6/50\n",
            "\u001b[1m131/131\u001b[0m \u001b[32m━━━━━━━━━━━━━━━━━━━━\u001b[0m\u001b[37m\u001b[0m \u001b[1m11s\u001b[0m 76ms/step - loss: 2.9537e-04\n",
            "Epoch 7/50\n",
            "\u001b[1m131/131\u001b[0m \u001b[32m━━━━━━━━━━━━━━━━━━━━\u001b[0m\u001b[37m\u001b[0m \u001b[1m14s\u001b[0m 108ms/step - loss: 2.7248e-04\n",
            "Epoch 8/50\n",
            "\u001b[1m131/131\u001b[0m \u001b[32m━━━━━━━━━━━━━━━━━━━━\u001b[0m\u001b[37m\u001b[0m \u001b[1m16s\u001b[0m 74ms/step - loss: 2.4928e-04\n",
            "Epoch 9/50\n",
            "\u001b[1m131/131\u001b[0m \u001b[32m━━━━━━━━━━━━━━━━━━━━\u001b[0m\u001b[37m\u001b[0m \u001b[1m10s\u001b[0m 79ms/step - loss: 2.3349e-04\n",
            "Epoch 10/50\n",
            "\u001b[1m131/131\u001b[0m \u001b[32m━━━━━━━━━━━━━━━━━━━━\u001b[0m\u001b[37m\u001b[0m \u001b[1m26s\u001b[0m 120ms/step - loss: 2.1696e-04\n",
            "Epoch 11/50\n",
            "\u001b[1m131/131\u001b[0m \u001b[32m━━━━━━━━━━━━━━━━━━━━\u001b[0m\u001b[37m\u001b[0m \u001b[1m17s\u001b[0m 95ms/step - loss: 2.0274e-04\n",
            "Epoch 12/50\n",
            "\u001b[1m131/131\u001b[0m \u001b[32m━━━━━━━━━━━━━━━━━━━━\u001b[0m\u001b[37m\u001b[0m \u001b[1m18s\u001b[0m 74ms/step - loss: 1.9076e-04\n",
            "Epoch 13/50\n",
            "\u001b[1m131/131\u001b[0m \u001b[32m━━━━━━━━━━━━━━━━━━━━\u001b[0m\u001b[37m\u001b[0m \u001b[1m11s\u001b[0m 79ms/step - loss: 1.8051e-04\n",
            "Epoch 14/50\n",
            "\u001b[1m131/131\u001b[0m \u001b[32m━━━━━━━━━━━━━━━━━━━━\u001b[0m\u001b[37m\u001b[0m \u001b[1m22s\u001b[0m 92ms/step - loss: 1.7707e-04\n",
            "Epoch 15/50\n",
            "\u001b[1m131/131\u001b[0m \u001b[32m━━━━━━━━━━━━━━━━━━━━\u001b[0m\u001b[37m\u001b[0m \u001b[1m10s\u001b[0m 75ms/step - loss: 1.7259e-04\n",
            "Epoch 16/50\n",
            "\u001b[1m131/131\u001b[0m \u001b[32m━━━━━━━━━━━━━━━━━━━━\u001b[0m\u001b[37m\u001b[0m \u001b[1m10s\u001b[0m 75ms/step - loss: 1.6839e-04\n",
            "Epoch 17/50\n",
            "\u001b[1m131/131\u001b[0m \u001b[32m━━━━━━━━━━━━━━━━━━━━\u001b[0m\u001b[37m\u001b[0m \u001b[1m8s\u001b[0m 62ms/step - loss: 1.6505e-04\n",
            "Epoch 18/50\n",
            "\u001b[1m131/131\u001b[0m \u001b[32m━━━━━━━━━━━━━━━━━━━━\u001b[0m\u001b[37m\u001b[0m \u001b[1m10s\u001b[0m 75ms/step - loss: 1.6128e-04\n",
            "Epoch 19/50\n",
            "\u001b[1m131/131\u001b[0m \u001b[32m━━━━━━━━━━━━━━━━━━━━\u001b[0m\u001b[37m\u001b[0m \u001b[1m10s\u001b[0m 77ms/step - loss: 9.6609e-05\n",
            "Epoch 20/50\n",
            "\u001b[1m131/131\u001b[0m \u001b[32m━━━━━━━━━━━━━━━━━━━━\u001b[0m\u001b[37m\u001b[0m \u001b[1m8s\u001b[0m 61ms/step - loss: 9.3630e-05\n",
            "Epoch 21/50\n",
            "\u001b[1m131/131\u001b[0m \u001b[32m━━━━━━━━━━━━━━━━━━━━\u001b[0m\u001b[37m\u001b[0m \u001b[1m12s\u001b[0m 71ms/step - loss: 9.0238e-05\n",
            "Epoch 22/50\n",
            "\u001b[1m131/131\u001b[0m \u001b[32m━━━━━━━━━━━━━━━━━━━━\u001b[0m\u001b[37m\u001b[0m \u001b[1m12s\u001b[0m 83ms/step - loss: 8.7350e-05\n",
            "Epoch 23/50\n",
            "\u001b[1m131/131\u001b[0m \u001b[32m━━━━━━━━━━━━━━━━━━━━\u001b[0m\u001b[37m\u001b[0m \u001b[1m12s\u001b[0m 94ms/step - loss: 8.4695e-05\n",
            "Epoch 24/50\n",
            "\u001b[1m131/131\u001b[0m \u001b[32m━━━━━━━━━━━━━━━━━━━━\u001b[0m\u001b[37m\u001b[0m \u001b[1m18s\u001b[0m 74ms/step - loss: 8.2212e-05\n",
            "Epoch 25/50\n",
            "\u001b[1m131/131\u001b[0m \u001b[32m━━━━━━━━━━━━━━━━━━━━\u001b[0m\u001b[37m\u001b[0m \u001b[1m10s\u001b[0m 74ms/step - loss: 7.9874e-05\n",
            "Epoch 26/50\n",
            "\u001b[1m131/131\u001b[0m \u001b[32m━━━━━━━━━━━━━━━━━━━━\u001b[0m\u001b[37m\u001b[0m \u001b[1m9s\u001b[0m 61ms/step - loss: 7.7669e-05\n",
            "Epoch 27/50\n",
            "\u001b[1m131/131\u001b[0m \u001b[32m━━━━━━━━━━━━━━━━━━━━\u001b[0m\u001b[37m\u001b[0m \u001b[1m10s\u001b[0m 73ms/step - loss: 7.5587e-05\n",
            "Epoch 28/50\n",
            "\u001b[1m131/131\u001b[0m \u001b[32m━━━━━━━━━━━━━━━━━━━━\u001b[0m\u001b[37m\u001b[0m \u001b[1m10s\u001b[0m 74ms/step - loss: 7.3621e-05\n",
            "Epoch 29/50\n",
            "\u001b[1m131/131\u001b[0m \u001b[32m━━━━━━━━━━━━━━━━━━━━\u001b[0m\u001b[37m\u001b[0m \u001b[1m8s\u001b[0m 60ms/step - loss: 7.1763e-05\n",
            "Epoch 30/50\n",
            "\u001b[1m131/131\u001b[0m \u001b[32m━━━━━━━━━━━━━━━━━━━━\u001b[0m\u001b[37m\u001b[0m \u001b[1m11s\u001b[0m 69ms/step - loss: 7.0005e-05\n",
            "Epoch 31/50\n",
            "\u001b[1m131/131\u001b[0m \u001b[32m━━━━━━━━━━━━━━━━━━━━\u001b[0m\u001b[37m\u001b[0m \u001b[1m10s\u001b[0m 74ms/step - loss: 6.8341e-05\n",
            "Epoch 32/50\n",
            "\u001b[1m131/131\u001b[0m \u001b[32m━━━━━━━━━━━━━━━━━━━━\u001b[0m\u001b[37m\u001b[0m \u001b[1m14s\u001b[0m 104ms/step - loss: 6.6772e-05\n",
            "Epoch 33/50\n",
            "\u001b[1m131/131\u001b[0m \u001b[32m━━━━━━━━━━━━━━━━━━━━\u001b[0m\u001b[37m\u001b[0m \u001b[1m8s\u001b[0m 61ms/step - loss: 6.5304e-05\n",
            "Epoch 34/50\n",
            "\u001b[1m131/131\u001b[0m \u001b[32m━━━━━━━━━━━━━━━━━━━━\u001b[0m\u001b[37m\u001b[0m \u001b[1m10s\u001b[0m 74ms/step - loss: 6.3944e-05\n",
            "Epoch 35/50\n",
            "\u001b[1m131/131\u001b[0m \u001b[32m━━━━━━━━━━━━━━━━━━━━\u001b[0m\u001b[37m\u001b[0m \u001b[1m10s\u001b[0m 75ms/step - loss: 6.2698e-05\n",
            "Epoch 36/50\n",
            "\u001b[1m131/131\u001b[0m \u001b[32m━━━━━━━━━━━━━━━━━━━━\u001b[0m\u001b[37m\u001b[0m \u001b[1m8s\u001b[0m 61ms/step - loss: 6.1553e-05\n",
            "Epoch 37/50\n",
            "\u001b[1m131/131\u001b[0m \u001b[32m━━━━━━━━━━━━━━━━━━━━\u001b[0m\u001b[37m\u001b[0m \u001b[1m11s\u001b[0m 67ms/step - loss: 6.0481e-05\n",
            "Epoch 38/50\n",
            "\u001b[1m131/131\u001b[0m \u001b[32m━━━━━━━━━━━━━━━━━━━━\u001b[0m\u001b[37m\u001b[0m \u001b[1m12s\u001b[0m 81ms/step - loss: 5.9456e-05\n",
            "Epoch 39/50\n",
            "\u001b[1m131/131\u001b[0m \u001b[32m━━━━━━━━━━━━━━━━━━━━\u001b[0m\u001b[37m\u001b[0m \u001b[1m11s\u001b[0m 81ms/step - loss: 5.8486e-05\n",
            "Epoch 40/50\n",
            "\u001b[1m131/131\u001b[0m \u001b[32m━━━━━━━━━━━━━━━━━━━━\u001b[0m\u001b[37m\u001b[0m \u001b[1m8s\u001b[0m 60ms/step - loss: 5.7585e-05\n",
            "Epoch 41/50\n",
            "\u001b[1m131/131\u001b[0m \u001b[32m━━━━━━━━━━━━━━━━━━━━\u001b[0m\u001b[37m\u001b[0m \u001b[1m10s\u001b[0m 61ms/step - loss: 5.6749e-05\n",
            "Epoch 42/50\n",
            "\u001b[1m131/131\u001b[0m \u001b[32m━━━━━━━━━━━━━━━━━━━━\u001b[0m\u001b[37m\u001b[0m \u001b[1m12s\u001b[0m 75ms/step - loss: 5.5963e-05\n",
            "Epoch 43/50\n",
            "\u001b[1m131/131\u001b[0m \u001b[32m━━━━━━━━━━━━━━━━━━━━\u001b[0m\u001b[37m\u001b[0m \u001b[1m10s\u001b[0m 74ms/step - loss: 5.5218e-05\n",
            "Epoch 44/50\n",
            "\u001b[1m131/131\u001b[0m \u001b[32m━━━━━━━━━━━━━━━━━━━━\u001b[0m\u001b[37m\u001b[0m \u001b[1m8s\u001b[0m 60ms/step - loss: 5.4512e-05\n",
            "Epoch 45/50\n",
            "\u001b[1m131/131\u001b[0m \u001b[32m━━━━━━━━━━━━━━━━━━━━\u001b[0m\u001b[37m\u001b[0m \u001b[1m10s\u001b[0m 75ms/step - loss: 5.3845e-05\n",
            "Epoch 46/50\n",
            "\u001b[1m131/131\u001b[0m \u001b[32m━━━━━━━━━━━━━━━━━━━━\u001b[0m\u001b[37m\u001b[0m \u001b[1m10s\u001b[0m 73ms/step - loss: 5.3207e-05\n",
            "Epoch 47/50\n",
            "\u001b[1m131/131\u001b[0m \u001b[32m━━━━━━━━━━━━━━━━━━━━\u001b[0m\u001b[37m\u001b[0m \u001b[1m8s\u001b[0m 61ms/step - loss: 5.2587e-05\n",
            "Epoch 48/50\n",
            "\u001b[1m131/131\u001b[0m \u001b[32m━━━━━━━━━━━━━━━━━━━━\u001b[0m\u001b[37m\u001b[0m \u001b[1m11s\u001b[0m 64ms/step - loss: 5.1981e-05\n",
            "Epoch 49/50\n",
            "\u001b[1m131/131\u001b[0m \u001b[32m━━━━━━━━━━━━━━━━━━━━\u001b[0m\u001b[37m\u001b[0m \u001b[1m11s\u001b[0m 73ms/step - loss: 5.1388e-05\n",
            "Epoch 50/50\n",
            "\u001b[1m131/131\u001b[0m \u001b[32m━━━━━━━━━━━━━━━━━━━━\u001b[0m\u001b[37m\u001b[0m \u001b[1m10s\u001b[0m 73ms/step - loss: 5.0809e-05\n"
          ]
        },
        {
          "data": {
            "text/plain": [
              "<keras.src.callbacks.history.History at 0x7e1964effbd0>"
            ]
          },
          "execution_count": 151,
          "metadata": {},
          "output_type": "execute_result"
        }
      ],
      "source": [
        "# 10 min\n",
        "model_lstm.fit(X_train, y_train, epochs=50, batch_size=32)"
      ]
    },
    {
      "cell_type": "code",
      "execution_count": 163,
      "metadata": {
        "colab": {
          "base_uri": "https://localhost:8080/"
        },
        "id": "d6TjdXc6DIcn",
        "outputId": "45e00539-861a-4ada-9f68-4c6b6624425d"
      },
      "outputs": [
        {
          "name": "stdout",
          "output_type": "stream",
          "text": [
            "\u001b[1m33/33\u001b[0m \u001b[32m━━━━━━━━━━━━━━━━━━━━\u001b[0m\u001b[37m\u001b[0m \u001b[1m1s\u001b[0m 21ms/step\n"
          ]
        }
      ],
      "source": [
        "df_total = df.loc[:, \"Average\"]\n",
        "inputs = df_total[len(df_total) - len(test_data) - n_steps :].values\n",
        "inputs = inputs.reshape(-1, 1)\n",
        "#scaling\n",
        "inputs = scaler.transform(inputs)\n",
        "\n",
        "# # Split into samples\n",
        "X_test, y_test = split_sequence(inputs, n_steps)\n",
        "# # reshape\n",
        "X_test = X_test.reshape(X_test.shape[0], X_test.shape[1], features)\n",
        "# #prediction\n",
        "predicted_stock_price = model_lstm.predict(X_test)\n",
        "# #inverse transform the values\n",
        "predicted_stock_price = scaler.inverse_transform(predicted_stock_price)\n"
      ]
    },
    {
      "cell_type": "code",
      "execution_count": 173,
      "metadata": {
        "colab": {
          "base_uri": "https://localhost:8080/"
        },
        "id": "zvLEUwChHRIx",
        "outputId": "ff3870a2-47c5-4357-ddd7-3841b2d22d3d"
      },
      "outputs": [
        {
          "data": {
            "text/plain": [
              "1056"
            ]
          },
          "execution_count": 173,
          "metadata": {},
          "output_type": "execute_result"
        }
      ],
      "source": [
        "len(test_data)"
      ]
    },
    {
      "cell_type": "code",
      "execution_count": 172,
      "metadata": {
        "colab": {
          "base_uri": "https://localhost:8080/"
        },
        "id": "atjYU5YvHTnG",
        "outputId": "2ba28b94-43e2-4211-f146-2bff70fa3ae6"
      },
      "outputs": [
        {
          "data": {
            "text/plain": [
              "1116"
            ]
          },
          "execution_count": 172,
          "metadata": {},
          "output_type": "execute_result"
        }
      ],
      "source": [
        "len(inputs)"
      ]
    },
    {
      "cell_type": "code",
      "execution_count": 166,
      "metadata": {
        "id": "KBMJWZWQGKbA"
      },
      "outputs": [],
      "source": [
        "def plot_predictions(test, predicted):\n",
        "    plt.figure(figsize=(16, 9))\n",
        "    plt.plot(test, color=\"gray\", label=\"Real\")\n",
        "    plt.plot(predicted, color=\"red\", label=\"Predicted\")\n",
        "    plt.title(\"MasterCard Stock Price Prediction\")\n",
        "    plt.xlabel(\"Time\")\n",
        "    plt.ylabel(\"MasterCard Stock Price\")\n",
        "    plt.legend()\n",
        "    plt.show()\n",
        "\n",
        "\n",
        "def return_rmse(test, predicted):\n",
        "    rmse = np.sqrt(mean_squared_error(test, predicted))\n",
        "    print(\"The root mean squared error is {:.2f}.\".format(rmse))"
      ]
    },
    {
      "cell_type": "code",
      "execution_count": 174,
      "metadata": {
        "colab": {
          "base_uri": "https://localhost:8080/",
          "height": 669
        },
        "id": "po-xcxktGjQ0",
        "outputId": "d072602b-dc96-4dbf-bb06-2e724dd53d4f"
      },
      "outputs": [
        {
          "data": {
            "image/png": "[encoded data removed]",
            "text/plain": [
              "<Figure size 1600x900 with 1 Axes>"
            ]
          },
          "metadata": {},
          "output_type": "display_data"
        }
      ],
      "source": [
        "plot_predictions(inputs, predicted_stock_price)"
      ]
    },
    {
      "cell_type": "code",
      "execution_count": 175,
      "metadata": {
        "colab": {
          "base_uri": "https://localhost:8080/"
        },
        "id": "XaS2dOvuG-4h",
        "outputId": "092334c7-6f16-4d40-c45b-0c80eedb3c82"
      },
      "outputs": [
        {
          "name": "stdout",
          "output_type": "stream",
          "text": [
            "The root mean squared error is 46023.34.\n"
          ]
        }
      ],
      "source": [
        "return_rmse(test_data, predicted_stock_price)"
      ]
    },
    {
      "cell_type": "code",
      "execution_count": 145,
      "metadata": {
        "colab": {
          "base_uri": "https://localhost:8080/",
          "height": 106
        },
        "id": "0TD85poy8QYN",
        "outputId": "cddc9541-6492-4c62-9b18-57ecdbb05108"
      },
      "outputs": [
        {
          "ename": "SyntaxError",
          "evalue": "invalid syntax (<ipython-input-145-fd1e73118abe>, line 1)",
          "output_type": "error",
          "traceback": [
            "\u001b[0;36m  File \u001b[0;32m\"<ipython-input-145-fd1e73118abe>\"\u001b[0;36m, line \u001b[0;32m1\u001b[0m\n\u001b[0;31m    bla bla bla\u001b[0m\n\u001b[0m        ^\u001b[0m\n\u001b[0;31mSyntaxError\u001b[0m\u001b[0;31m:\u001b[0m invalid syntax\n"
          ]
        }
      ],
      "source": [
        "bla bla bla"
      ]
    },
    {
      "cell_type": "code",
      "execution_count": null,
      "metadata": {
        "id": "LxLMEjHv8Guj"
      },
      "outputs": [],
      "source": [
        "class DataGeneratorSeq(object):\n",
        "\n",
        "    def __init__(self, prices, batch_size, num_unroll):\n",
        "        self._prices = prices\n",
        "        self._prices_length = len(self._prices) - num_unroll\n",
        "        self._batch_size = batch_size\n",
        "        self._num_unroll = num_unroll\n",
        "        self._segments = self._prices_length //self._batch_size\n",
        "        self._cursor = [offset * self._segments for offset in range(self._batch_size)]\n",
        "\n",
        "    def next_batch(self):\n",
        "\n",
        "        batch_data = np.zeros((self._batch_size),dtype=np.float32)\n",
        "        batch_labels = np.zeros((self._batch_size),dtype=np.float32)\n",
        "\n",
        "        for b in range(self._batch_size):\n",
        "            if self._cursor[b]+1>=self._prices_length:\n",
        "                #self._cursor[b] = b * self._segments\n",
        "                self._cursor[b] = np.random.randint(0,(b+1)*self._segments)\n",
        "\n",
        "            batch_data[b] = self._prices[self._cursor[b]]\n",
        "            batch_labels[b]= self._prices[self._cursor[b]+np.random.randint(0,5)]\n",
        "\n",
        "            self._cursor[b] = (self._cursor[b]+1)%self._prices_length\n",
        "\n",
        "        return batch_data,batch_labels\n",
        "\n",
        "    def unroll_batches(self):\n",
        "\n",
        "        unroll_data,unroll_labels = [],[]\n",
        "        init_data, init_label = None,None\n",
        "        for ui in range(self._num_unroll):\n",
        "\n",
        "            data, labels = self.next_batch()\n",
        "\n",
        "            unroll_data.append(data)\n",
        "            unroll_labels.append(labels)\n",
        "\n",
        "        return unroll_data, unroll_labels\n",
        "\n",
        "    def reset_indices(self):\n",
        "        for b in range(self._batch_size):\n",
        "            self._cursor[b] = np.random.randint(0,min((b+1)*self._segments,self._prices_length-1))\n",
        "\n",
        "\n",
        "\n",
        "dg = DataGeneratorSeq(train_data, 5, 5)\n",
        "u_data, u_labels = dg.unroll_batches()\n",
        "\n",
        "for ui,(dat,lbl) in enumerate(zip(u_data,u_labels)):\n",
        "    print('\\n\\nUnrolled index %d'%ui)\n",
        "    dat_ind = dat\n",
        "    lbl_ind = lbl\n",
        "    print('\\tInputs: ',dat )\n",
        "    print('\\n\\tOutput:',lbl)"
      ]
    },
    {
      "cell_type": "code",
      "execution_count": null,
      "metadata": {
        "id": "9b7orYXUDop2"
      },
      "outputs": [],
      "source": [
        "D = 1 # Dimensionality of the data. Since your data is 1-D this would be 1\n",
        "num_unrollings = 25 # Number of time steps you look into the future.\n",
        "batch_size = 128 # Number of samples in a batch\n",
        "num_nodes = [200, 200, 150] # Number of hidden nodes in each layer of the deep LSTM stack we're using\n",
        "n_layers = len(num_nodes) # number of layers\n",
        "dropout = 0.2 # dropout amount\n",
        "\n",
        "# tf.reset_default_graph() # This is important in case you run this multiple times"
      ]
    },
    {
      "cell_type": "code",
      "execution_count": null,
      "metadata": {
        "id": "t_Y_N4hQEf23"
      },
      "outputs": [],
      "source": [
        "# Define TensorArrays to hold the inputs and outputs\n",
        "train_inputs = tf.TensorArray(dtype=tf.float32, size=num_unrollings, dynamic_size=False, clear_after_read=False)\n",
        "train_outputs = tf.TensorArray(dtype=tf.float32, size=num_unrollings, dynamic_size=False, clear_after_read=False)\n",
        "\n",
        "# Fill the TensorArrays\n",
        "for ui in range(num_unrollings):\n",
        "    train_inputs = train_inputs.write(ui, tf.zeros([batch_size, D], dtype=tf.float32))\n",
        "    train_outputs = train_outputs.write(ui, tf.zeros([batch_size, 1], dtype=tf.float32))"
      ]
    },
    {
      "cell_type": "code",
      "execution_count": null,
      "metadata": {
        "id": "VQUzpBr7E2hn"
      },
      "outputs": [],
      "source": [
        "# Define LSTM Cells with Dropout\n",
        "lstm_cells = [\n",
        "    tf.keras.layers.LSTMCell(\n",
        "        units=num_nodes[li],\n",
        "        dropout=dropout,  # Applies dropout to inputs\n",
        "        recurrent_dropout=dropout,  # Applies dropout to recurrent connections\n",
        "        kernel_initializer=tf.keras.initializers.GlorotUniform()  # Xavier initializer\n",
        "    )\n",
        "    for li in range(n_layers)\n",
        "]\n",
        "\n",
        "# Define Stacked LSTM (MultiRNN)\n",
        "multi_cell = tf.keras.layers.RNN(\n",
        "    tf.keras.layers.StackedRNNCells(lstm_cells),\n",
        "    return_sequences=True,\n",
        "    return_state=True\n",
        ")\n",
        "\n",
        "# Define weights and biases\n",
        "w = tf.Variable(tf.keras.initializers.GlorotUniform()(shape=[num_nodes[-1], 1]), name=\"w\")\n",
        "b = tf.Variable(tf.random.uniform([1], -0.1, 0.1), name=\"b\")"
      ]
    },
    {
      "cell_type": "code",
      "execution_count": null,
      "metadata": {
        "id": "j9lzYUD5JBVh"
      },
      "outputs": [],
      "source": [
        "import tensorflow as tf\n",
        "\n",
        "# Create LSTM cells with dropout\n",
        "lstm_cells = [\n",
        "    tf.keras.layers.LSTMCell(\n",
        "        units=num_nodes[li],\n",
        "        dropout=dropout,  # Dropout for input connections\n",
        "        recurrent_dropout=dropout,  # Dropout for recurrent state\n",
        "        kernel_initializer=tf.keras.initializers.GlorotUniform()\n",
        "    )\n",
        "    for li in range(n_layers)\n",
        "]\n",
        "\n",
        "# Define Stacked LSTM\n",
        "multi_cell = tf.keras.layers.StackedRNNCells(lstm_cells)\n",
        "rnn_layer = tf.keras.layers.RNN(multi_cell, return_sequences=True, return_state=True)\n",
        "\n",
        "# Initialize hidden states (c, h)\n",
        "def get_initial_state(batch_size):\n",
        "    return [tf.zeros([batch_size, num_nodes[li]]) for li in range(n_layers)], \\\n",
        "           [tf.zeros([batch_size, num_nodes[li]]) for li in range(n_layers)]\n",
        "\n",
        "c, h = get_initial_state(batch_size)\n",
        "initial_state = tuple(zip(c, h))  # Convert to tuple format\n",
        "\n",
        "# Transform input tensors\n",
        "all_inputs = tf.stack(train_inputs, axis=0)  # Shape: (num_unrollings, batch_size, input_dim)\n",
        "all_inputs = tf.transpose(all_inputs, [1, 0, 2])  # Shape: (batch_size, num_unrollings, input_dim)\n",
        "\n",
        "# Run LSTM\n",
        "all_lstm_outputs, *state = rnn_layer(all_inputs, initial_state=initial_state)\n",
        "\n",
        "# Reshape for output computation\n",
        "all_lstm_outputs = tf.reshape(all_lstm_outputs, [batch_size * num_unrollings, num_nodes[-1]])\n",
        "\n",
        "# Compute final outputs\n",
        "all_outputs = tf.matmul(all_lstm_outputs, w) + b  # Replace `tf.nn.xw_plus_b`\n",
        "\n",
        "# Split outputs into time steps\n",
        "split_outputs = tf.split(all_outputs, num_unrollings, axis=0)"
      ]
    },
    {
      "cell_type": "code",
      "execution_count": null,
      "metadata": {
        "id": "JVayhh2UJh_a"
      },
      "outputs": [],
      "source": [
        "# When calculating the loss you need to be careful about the exact form, because you calculate\n",
        "# loss of all the unrolled steps at the same time\n",
        "# Therefore, take the mean error or each batch and get the sum of that over all the unrolled steps\n",
        "\n",
        "print('Defining training Loss')\n",
        "\n",
        "# Loss function: Mean Squared Error (MSE) summed over all unrolled steps\n",
        "def compute_loss(split_outputs, train_outputs):\n",
        "    loss = tf.reduce_sum([\n",
        "        tf.reduce_mean(0.5 * (split_outputs[ui] - train_outputs[ui]) ** 2)\n",
        "        for ui in range(num_unrollings)\n",
        "    ])\n",
        "    return loss\n",
        "\n",
        "print('Learning rate decay operations')\n",
        "\n",
        "# Define learning rate decay\n",
        "global_step = tf.Variable(0, trainable=False, dtype=tf.int64)\n",
        "learning_rate_schedule = tf.keras.optimizers.schedules.ExponentialDecay(\n",
        "    initial_learning_rate=0.01,  # Set initial learning rate\n",
        "    decay_steps=1,\n",
        "    decay_rate=0.5,\n",
        "    staircase=True\n",
        ")\n",
        "\n",
        "# Optimizer\n",
        "optimizer = tf.keras.optimizers.Adam(learning_rate=learning_rate_schedule)\n",
        "\n",
        "print('TF Optimization operations')\n",
        "\n",
        "@tf.function\n",
        "def train_step(train_inputs, train_outputs, c, h):\n",
        "    with tf.GradientTape() as tape:\n",
        "        # Forward pass\n",
        "        all_inputs = tf.stack(train_inputs, axis=0)  # Shape: (num_unrollings, batch_size, input_dim)\n",
        "        all_inputs = tf.transpose(all_inputs, [1, 0, 2])  # Shape: (batch_size, num_unrollings, input_dim)\n",
        "\n",
        "        # Run RNN\n",
        "        all_lstm_outputs, *state = rnn_layer(all_inputs, initial_state=(c, h))\n",
        "\n",
        "        # Reshape outputs\n",
        "        all_lstm_outputs = tf.reshape(all_lstm_outputs, [batch_size * num_unrollings, num_nodes[-1]])\n",
        "        all_outputs = tf.matmul(all_lstm_outputs, w) + b  # Linear layer\n",
        "\n",
        "        # Split outputs\n",
        "        split_outputs = tf.split(all_outputs, num_unrollings, axis=0)\n",
        "\n",
        "        # Compute loss\n",
        "        loss = compute_loss(split_outputs, train_outputs)\n",
        "\n",
        "    # Compute gradients\n",
        "    gradients = tape.gradient(loss, rnn_layer.trainable_variables + [w, b])\n",
        "\n",
        "    # Clip gradients\n",
        "    gradients, _ = tf.clip_by_global_norm(gradients, 5.0)\n",
        "\n",
        "    # Apply gradients\n",
        "    optimizer.apply_gradients(zip(gradients, rnn_layer.trainable_variables + [w, b]))\n",
        "\n",
        "    # Update LSTM state manually\n",
        "    for li in range(n_layers):\n",
        "        c[li].assign(state[li][0])\n",
        "        h[li].assign(state[li][1])\n",
        "\n",
        "    return loss\n",
        "\n",
        "print('\\tAll done')"
      ]
    },
    {
      "cell_type": "code",
      "execution_count": null,
      "metadata": {
        "id": "nlk_qRKnJzzU"
      },
      "outputs": [],
      "source": [
        "print('Defining prediction related TF functions')\n",
        "\n",
        "# Define sample input tensor\n",
        "sample_inputs = tf.keras.Input(shape=(D,), batch_size=1)\n",
        "\n",
        "# Maintaining LSTM state for prediction stage\n",
        "sample_c = [tf.Variable(tf.zeros([1, num_nodes[li]]), trainable=False) for li in range(n_layers)]\n",
        "sample_h = [tf.Variable(tf.zeros([1, num_nodes[li]]), trainable=False) for li in range(n_layers)]\n",
        "initial_sample_state = tuple(zip(sample_c, sample_h))  # Format for RNN layer\n",
        "\n",
        "# Function to reset states\n",
        "@tf.function\n",
        "def reset_sample_states():\n",
        "    for li in range(n_layers):\n",
        "        sample_c[li].assign(tf.zeros([1, num_nodes[li]]))\n",
        "        sample_h[li].assign(tf.zeros([1, num_nodes[li]]))\n",
        "\n",
        "# Define the LSTM prediction model\n",
        "rnn_layer = tf.keras.layers.RNN(multi_cell, return_sequences=True, return_state=True)\n",
        "\n",
        "@tf.function\n",
        "def sample_prediction(sample_inputs):\n",
        "    sample_inputs = tf.expand_dims(sample_inputs, axis=0)  # Add batch dimension\n",
        "\n",
        "    # Run LSTM for a single time step\n",
        "    sample_outputs, *sample_state = rnn_layer(sample_inputs, initial_state=initial_sample_state)\n",
        "\n",
        "    # Update LSTM state\n",
        "    for li in range(n_layers):\n",
        "        sample_c[li].assign(sample_state[li][0])\n",
        "        sample_h[li].assign(sample_state[li][1])\n",
        "\n",
        "    # Compute final prediction\n",
        "    sample_outputs = tf.reshape(sample_outputs, [1, -1])\n",
        "    prediction = tf.matmul(sample_outputs, w) + b  # Replacing `tf.nn.xw_plus_b`\n",
        "\n",
        "    return prediction\n",
        "\n",
        "print('\\tAll done')"
      ]
    },
    {
      "cell_type": "code",
      "execution_count": null,
      "metadata": {
        "id": "HNrrSqx8LXCX"
      },
      "outputs": [],
      "source": [
        "# Define the LSTM Model\n",
        "def create_lstm_model(input_shape, num_layers, num_nodes, dropout_rate):\n",
        "    model = tf.keras.Sequential()\n",
        "\n",
        "    # Adding multiple LSTM layers\n",
        "    for li in range(num_layers):\n",
        "        model.add(tf.keras.layers.LSTM(\n",
        "            num_nodes[li],\n",
        "            return_sequences=True if li < num_layers - 1 else False,\n",
        "            stateful=False,  # Make sure stateful is False for simplicity\n",
        "            dropout=dropout_rate,\n",
        "            input_shape=input_shape if li == 0 else None\n",
        "        ))\n",
        "\n",
        "    # Dense layer for output\n",
        "    model.add(tf.keras.layers.Dense(1))\n",
        "\n",
        "    return model\n",
        "\n",
        "# Model parameters\n",
        "input_shape = (None, D)  # Adjust 'D' to your feature dimension\n",
        "num_layers = n_layers  # Define the number of layers\n",
        "num_nodes = [200] * num_layers  # Define the number of nodes in each layer (you can customize this)\n",
        "dropout_rate = 0.2  # Define the dropout rate (you can adjust this)\n",
        "\n",
        "# Create the LSTM model\n",
        "lstm_model = create_lstm_model(input_shape, num_layers, num_nodes, dropout_rate)\n",
        "\n",
        "# Compile the model\n",
        "lstm_model.compile(optimizer=tf.keras.optimizers.Adam(), loss='mse')\n"
      ]
    },
    {
      "cell_type": "code",
      "execution_count": null,
      "metadata": {
        "id": "tNnC2h2fMvWH"
      },
      "outputs": [],
      "source": [
        "df.shape"
      ]
    },
    {
      "cell_type": "code",
      "execution_count": null,
      "metadata": {
        "id": "-jDQx-F1MUMj"
      },
      "outputs": [],
      "source": [
        "print('Initializing Training Process')\n",
        "\n",
        "epochs = 30\n",
        "valid_summary = 1  # Interval for test predictions\n",
        "n_predict_once = 50  # Number of future steps to predict\n",
        "train_seq_length = train_data.size  # Full training data length\n",
        "\n",
        "train_mse_ot = []  # Store training loss\n",
        "test_mse_ot = []  # Store test loss\n",
        "predictions_over_time = []  # Store predictions\n",
        "\n",
        "# Learning rate schedule\n",
        "loss_nondecrease_count = 0\n",
        "loss_nondecrease_threshold = 2\n",
        "\n",
        "# Define optimizer\n",
        "optimizer = tf.keras.optimizers.Adam()\n",
        "\n",
        "# Define dataset generator\n",
        "data_gen = DataGeneratorSeq(train_data, batch_size, num_unrollings)\n",
        "\n",
        "# Track x-axis values for visualization\n",
        "x_axis_seq = []\n",
        "\n",
        "# Points for test predictions\n",
        "test_points_seq = np.arange(, 5282, 50).tolist()"
      ]
    },
    {
      "cell_type": "code",
      "execution_count": null,
      "metadata": {
        "id": "EQSySj8kKYTg"
      },
      "outputs": [],
      "source": [
        "# Define the loss and optimizer\n",
        "optimizer = tf.keras.optimizers.Adam()\n",
        "\n",
        "for ep in range(epochs):\n",
        "    print(f\"Epoch {ep+1}/{epochs}\")\n",
        "\n",
        "    # ========================= Training =====================================\n",
        "    average_loss = 0\n",
        "\n",
        "    for step in range(train_seq_length // batch_size):\n",
        "        u_data, u_labels = data_gen.unroll_batches()\n",
        "\n",
        "        # Convert data to tensors\n",
        "        u_data_tensor = [tf.convert_to_tensor(dat.reshape(-1, 1), dtype=tf.float32) for dat in u_data]\n",
        "        u_labels_tensor = [tf.convert_to_tensor(lbl.reshape(-1, 1), dtype=tf.float32) for lbl in u_labels]\n",
        "\n",
        "        with tf.GradientTape() as tape:\n",
        "            loss = 0\n",
        "            for ui in range(num_unrollings):\n",
        "                predictions = lstm_model(u_data_tensor[ui])  # Forward pass\n",
        "                loss += tf.reduce_mean(0.5 * (predictions - u_labels_tensor[ui]) ** 2)\n",
        "\n",
        "        # Compute gradients and update model weights\n",
        "        gradients = tape.gradient(loss, lstm_model.trainable_variables)\n",
        "        optimizer.apply_gradients(zip(gradients, lstm_model.trainable_variables))\n",
        "\n",
        "        average_loss += loss.numpy()\n",
        "\n",
        "    # ============================ Validation ==============================\n",
        "    if (ep + 1) % valid_summary == 0:\n",
        "        average_loss /= (valid_summary * (train_seq_length // batch_size))\n",
        "        train_mse_ot.append(average_loss)\n",
        "\n",
        "        print(f\"Average loss at epoch {ep+1}: {average_loss:.6f}\")\n",
        "\n",
        "        predictions_seq = []\n",
        "        mse_test_loss_seq = []\n",
        "\n",
        "        # ===================== Making Predictions ========================\n",
        "        for w_i in test_points_seq:\n",
        "            mse_test_loss = 0.0\n",
        "            our_predictions = []\n",
        "\n",
        "            x_axis = [] if (ep + 1) - valid_summary == 0 else None\n",
        "\n",
        "            # Feed recent stock price history\n",
        "            for tr_i in range(w_i - num_unrollings + 1, w_i - 1):\n",
        "                current_price = all_mid_data[tr_i]\n",
        "                current_price_tensor = tf.convert_to_tensor(np.array(current_price).reshape(1, 1), dtype=tf.float32)\n",
        "                lstm_model.predict(current_price_tensor)  # Run model to update state\n",
        "\n",
        "            # Predict future prices\n",
        "            current_price = all_mid_data[w_i - 1]\n",
        "            current_price_tensor = tf.convert_to_tensor(np.array(current_price).reshape(1, 1), dtype=tf.float32)\n",
        "\n",
        "            for pred_i in range(n_predict_once):\n",
        "                pred = lstm_model.predict(current_price_tensor)\n",
        "                pred_value = pred.numpy().item()\n",
        "\n",
        "                our_predictions.append(pred_value)\n",
        "                current_price_tensor = tf.convert_to_tensor(np.array(pred_value).reshape(-1, 1), dtype=tf.float32)\n",
        "\n",
        "                if x_axis is not None:\n",
        "                    x_axis.append(w_i + pred_i)\n",
        "\n",
        "                mse_test_loss += 0.5 * (pred_value - all_mid_data[w_i + pred_i]) ** 2\n",
        "\n",
        "            predictions_seq.append(np.array(our_predictions))\n",
        "            mse_test_loss /= n_predict_once\n",
        "            mse_test_loss_seq.append(mse_test_loss)\n",
        "\n",
        "            if x_axis is not None:\n",
        "                x_axis_seq.append(x_axis)\n",
        "\n",
        "        current_test_mse = np.mean(mse_test_loss_seq)\n",
        "\n",
        "        # Learning rate decay logic\n",
        "        if len(test_mse_ot) > 0 and current_test_mse > min(test_mse_ot):\n",
        "            loss_nondecrease_count += 1\n",
        "        else:\n",
        "            loss_nondecrease_count = 0\n",
        "\n",
        "        if loss_nondecrease_count > loss_nondecrease_threshold:\n",
        "            optimizer.learning_rate.assign(optimizer.learning_rate * 0.5)\n",
        "            loss_nondecrease_count = 0\n",
        "            print(\"\\tDecreasing learning rate by 0.5\")\n",
        "\n",
        "        test_mse_ot.append(current_test_mse)\n",
        "        print(f\"\\tTest MSE: {current_test_mse:.5f}\")\n",
        "        predictions_over_time.append(predictions_seq)\n",
        "        print(\"\\tFinished Predictions\")\n"
      ]
    },
    {
      "cell_type": "markdown",
      "metadata": {
        "id": "lMKb4RlZO9Hr"
      },
      "source": [
        "*ja pierdole...*"
      ]
    }
  ],
  "metadata": {
    "colab": {
      "provenance": []
    },
    "kernelspec": {
      "display_name": "Python 3",
      "name": "python3"
    },
    "language_info": {
      "name": "python"
    }
  },
  "nbformat": 4,
  "nbformat_minor": 0
}
